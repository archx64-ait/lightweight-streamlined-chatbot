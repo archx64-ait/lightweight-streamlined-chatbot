{
 "cells": [
  {
   "cell_type": "markdown",
   "metadata": {},
   "source": [
    "# Selecting 1 Million Samples\n",
    "\n",
    "In the notebook, I will select 1 million rows from `dialogueText_196.csv` without losing context\n",
    "\n",
    "## Load the full dataset"
   ]
  },
  {
   "cell_type": "code",
   "execution_count": 1,
   "metadata": {},
   "outputs": [
    {
     "data": {
      "text/html": [
       "<div>\n",
       "<style scoped>\n",
       "    .dataframe tbody tr th:only-of-type {\n",
       "        vertical-align: middle;\n",
       "    }\n",
       "\n",
       "    .dataframe tbody tr th {\n",
       "        vertical-align: top;\n",
       "    }\n",
       "\n",
       "    .dataframe thead th {\n",
       "        text-align: right;\n",
       "    }\n",
       "</style>\n",
       "<table border=\"1\" class=\"dataframe\">\n",
       "  <thead>\n",
       "    <tr style=\"text-align: right;\">\n",
       "      <th></th>\n",
       "      <th>folder</th>\n",
       "      <th>dialogueID</th>\n",
       "      <th>date</th>\n",
       "      <th>from</th>\n",
       "      <th>to</th>\n",
       "      <th>text</th>\n",
       "    </tr>\n",
       "  </thead>\n",
       "  <tbody>\n",
       "    <tr>\n",
       "      <th>0</th>\n",
       "      <td>301</td>\n",
       "      <td>1.tsv</td>\n",
       "      <td>2004-11-23T11:49:00.000Z</td>\n",
       "      <td>stuNNed</td>\n",
       "      <td>NaN</td>\n",
       "      <td>any ideas why java plugin takes so long to load?</td>\n",
       "    </tr>\n",
       "    <tr>\n",
       "      <th>1</th>\n",
       "      <td>301</td>\n",
       "      <td>1.tsv</td>\n",
       "      <td>2004-11-23T11:49:00.000Z</td>\n",
       "      <td>crimsun</td>\n",
       "      <td>stuNNed</td>\n",
       "      <td>java 1.4?</td>\n",
       "    </tr>\n",
       "    <tr>\n",
       "      <th>2</th>\n",
       "      <td>301</td>\n",
       "      <td>1.tsv</td>\n",
       "      <td>2004-11-23T11:49:00.000Z</td>\n",
       "      <td>stuNNed</td>\n",
       "      <td>crimsun</td>\n",
       "      <td>yes</td>\n",
       "    </tr>\n",
       "    <tr>\n",
       "      <th>3</th>\n",
       "      <td>301</td>\n",
       "      <td>1.tsv</td>\n",
       "      <td>2004-11-23T11:49:00.000Z</td>\n",
       "      <td>crimsun</td>\n",
       "      <td>stuNNed</td>\n",
       "      <td>java 1.5 loads _much_ faster</td>\n",
       "    </tr>\n",
       "    <tr>\n",
       "      <th>4</th>\n",
       "      <td>301</td>\n",
       "      <td>1.tsv</td>\n",
       "      <td>2004-11-23T11:50:00.000Z</td>\n",
       "      <td>stuNNed</td>\n",
       "      <td>crimsun</td>\n",
       "      <td>noneus: how can i get 1.5 is there a .deb some...</td>\n",
       "    </tr>\n",
       "    <tr>\n",
       "      <th>...</th>\n",
       "      <td>...</td>\n",
       "      <td>...</td>\n",
       "      <td>...</td>\n",
       "      <td>...</td>\n",
       "      <td>...</td>\n",
       "      <td>...</td>\n",
       "    </tr>\n",
       "    <tr>\n",
       "      <th>9212872</th>\n",
       "      <td>13</td>\n",
       "      <td>3676.tsv</td>\n",
       "      <td>2012-07-07T20:17:00.000Z</td>\n",
       "      <td>MonkeyDust</td>\n",
       "      <td>legolas</td>\n",
       "      <td>= arian</td>\n",
       "    </tr>\n",
       "    <tr>\n",
       "      <th>9212873</th>\n",
       "      <td>13</td>\n",
       "      <td>3676.tsv</td>\n",
       "      <td>2012-07-07T20:18:00.000Z</td>\n",
       "      <td>MonkeyDust</td>\n",
       "      <td>legolas</td>\n",
       "      <td>observation and deduction, dear watson</td>\n",
       "    </tr>\n",
       "    <tr>\n",
       "      <th>9212874</th>\n",
       "      <td>13</td>\n",
       "      <td>16586.tsv</td>\n",
       "      <td>2008-07-25T01:53:00.000Z</td>\n",
       "      <td>linuxfce</td>\n",
       "      <td>NaN</td>\n",
       "      <td>i am trying to install nvidia drivers from the...</td>\n",
       "    </tr>\n",
       "    <tr>\n",
       "      <th>9212875</th>\n",
       "      <td>13</td>\n",
       "      <td>16586.tsv</td>\n",
       "      <td>2008-07-25T01:53:00.000Z</td>\n",
       "      <td>linuxfce</td>\n",
       "      <td>NaN</td>\n",
       "      <td>how do i enter runlevel 3? when i try telinit ...</td>\n",
       "    </tr>\n",
       "    <tr>\n",
       "      <th>9212876</th>\n",
       "      <td>13</td>\n",
       "      <td>16586.tsv</td>\n",
       "      <td>2008-07-25T01:54:00.000Z</td>\n",
       "      <td>linuxfce</td>\n",
       "      <td>NaN</td>\n",
       "      <td>anyone know how to enter runlevel 3 in ubuntu?</td>\n",
       "    </tr>\n",
       "  </tbody>\n",
       "</table>\n",
       "<p>9212877 rows × 6 columns</p>\n",
       "</div>"
      ],
      "text/plain": [
       "         folder dialogueID                      date        from       to  \\\n",
       "0           301      1.tsv  2004-11-23T11:49:00.000Z     stuNNed      NaN   \n",
       "1           301      1.tsv  2004-11-23T11:49:00.000Z     crimsun  stuNNed   \n",
       "2           301      1.tsv  2004-11-23T11:49:00.000Z     stuNNed  crimsun   \n",
       "3           301      1.tsv  2004-11-23T11:49:00.000Z     crimsun  stuNNed   \n",
       "4           301      1.tsv  2004-11-23T11:50:00.000Z     stuNNed  crimsun   \n",
       "...         ...        ...                       ...         ...      ...   \n",
       "9212872      13   3676.tsv  2012-07-07T20:17:00.000Z  MonkeyDust  legolas   \n",
       "9212873      13   3676.tsv  2012-07-07T20:18:00.000Z  MonkeyDust  legolas   \n",
       "9212874      13  16586.tsv  2008-07-25T01:53:00.000Z    linuxfce      NaN   \n",
       "9212875      13  16586.tsv  2008-07-25T01:53:00.000Z    linuxfce      NaN   \n",
       "9212876      13  16586.tsv  2008-07-25T01:54:00.000Z    linuxfce      NaN   \n",
       "\n",
       "                                                      text  \n",
       "0         any ideas why java plugin takes so long to load?  \n",
       "1                                                java 1.4?  \n",
       "2                                                      yes  \n",
       "3                             java 1.5 loads _much_ faster  \n",
       "4        noneus: how can i get 1.5 is there a .deb some...  \n",
       "...                                                    ...  \n",
       "9212872                                            = arian  \n",
       "9212873             observation and deduction, dear watson  \n",
       "9212874  i am trying to install nvidia drivers from the...  \n",
       "9212875  how do i enter runlevel 3? when i try telinit ...  \n",
       "9212876     anyone know how to enter runlevel 3 in ubuntu?  \n",
       "\n",
       "[9212877 rows x 6 columns]"
      ]
     },
     "execution_count": 1,
     "metadata": {},
     "output_type": "execute_result"
    }
   ],
   "source": [
    "import pandas as pd\n",
    "\n",
    "df = pd.read_csv('../data/Ubuntu-dialogue-corpus/dialogueText_196.csv')\n",
    "df"
   ]
  },
  {
   "cell_type": "code",
   "execution_count": 2,
   "metadata": {},
   "outputs": [
    {
     "data": {
      "text/plain": [
       "(9212877, 6)"
      ]
     },
     "execution_count": 2,
     "metadata": {},
     "output_type": "execute_result"
    }
   ],
   "source": [
    "df.shape"
   ]
  },
  {
   "cell_type": "markdown",
   "metadata": {},
   "source": [
    "### drop folder column as it's not relevant"
   ]
  },
  {
   "cell_type": "code",
   "execution_count": 2,
   "metadata": {},
   "outputs": [
    {
     "data": {
      "application/vnd.microsoft.datawrangler.viewer.v0+json": {
       "columns": [
        {
         "name": "index",
         "rawType": "int64",
         "type": "integer"
        },
        {
         "name": "dialogueID",
         "rawType": "object",
         "type": "string"
        },
        {
         "name": "date",
         "rawType": "object",
         "type": "string"
        },
        {
         "name": "from",
         "rawType": "object",
         "type": "unknown"
        },
        {
         "name": "to",
         "rawType": "object",
         "type": "unknown"
        },
        {
         "name": "text",
         "rawType": "object",
         "type": "unknown"
        }
       ],
       "conversionMethod": "pd.DataFrame",
       "ref": "5c075fd2-44ed-45b2-a2dd-af3f27c073a4",
       "rows": [
        [
         "0",
         "1.tsv",
         "2004-11-23T11:49:00.000Z",
         "stuNNed",
         null,
         "any ideas why java plugin takes so long to load?"
        ],
        [
         "1",
         "1.tsv",
         "2004-11-23T11:49:00.000Z",
         "crimsun",
         "stuNNed",
         "java 1.4?"
        ],
        [
         "2",
         "1.tsv",
         "2004-11-23T11:49:00.000Z",
         "stuNNed",
         "crimsun",
         "yes"
        ],
        [
         "3",
         "1.tsv",
         "2004-11-23T11:49:00.000Z",
         "crimsun",
         "stuNNed",
         "java 1.5 loads _much_ faster"
        ],
        [
         "4",
         "1.tsv",
         "2004-11-23T11:50:00.000Z",
         "stuNNed",
         "crimsun",
         "noneus: how can i get 1.5 is there a .deb somewhere?"
        ],
        [
         "5",
         "1.tsv",
         "2004-11-23T11:50:00.000Z",
         "crimsun",
         "stuNNed",
         "not yet."
        ],
        [
         "6",
         "1.tsv",
         "2004-11-23T11:50:00.000Z",
         "stuNNed",
         "crimsun",
         "noneus: is this blackdown or sun?"
        ],
        [
         "7",
         "1.tsv",
         "2004-11-23T11:50:00.000Z",
         "stuNNed",
         "crimsun",
         "did you install just the jre?"
        ],
        [
         "8",
         "1.tsv",
         "2004-11-23T11:51:00.000Z",
         "crimsun",
         "stuNNed",
         "I use IBM's 1.4.2"
        ],
        [
         "9",
         "1.tsv",
         "2004-11-23T11:51:00.000Z",
         "crimsun",
         "stuNNed",
         "(jdk, because I do globus development)"
        ],
        [
         "10",
         "1.tsv",
         "2004-11-23T11:52:00.000Z",
         "stuNNed",
         "crimsun",
         "ah ok then, i'll give it a try, does IBM have a standard jre with plugin?"
        ],
        [
         "11",
         "1.tsv",
         "2004-11-23T11:52:00.000Z",
         "crimsun",
         "stuNNed",
         "yes"
        ],
        [
         "12",
         "1.tsv",
         "2004-11-23T11:52:00.000Z",
         "stuNNed",
         "crimsun",
         "thanks, i'll try that, screwed up and tried to upgrade firefox/java on my own now java takes real long time to load"
        ],
        [
         "13",
         "1.tsv",
         "2004-11-23T11:57:00.000Z",
         "stuNNed",
         "crimsun",
         "can't seem to find an ibm jre package, would you happen to have a url?"
        ],
        [
         "14",
         "1.tsv",
         "2004-11-23T11:59:00.000Z",
         "crimsun",
         "stuNNed",
         "https://www6.software.ibm.com/dl/lxdk/lxdk-p"
        ],
        [
         "15",
         "1.tsv",
         "2004-11-23T11:59:00.000Z",
         "crimsun",
         "stuNNed",
         "you have to create a login."
        ],
        [
         "16",
         "1.tsv",
         "2004-11-23T11:59:00.000Z",
         "stuNNed",
         "crimsun",
         "much appreciated"
        ],
        [
         "17",
         "1.tsv",
         "2004-11-23T12:09:00.000Z",
         "stuNNed",
         "crimsun",
         "1.42 is latest IBM java?"
        ],
        [
         "18",
         "1.tsv",
         "2004-11-23T12:10:00.000Z",
         "crimsun",
         "stuNNed",
         "yes."
        ],
        [
         "19",
         "1.tsv",
         "2004-11-23T12:10:00.000Z",
         "crimsun",
         "stuNNed",
         "for certain arches"
        ],
        [
         "20",
         "1.tsv",
         "2004-11-23T12:10:00.000Z",
         "stuNNed",
         "crimsun",
         "do you have j2se-common installed in ubuntu as well is ibm's java?"
        ],
        [
         "21",
         "1.tsv",
         "2004-11-23T12:11:00.000Z",
         "crimsun",
         "stuNNed",
         "I do not."
        ],
        [
         "22",
         "1.tsv",
         "2004-11-23T12:11:00.000Z",
         "stuNNed",
         "crimsun",
         "ok, got it"
        ],
        [
         "23",
         "1.tsv",
         "2004-11-23T12:17:00.000Z",
         "stuNNed",
         "crimsun",
         "i don't know what's up, no matter what java plugin i use, it takes a really long time to load a java applet"
        ],
        [
         "24",
         "1.tsv",
         "2004-11-23T12:31:00.000Z",
         "stuNNed",
         "crimsun",
         "are you using warty or hoary?  and firefox .9 or 1.0?"
        ],
        [
         "25",
         "1.tsv",
         "2004-11-23T12:31:00.000Z",
         "crimsun",
         "stuNNed",
         "Hoary (kernel from Warty) mixed with Debian Sid+experimental. mozilla-firefox 1.0-2 from Sid."
        ],
        [
         "26",
         "1.tsv",
         "2004-11-23T12:31:00.000Z",
         "stuNNed",
         "crimsun",
         "eh, i dare not to go there :)"
        ],
        [
         "27",
         "1.tsv",
         "2004-11-23T12:32:00.000Z",
         "stuNNed",
         "crimsun",
         "where'd you get that mozilla-firefox from sid? ;)"
        ],
        [
         "28",
         "1.tsv",
         "2004-11-23T12:32:00.000Z",
         "crimsun",
         "stuNNed",
         "it's in Sid's pool"
        ],
        [
         "29",
         "1.tsv",
         "2004-11-23T12:32:00.000Z",
         "stuNNed",
         "crimsun",
         "i can get the .deb on the web?"
        ],
        [
         "30",
         "1.tsv",
         "2004-11-23T12:33:00.000Z",
         "crimsun",
         "stuNNed",
         "sure, but I'd wait a couple days. It'll probably be in Hoary within days."
        ],
        [
         "31",
         "1.tsv",
         "2004-11-23T12:33:00.000Z",
         "stuNNed",
         "crimsun",
         "but...Hoary...isn't that unstable?"
        ],
        [
         "32",
         "1.tsv",
         "2004-11-23T12:35:00.000Z",
         "stuNNed",
         "crimsun",
         "how did you hold back and keep Warty kernel?"
        ],
        [
         "33",
         "1.tsv",
         "2004-11-23T12:36:00.000Z",
         "crimsun",
         "stuNNed",
         "I use apt-pinning to keep the linux-* (well, kernel-related) packages pinned to warty-security"
        ],
        [
         "34",
         "1.tsv",
         "2004-11-23T12:43:00.000Z",
         "stuNNed",
         "crimsun",
         "ok so far IBM's java is pretty clean, fast, and seems stable (so far) :D"
        ],
        [
         "35",
         "1.tsv",
         "2004-11-23T12:43:00.000Z",
         "crimsun",
         "stuNNed",
         "indeed."
        ],
        [
         "36",
         "1.tsv",
         "2004-11-28T11:40:00.000Z",
         "stuNNed",
         "crimsun",
         "so just wait a day for sed error to be fixed and don't `apt-get upgrade` at this time?"
        ],
        [
         "37",
         "1.tsv",
         "2004-11-28T11:45:00.000Z",
         "crimsun",
         "stuNNed",
         "it is already fixed. The matter of the fixed package migrating to pool is of time."
        ],
        [
         "38",
         "1.tsv",
         "2004-11-28T11:45:00.000Z",
         "stuNNed",
         "crimsun",
         "got it, thanks"
        ],
        [
         "39",
         "1.tsv",
         "2004-11-28T11:46:00.000Z",
         "stuNNed",
         "crimsun",
         "LOL, CRASH! :D"
        ],
        [
         "40",
         "1.tsv",
         "2004-12-18T11:16:00.000Z",
         "crimsun",
         "stuNNed",
         "dell laptop?"
        ],
        [
         "41",
         "1.tsv",
         "2004-12-18T11:16:00.000Z",
         "crimsun",
         "stuNNed",
         "lsmod|grep snd_intel8x0m|wc -l"
        ],
        [
         "42",
         "1.tsv",
         "2004-12-18T11:17:00.000Z",
         "stuNNed",
         "crimsun",
         "0 but i did install hsf deb early on then upgraded to hoary"
        ],
        [
         "43",
         "1.tsv",
         "2004-12-18T11:17:00.000Z",
         "stuNNed",
         "crimsun",
         "and yes dell laptop sorry"
        ],
        [
         "44",
         "1.tsv",
         "2004-12-18T11:18:00.000Z",
         "crimsun",
         "stuNNed",
         "look in /proc/interrupts and ensure an irq is being assigned to your sound chipset"
        ],
        [
         "45",
         "1.tsv",
         "2004-12-18T11:18:00.000Z",
         "stuNNed",
         "crimsun",
         "roger"
        ],
        [
         "46",
         "1.tsv",
         "2004-12-18T11:19:00.000Z",
         "stuNNed",
         "crimsun",
         "only thing closely resembling is i8042 would that be it?"
        ],
        [
         "47",
         "1.tsv",
         "2004-12-18T11:19:00.000Z",
         "crimsun",
         "stuNNed",
         "nope"
        ],
        [
         "48",
         "1.tsv",
         "2004-12-18T11:19:00.000Z",
         "stuNNed",
         "crimsun",
         "ok, thanks! how to fix?"
        ],
        [
         "49",
         "1.tsv",
         "2004-12-18T11:19:00.000Z",
         "crimsun",
         "stuNNed",
         "and snd_intel8x0 is loaded, correct?"
        ]
       ],
       "shape": {
        "columns": 5,
        "rows": 9212877
       }
      },
      "text/html": [
       "<div>\n",
       "<style scoped>\n",
       "    .dataframe tbody tr th:only-of-type {\n",
       "        vertical-align: middle;\n",
       "    }\n",
       "\n",
       "    .dataframe tbody tr th {\n",
       "        vertical-align: top;\n",
       "    }\n",
       "\n",
       "    .dataframe thead th {\n",
       "        text-align: right;\n",
       "    }\n",
       "</style>\n",
       "<table border=\"1\" class=\"dataframe\">\n",
       "  <thead>\n",
       "    <tr style=\"text-align: right;\">\n",
       "      <th></th>\n",
       "      <th>dialogueID</th>\n",
       "      <th>date</th>\n",
       "      <th>from</th>\n",
       "      <th>to</th>\n",
       "      <th>text</th>\n",
       "    </tr>\n",
       "  </thead>\n",
       "  <tbody>\n",
       "    <tr>\n",
       "      <th>0</th>\n",
       "      <td>1.tsv</td>\n",
       "      <td>2004-11-23T11:49:00.000Z</td>\n",
       "      <td>stuNNed</td>\n",
       "      <td>NaN</td>\n",
       "      <td>any ideas why java plugin takes so long to load?</td>\n",
       "    </tr>\n",
       "    <tr>\n",
       "      <th>1</th>\n",
       "      <td>1.tsv</td>\n",
       "      <td>2004-11-23T11:49:00.000Z</td>\n",
       "      <td>crimsun</td>\n",
       "      <td>stuNNed</td>\n",
       "      <td>java 1.4?</td>\n",
       "    </tr>\n",
       "    <tr>\n",
       "      <th>2</th>\n",
       "      <td>1.tsv</td>\n",
       "      <td>2004-11-23T11:49:00.000Z</td>\n",
       "      <td>stuNNed</td>\n",
       "      <td>crimsun</td>\n",
       "      <td>yes</td>\n",
       "    </tr>\n",
       "    <tr>\n",
       "      <th>3</th>\n",
       "      <td>1.tsv</td>\n",
       "      <td>2004-11-23T11:49:00.000Z</td>\n",
       "      <td>crimsun</td>\n",
       "      <td>stuNNed</td>\n",
       "      <td>java 1.5 loads _much_ faster</td>\n",
       "    </tr>\n",
       "    <tr>\n",
       "      <th>4</th>\n",
       "      <td>1.tsv</td>\n",
       "      <td>2004-11-23T11:50:00.000Z</td>\n",
       "      <td>stuNNed</td>\n",
       "      <td>crimsun</td>\n",
       "      <td>noneus: how can i get 1.5 is there a .deb some...</td>\n",
       "    </tr>\n",
       "    <tr>\n",
       "      <th>...</th>\n",
       "      <td>...</td>\n",
       "      <td>...</td>\n",
       "      <td>...</td>\n",
       "      <td>...</td>\n",
       "      <td>...</td>\n",
       "    </tr>\n",
       "    <tr>\n",
       "      <th>9212872</th>\n",
       "      <td>3676.tsv</td>\n",
       "      <td>2012-07-07T20:17:00.000Z</td>\n",
       "      <td>MonkeyDust</td>\n",
       "      <td>legolas</td>\n",
       "      <td>= arian</td>\n",
       "    </tr>\n",
       "    <tr>\n",
       "      <th>9212873</th>\n",
       "      <td>3676.tsv</td>\n",
       "      <td>2012-07-07T20:18:00.000Z</td>\n",
       "      <td>MonkeyDust</td>\n",
       "      <td>legolas</td>\n",
       "      <td>observation and deduction, dear watson</td>\n",
       "    </tr>\n",
       "    <tr>\n",
       "      <th>9212874</th>\n",
       "      <td>16586.tsv</td>\n",
       "      <td>2008-07-25T01:53:00.000Z</td>\n",
       "      <td>linuxfce</td>\n",
       "      <td>NaN</td>\n",
       "      <td>i am trying to install nvidia drivers from the...</td>\n",
       "    </tr>\n",
       "    <tr>\n",
       "      <th>9212875</th>\n",
       "      <td>16586.tsv</td>\n",
       "      <td>2008-07-25T01:53:00.000Z</td>\n",
       "      <td>linuxfce</td>\n",
       "      <td>NaN</td>\n",
       "      <td>how do i enter runlevel 3? when i try telinit ...</td>\n",
       "    </tr>\n",
       "    <tr>\n",
       "      <th>9212876</th>\n",
       "      <td>16586.tsv</td>\n",
       "      <td>2008-07-25T01:54:00.000Z</td>\n",
       "      <td>linuxfce</td>\n",
       "      <td>NaN</td>\n",
       "      <td>anyone know how to enter runlevel 3 in ubuntu?</td>\n",
       "    </tr>\n",
       "  </tbody>\n",
       "</table>\n",
       "<p>9212877 rows × 5 columns</p>\n",
       "</div>"
      ],
      "text/plain": [
       "        dialogueID                      date        from       to  \\\n",
       "0            1.tsv  2004-11-23T11:49:00.000Z     stuNNed      NaN   \n",
       "1            1.tsv  2004-11-23T11:49:00.000Z     crimsun  stuNNed   \n",
       "2            1.tsv  2004-11-23T11:49:00.000Z     stuNNed  crimsun   \n",
       "3            1.tsv  2004-11-23T11:49:00.000Z     crimsun  stuNNed   \n",
       "4            1.tsv  2004-11-23T11:50:00.000Z     stuNNed  crimsun   \n",
       "...            ...                       ...         ...      ...   \n",
       "9212872   3676.tsv  2012-07-07T20:17:00.000Z  MonkeyDust  legolas   \n",
       "9212873   3676.tsv  2012-07-07T20:18:00.000Z  MonkeyDust  legolas   \n",
       "9212874  16586.tsv  2008-07-25T01:53:00.000Z    linuxfce      NaN   \n",
       "9212875  16586.tsv  2008-07-25T01:53:00.000Z    linuxfce      NaN   \n",
       "9212876  16586.tsv  2008-07-25T01:54:00.000Z    linuxfce      NaN   \n",
       "\n",
       "                                                      text  \n",
       "0         any ideas why java plugin takes so long to load?  \n",
       "1                                                java 1.4?  \n",
       "2                                                      yes  \n",
       "3                             java 1.5 loads _much_ faster  \n",
       "4        noneus: how can i get 1.5 is there a .deb some...  \n",
       "...                                                    ...  \n",
       "9212872                                            = arian  \n",
       "9212873             observation and deduction, dear watson  \n",
       "9212874  i am trying to install nvidia drivers from the...  \n",
       "9212875  how do i enter runlevel 3? when i try telinit ...  \n",
       "9212876     anyone know how to enter runlevel 3 in ubuntu?  \n",
       "\n",
       "[9212877 rows x 5 columns]"
      ]
     },
     "execution_count": 2,
     "metadata": {},
     "output_type": "execute_result"
    }
   ],
   "source": [
    "df = df.drop(columns=['folder'])\n",
    "df"
   ]
  },
  {
   "cell_type": "markdown",
   "metadata": {},
   "source": [
    "## Count number of utterances per diaglogue"
   ]
  },
  {
   "cell_type": "code",
   "execution_count": 3,
   "metadata": {},
   "outputs": [
    {
     "data": {
      "application/vnd.microsoft.datawrangler.viewer.v0+json": {
       "columns": [
        {
         "name": "index",
         "rawType": "int64",
         "type": "integer"
        },
        {
         "name": "dialogueID",
         "rawType": "object",
         "type": "string"
        },
        {
         "name": "num_rows",
         "rawType": "int64",
         "type": "integer"
        }
       ],
       "conversionMethod": "pd.DataFrame",
       "ref": "ee34d1ff-543b-4fda-beca-ec6587897220",
       "rows": [
        [
         "0",
         "1.tsv",
         "32901"
        ],
        [
         "1",
         "10.tsv",
         "8825"
        ],
        [
         "2",
         "100.tsv",
         "2008"
        ],
        [
         "3",
         "1000.tsv",
         "549"
        ],
        [
         "4",
         "10000.tsv",
         "155"
        ],
        [
         "5",
         "100000.tsv",
         "8"
        ],
        [
         "6",
         "100001.tsv",
         "8"
        ],
        [
         "7",
         "100002.tsv",
         "8"
        ],
        [
         "8",
         "100003.tsv",
         "8"
        ],
        [
         "9",
         "100004.tsv",
         "8"
        ],
        [
         "10",
         "100005.tsv",
         "8"
        ],
        [
         "11",
         "100006.tsv",
         "8"
        ],
        [
         "12",
         "100007.tsv",
         "8"
        ],
        [
         "13",
         "100008.tsv",
         "8"
        ],
        [
         "14",
         "100009.tsv",
         "8"
        ],
        [
         "15",
         "10001.tsv",
         "142"
        ],
        [
         "16",
         "100010.tsv",
         "8"
        ],
        [
         "17",
         "100011.tsv",
         "8"
        ],
        [
         "18",
         "100012.tsv",
         "8"
        ],
        [
         "19",
         "100013.tsv",
         "8"
        ],
        [
         "20",
         "100014.tsv",
         "8"
        ],
        [
         "21",
         "100015.tsv",
         "8"
        ],
        [
         "22",
         "100016.tsv",
         "8"
        ],
        [
         "23",
         "100017.tsv",
         "8"
        ],
        [
         "24",
         "100018.tsv",
         "8"
        ],
        [
         "25",
         "100019.tsv",
         "8"
        ],
        [
         "26",
         "10002.tsv",
         "155"
        ],
        [
         "27",
         "100020.tsv",
         "8"
        ],
        [
         "28",
         "100021.tsv",
         "8"
        ],
        [
         "29",
         "100022.tsv",
         "8"
        ],
        [
         "30",
         "100023.tsv",
         "8"
        ],
        [
         "31",
         "100024.tsv",
         "8"
        ],
        [
         "32",
         "100025.tsv",
         "8"
        ],
        [
         "33",
         "100026.tsv",
         "8"
        ],
        [
         "34",
         "100027.tsv",
         "8"
        ],
        [
         "35",
         "100028.tsv",
         "8"
        ],
        [
         "36",
         "100029.tsv",
         "8"
        ],
        [
         "37",
         "10003.tsv",
         "155"
        ],
        [
         "38",
         "100030.tsv",
         "8"
        ],
        [
         "39",
         "100031.tsv",
         "8"
        ],
        [
         "40",
         "100032.tsv",
         "8"
        ],
        [
         "41",
         "100033.tsv",
         "8"
        ],
        [
         "42",
         "100034.tsv",
         "8"
        ],
        [
         "43",
         "100035.tsv",
         "8"
        ],
        [
         "44",
         "100036.tsv",
         "8"
        ],
        [
         "45",
         "100037.tsv",
         "8"
        ],
        [
         "46",
         "100038.tsv",
         "8"
        ],
        [
         "47",
         "100039.tsv",
         "8"
        ],
        [
         "48",
         "10004.tsv",
         "155"
        ],
        [
         "49",
         "100040.tsv",
         "8"
        ]
       ],
       "shape": {
        "columns": 2,
        "rows": 346108
       }
      },
      "text/html": [
       "<div>\n",
       "<style scoped>\n",
       "    .dataframe tbody tr th:only-of-type {\n",
       "        vertical-align: middle;\n",
       "    }\n",
       "\n",
       "    .dataframe tbody tr th {\n",
       "        vertical-align: top;\n",
       "    }\n",
       "\n",
       "    .dataframe thead th {\n",
       "        text-align: right;\n",
       "    }\n",
       "</style>\n",
       "<table border=\"1\" class=\"dataframe\">\n",
       "  <thead>\n",
       "    <tr style=\"text-align: right;\">\n",
       "      <th></th>\n",
       "      <th>dialogueID</th>\n",
       "      <th>num_rows</th>\n",
       "    </tr>\n",
       "  </thead>\n",
       "  <tbody>\n",
       "    <tr>\n",
       "      <th>0</th>\n",
       "      <td>1.tsv</td>\n",
       "      <td>32901</td>\n",
       "    </tr>\n",
       "    <tr>\n",
       "      <th>1</th>\n",
       "      <td>10.tsv</td>\n",
       "      <td>8825</td>\n",
       "    </tr>\n",
       "    <tr>\n",
       "      <th>2</th>\n",
       "      <td>100.tsv</td>\n",
       "      <td>2008</td>\n",
       "    </tr>\n",
       "    <tr>\n",
       "      <th>3</th>\n",
       "      <td>1000.tsv</td>\n",
       "      <td>549</td>\n",
       "    </tr>\n",
       "    <tr>\n",
       "      <th>4</th>\n",
       "      <td>10000.tsv</td>\n",
       "      <td>155</td>\n",
       "    </tr>\n",
       "    <tr>\n",
       "      <th>...</th>\n",
       "      <td>...</td>\n",
       "      <td>...</td>\n",
       "    </tr>\n",
       "    <tr>\n",
       "      <th>346103</th>\n",
       "      <td>99995.tsv</td>\n",
       "      <td>8</td>\n",
       "    </tr>\n",
       "    <tr>\n",
       "      <th>346104</th>\n",
       "      <td>99996.tsv</td>\n",
       "      <td>8</td>\n",
       "    </tr>\n",
       "    <tr>\n",
       "      <th>346105</th>\n",
       "      <td>99997.tsv</td>\n",
       "      <td>8</td>\n",
       "    </tr>\n",
       "    <tr>\n",
       "      <th>346106</th>\n",
       "      <td>99998.tsv</td>\n",
       "      <td>8</td>\n",
       "    </tr>\n",
       "    <tr>\n",
       "      <th>346107</th>\n",
       "      <td>99999.tsv</td>\n",
       "      <td>8</td>\n",
       "    </tr>\n",
       "  </tbody>\n",
       "</table>\n",
       "<p>346108 rows × 2 columns</p>\n",
       "</div>"
      ],
      "text/plain": [
       "       dialogueID  num_rows\n",
       "0           1.tsv     32901\n",
       "1          10.tsv      8825\n",
       "2         100.tsv      2008\n",
       "3        1000.tsv       549\n",
       "4       10000.tsv       155\n",
       "...           ...       ...\n",
       "346103  99995.tsv         8\n",
       "346104  99996.tsv         8\n",
       "346105  99997.tsv         8\n",
       "346106  99998.tsv         8\n",
       "346107  99999.tsv         8\n",
       "\n",
       "[346108 rows x 2 columns]"
      ]
     },
     "execution_count": 3,
     "metadata": {},
     "output_type": "execute_result"
    }
   ],
   "source": [
    "dialogue_lengths = df.groupby('dialogueID').size().reset_index(name='num_rows')\n",
    "dialogue_lengths"
   ]
  },
  {
   "cell_type": "markdown",
   "metadata": {},
   "source": [
    "## Sort by longest first or shuffle"
   ]
  },
  {
   "cell_type": "code",
   "execution_count": 4,
   "metadata": {},
   "outputs": [
    {
     "data": {
      "application/vnd.microsoft.datawrangler.viewer.v0+json": {
       "columns": [
        {
         "name": "index",
         "rawType": "int64",
         "type": "integer"
        },
        {
         "name": "dialogueID",
         "rawType": "object",
         "type": "string"
        },
        {
         "name": "num_rows",
         "rawType": "int64",
         "type": "integer"
        }
       ],
       "conversionMethod": "pd.DataFrame",
       "ref": "dda020e6-a2a1-4de5-af18-1dd81d13bc6f",
       "rows": [
        [
         "13270",
         "111940.tsv",
         "8"
        ],
        [
         "232094",
         "308883.tsv",
         "3"
        ],
        [
         "336949",
         "91755.tsv",
         "19"
        ],
        [
         "186042",
         "267436.tsv",
         "3"
        ],
        [
         "16486",
         "114835.tsv",
         "8"
        ],
        [
         "161514",
         "245360.tsv",
         "3"
        ],
        [
         "23080",
         "12077.tsv",
         "155"
        ],
        [
         "188118",
         "269304.tsv",
         "3"
        ],
        [
         "341486",
         "95839.tsv",
         "19"
        ],
        [
         "75402",
         "167860.tsv",
         "8"
        ],
        [
         "49557",
         "1446.tsv",
         "494"
        ],
        [
         "17738",
         "115962.tsv",
         "8"
        ],
        [
         "199892",
         "279901.tsv",
         "3"
        ],
        [
         "97849",
         "188062.tsv",
         "8"
        ],
        [
         "334186",
         "89269.tsv",
         "19"
        ],
        [
         "337819",
         "92538.tsv",
         "19"
        ],
        [
         "104067",
         "193659.tsv",
         "8"
        ],
        [
         "313309",
         "70479.tsv",
         "19"
        ],
        [
         "89701",
         "180729.tsv",
         "8"
        ],
        [
         "240027",
         "316021.tsv",
         "3"
        ],
        [
         "25747",
         "12317.tsv",
         "155"
        ],
        [
         "32896",
         "129604.tsv",
         "8"
        ],
        [
         "166859",
         "250170.tsv",
         "3"
        ],
        [
         "253826",
         "328441.tsv",
         "3"
        ],
        [
         "143101",
         "22879.tsv",
         "99"
        ],
        [
         "289064",
         "48659.tsv",
         "41"
        ],
        [
         "221528",
         "299374.tsv",
         "3"
        ],
        [
         "14029",
         "112623.tsv",
         "8"
        ],
        [
         "143177",
         "228858.tsv",
         "3"
        ],
        [
         "206649",
         "285983.tsv",
         "3"
        ],
        [
         "63378",
         "157038.tsv",
         "8"
        ],
        [
         "221500",
         "299349.tsv",
         "3"
        ],
        [
         "304699",
         "6273.tsv",
         "225"
        ],
        [
         "30116",
         "127101.tsv",
         "8"
        ],
        [
         "340575",
         "95018.tsv",
         "19"
        ],
        [
         "33201",
         "12988.tsv",
         "135"
        ],
        [
         "332308",
         "87579.tsv",
         "19"
        ],
        [
         "294762",
         "53787.tsv",
         "41"
        ],
        [
         "333389",
         "88551.tsv",
         "19"
        ],
        [
         "290373",
         "49837.tsv",
         "41"
        ],
        [
         "77345",
         "169609.tsv",
         "8"
        ],
        [
         "232918",
         "309624.tsv",
         "3"
        ],
        [
         "24639",
         "122172.tsv",
         "8"
        ],
        [
         "1189",
         "101067.tsv",
         "8"
        ],
        [
         "42877",
         "138588.tsv",
         "8"
        ],
        [
         "251067",
         "325959.tsv",
         "3"
        ],
        [
         "338580",
         "93222.tsv",
         "19"
        ],
        [
         "5998",
         "105396.tsv",
         "8"
        ],
        [
         "323081",
         "79274.tsv",
         "19"
        ],
        [
         "288927",
         "48535.tsv",
         "41"
        ]
       ],
       "shape": {
        "columns": 2,
        "rows": 346108
       }
      },
      "text/html": [
       "<div>\n",
       "<style scoped>\n",
       "    .dataframe tbody tr th:only-of-type {\n",
       "        vertical-align: middle;\n",
       "    }\n",
       "\n",
       "    .dataframe tbody tr th {\n",
       "        vertical-align: top;\n",
       "    }\n",
       "\n",
       "    .dataframe thead th {\n",
       "        text-align: right;\n",
       "    }\n",
       "</style>\n",
       "<table border=\"1\" class=\"dataframe\">\n",
       "  <thead>\n",
       "    <tr style=\"text-align: right;\">\n",
       "      <th></th>\n",
       "      <th>dialogueID</th>\n",
       "      <th>num_rows</th>\n",
       "    </tr>\n",
       "  </thead>\n",
       "  <tbody>\n",
       "    <tr>\n",
       "      <th>13270</th>\n",
       "      <td>111940.tsv</td>\n",
       "      <td>8</td>\n",
       "    </tr>\n",
       "    <tr>\n",
       "      <th>232094</th>\n",
       "      <td>308883.tsv</td>\n",
       "      <td>3</td>\n",
       "    </tr>\n",
       "    <tr>\n",
       "      <th>336949</th>\n",
       "      <td>91755.tsv</td>\n",
       "      <td>19</td>\n",
       "    </tr>\n",
       "    <tr>\n",
       "      <th>186042</th>\n",
       "      <td>267436.tsv</td>\n",
       "      <td>3</td>\n",
       "    </tr>\n",
       "    <tr>\n",
       "      <th>16486</th>\n",
       "      <td>114835.tsv</td>\n",
       "      <td>8</td>\n",
       "    </tr>\n",
       "    <tr>\n",
       "      <th>...</th>\n",
       "      <td>...</td>\n",
       "      <td>...</td>\n",
       "    </tr>\n",
       "    <tr>\n",
       "      <th>310497</th>\n",
       "      <td>67949.tsv</td>\n",
       "      <td>29</td>\n",
       "    </tr>\n",
       "    <tr>\n",
       "      <th>210104</th>\n",
       "      <td>289092.tsv</td>\n",
       "      <td>3</td>\n",
       "    </tr>\n",
       "    <tr>\n",
       "      <th>299286</th>\n",
       "      <td>57859.tsv</td>\n",
       "      <td>29</td>\n",
       "    </tr>\n",
       "    <tr>\n",
       "      <th>25015</th>\n",
       "      <td>122510.tsv</td>\n",
       "      <td>8</td>\n",
       "    </tr>\n",
       "    <tr>\n",
       "      <th>140890</th>\n",
       "      <td>2268.tsv</td>\n",
       "      <td>353</td>\n",
       "    </tr>\n",
       "  </tbody>\n",
       "</table>\n",
       "<p>346108 rows × 2 columns</p>\n",
       "</div>"
      ],
      "text/plain": [
       "        dialogueID  num_rows\n",
       "13270   111940.tsv         8\n",
       "232094  308883.tsv         3\n",
       "336949   91755.tsv        19\n",
       "186042  267436.tsv         3\n",
       "16486   114835.tsv         8\n",
       "...            ...       ...\n",
       "310497   67949.tsv        29\n",
       "210104  289092.tsv         3\n",
       "299286   57859.tsv        29\n",
       "25015   122510.tsv         8\n",
       "140890    2268.tsv       353\n",
       "\n",
       "[346108 rows x 2 columns]"
      ]
     },
     "execution_count": 4,
     "metadata": {},
     "output_type": "execute_result"
    }
   ],
   "source": [
    "dialogue_lengths = dialogue_lengths.sample(frac=1, random_state=69)\n",
    "dialogue_lengths"
   ]
  },
  {
   "cell_type": "markdown",
   "metadata": {},
   "source": [
    "## Select dialogueIDs until it reaches 1 Million rows"
   ]
  },
  {
   "cell_type": "code",
   "execution_count": 5,
   "metadata": {},
   "outputs": [],
   "source": [
    "selected_ids = []\n",
    "total = 0\n",
    "max_rows = 1000\n",
    "\n",
    "for _, row in dialogue_lengths.iterrows():\n",
    "    if total + row['num_rows'] > max_rows:\n",
    "        break\n",
    "    selected_ids.append(row['dialogueID'])\n",
    "    total += row['num_rows']\n",
    "\n",
    "# filter original dataframe\n",
    "subset_df = df[df['dialogueID'].isin(selected_ids)]\n",
    "\n",
    "subset_df.to_csv(f'sample/ubuntu_context_{max_rows}.csv')"
   ]
  }
 ],
 "metadata": {
  "kernelspec": {
   "display_name": "pytorch-cuda-12.1",
   "language": "python",
   "name": "python3"
  },
  "language_info": {
   "codemirror_mode": {
    "name": "ipython",
    "version": 3
   },
   "file_extension": ".py",
   "mimetype": "text/x-python",
   "name": "python",
   "nbconvert_exporter": "python",
   "pygments_lexer": "ipython3",
   "version": "3.12.5"
  }
 },
 "nbformat": 4,
 "nbformat_minor": 2
}
