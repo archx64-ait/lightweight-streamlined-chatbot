{
 "cells": [
  {
   "cell_type": "code",
   "execution_count": 1,
   "metadata": {},
   "outputs": [],
   "source": [
    "import pandas as pd\n",
    "\n",
    "df = pd.read_csv('sample/ubuntu_context_1000.csv')\n"
   ]
  },
  {
   "cell_type": "code",
   "execution_count": 2,
   "metadata": {},
   "outputs": [
    {
     "data": {
      "text/html": [
       "<div>\n",
       "<style scoped>\n",
       "    .dataframe tbody tr th:only-of-type {\n",
       "        vertical-align: middle;\n",
       "    }\n",
       "\n",
       "    .dataframe tbody tr th {\n",
       "        vertical-align: top;\n",
       "    }\n",
       "\n",
       "    .dataframe thead th {\n",
       "        text-align: right;\n",
       "    }\n",
       "</style>\n",
       "<table border=\"1\" class=\"dataframe\">\n",
       "  <thead>\n",
       "    <tr style=\"text-align: right;\">\n",
       "      <th></th>\n",
       "      <th>Unnamed: 0</th>\n",
       "      <th>dialogueID</th>\n",
       "      <th>date</th>\n",
       "      <th>from</th>\n",
       "      <th>to</th>\n",
       "      <th>text</th>\n",
       "    </tr>\n",
       "  </thead>\n",
       "  <tbody>\n",
       "    <tr>\n",
       "      <th>0</th>\n",
       "      <td>100015</td>\n",
       "      <td>12077.tsv</td>\n",
       "      <td>2005-01-01T13:08:00.000Z</td>\n",
       "      <td>anir</td>\n",
       "      <td>NaN</td>\n",
       "      <td>hope we will get something better linux in the...</td>\n",
       "    </tr>\n",
       "    <tr>\n",
       "      <th>1</th>\n",
       "      <td>100016</td>\n",
       "      <td>12077.tsv</td>\n",
       "      <td>2005-01-01T13:09:00.000Z</td>\n",
       "      <td>anir</td>\n",
       "      <td>NaN</td>\n",
       "      <td>now Window is coming with LongHorn... its great..</td>\n",
       "    </tr>\n",
       "    <tr>\n",
       "      <th>2</th>\n",
       "      <td>100017</td>\n",
       "      <td>12077.tsv</td>\n",
       "      <td>2005-01-01T13:10:00.000Z</td>\n",
       "      <td>anir</td>\n",
       "      <td>NaN</td>\n",
       "      <td>i have just tried transformation package in XP...</td>\n",
       "    </tr>\n",
       "    <tr>\n",
       "      <th>3</th>\n",
       "      <td>100018</td>\n",
       "      <td>12077.tsv</td>\n",
       "      <td>2005-01-01T13:10:00.000Z</td>\n",
       "      <td>anir</td>\n",
       "      <td>NaN</td>\n",
       "      <td>now the ball is in your court LINUX..</td>\n",
       "    </tr>\n",
       "    <tr>\n",
       "      <th>4</th>\n",
       "      <td>100019</td>\n",
       "      <td>12077.tsv</td>\n",
       "      <td>2005-01-01T13:11:00.000Z</td>\n",
       "      <td>anir</td>\n",
       "      <td>NaN</td>\n",
       "      <td>what happened guys.. say something</td>\n",
       "    </tr>\n",
       "    <tr>\n",
       "      <th>...</th>\n",
       "      <td>...</td>\n",
       "      <td>...</td>\n",
       "      <td>...</td>\n",
       "      <td>...</td>\n",
       "      <td>...</td>\n",
       "      <td>...</td>\n",
       "    </tr>\n",
       "    <tr>\n",
       "      <th>982</th>\n",
       "      <td>8944250</td>\n",
       "      <td>12317.tsv</td>\n",
       "      <td>2008-12-17T02:58:00.000Z</td>\n",
       "      <td>Aberation</td>\n",
       "      <td>djbushdio</td>\n",
       "      <td>nothing happens when I directly open cdrom0</td>\n",
       "    </tr>\n",
       "    <tr>\n",
       "      <th>983</th>\n",
       "      <td>8944251</td>\n",
       "      <td>12317.tsv</td>\n",
       "      <td>2008-12-17T02:59:00.000Z</td>\n",
       "      <td>Aberation</td>\n",
       "      <td>djbushdio</td>\n",
       "      <td>WAIT! I got something when opening cdrom...but...</td>\n",
       "    </tr>\n",
       "    <tr>\n",
       "      <th>984</th>\n",
       "      <td>8944252</td>\n",
       "      <td>12317.tsv</td>\n",
       "      <td>2008-12-17T03:01:00.000Z</td>\n",
       "      <td>Aberation</td>\n",
       "      <td>djbushdio</td>\n",
       "      <td>logos are fine, but the menu has many colored ...</td>\n",
       "    </tr>\n",
       "    <tr>\n",
       "      <th>985</th>\n",
       "      <td>8944253</td>\n",
       "      <td>12317.tsv</td>\n",
       "      <td>2008-12-17T03:02:00.000Z</td>\n",
       "      <td>Aberation</td>\n",
       "      <td>djbushdio</td>\n",
       "      <td>same thing when I try to read the movie...</td>\n",
       "    </tr>\n",
       "    <tr>\n",
       "      <th>986</th>\n",
       "      <td>8944254</td>\n",
       "      <td>12317.tsv</td>\n",
       "      <td>2008-12-17T03:04:00.000Z</td>\n",
       "      <td>Aberation</td>\n",
       "      <td>djbushdio</td>\n",
       "      <td>weird mplayer works</td>\n",
       "    </tr>\n",
       "  </tbody>\n",
       "</table>\n",
       "<p>987 rows × 6 columns</p>\n",
       "</div>"
      ],
      "text/plain": [
       "     Unnamed: 0 dialogueID                      date       from         to  \\\n",
       "0        100015  12077.tsv  2005-01-01T13:08:00.000Z       anir        NaN   \n",
       "1        100016  12077.tsv  2005-01-01T13:09:00.000Z       anir        NaN   \n",
       "2        100017  12077.tsv  2005-01-01T13:10:00.000Z       anir        NaN   \n",
       "3        100018  12077.tsv  2005-01-01T13:10:00.000Z       anir        NaN   \n",
       "4        100019  12077.tsv  2005-01-01T13:11:00.000Z       anir        NaN   \n",
       "..          ...        ...                       ...        ...        ...   \n",
       "982     8944250  12317.tsv  2008-12-17T02:58:00.000Z  Aberation  djbushdio   \n",
       "983     8944251  12317.tsv  2008-12-17T02:59:00.000Z  Aberation  djbushdio   \n",
       "984     8944252  12317.tsv  2008-12-17T03:01:00.000Z  Aberation  djbushdio   \n",
       "985     8944253  12317.tsv  2008-12-17T03:02:00.000Z  Aberation  djbushdio   \n",
       "986     8944254  12317.tsv  2008-12-17T03:04:00.000Z  Aberation  djbushdio   \n",
       "\n",
       "                                                  text  \n",
       "0    hope we will get something better linux in the...  \n",
       "1    now Window is coming with LongHorn... its great..  \n",
       "2    i have just tried transformation package in XP...  \n",
       "3                now the ball is in your court LINUX..  \n",
       "4                   what happened guys.. say something  \n",
       "..                                                 ...  \n",
       "982        nothing happens when I directly open cdrom0  \n",
       "983  WAIT! I got something when opening cdrom...but...  \n",
       "984  logos are fine, but the menu has many colored ...  \n",
       "985         same thing when I try to read the movie...  \n",
       "986                                weird mplayer works  \n",
       "\n",
       "[987 rows x 6 columns]"
      ]
     },
     "execution_count": 2,
     "metadata": {},
     "output_type": "execute_result"
    }
   ],
   "source": [
    "df"
   ]
  },
  {
   "cell_type": "markdown",
   "metadata": {},
   "source": [
    "## Preprocess the Data"
   ]
  },
  {
   "cell_type": "code",
   "execution_count": 3,
   "metadata": {},
   "outputs": [],
   "source": [
    "def build_prompt_response_pairs(df):\n",
    "    grouped = df.groupby('dialogueID')\n",
    "    conversations = []\n",
    "\n",
    "    for _, group in grouped:\n",
    "        sorted_group = group.sort_values('date')\n",
    "        turns = sorted_group['text'].tolist()\n",
    "\n",
    "        for i in range(len(turns) - 1):\n",
    "            prompt = turns[i]\n",
    "            response = turns[i+1]\n",
    "            conversations.append({\n",
    "                'prompt': prompt,\n",
    "                'response': response\n",
    "            })\n",
    "\n",
    "    return pd.DataFrame(conversations)"
   ]
  },
  {
   "cell_type": "code",
   "execution_count": 4,
   "metadata": {},
   "outputs": [
    {
     "data": {
      "text/html": [
       "<div>\n",
       "<style scoped>\n",
       "    .dataframe tbody tr th:only-of-type {\n",
       "        vertical-align: middle;\n",
       "    }\n",
       "\n",
       "    .dataframe tbody tr th {\n",
       "        vertical-align: top;\n",
       "    }\n",
       "\n",
       "    .dataframe thead th {\n",
       "        text-align: right;\n",
       "    }\n",
       "</style>\n",
       "<table border=\"1\" class=\"dataframe\">\n",
       "  <thead>\n",
       "    <tr style=\"text-align: right;\">\n",
       "      <th></th>\n",
       "      <th>prompt</th>\n",
       "      <th>response</th>\n",
       "    </tr>\n",
       "  </thead>\n",
       "  <tbody>\n",
       "    <tr>\n",
       "      <th>0</th>\n",
       "      <td>Anyone here that got experience with Linux (Ub...</td>\n",
       "      <td>- I have payed with the ati drivers...</td>\n",
       "    </tr>\n",
       "    <tr>\n",
       "      <th>1</th>\n",
       "      <td>- I have payed with the ati drivers...</td>\n",
       "      <td>- my card is a radeon 9550, for reference..</td>\n",
       "    </tr>\n",
       "    <tr>\n",
       "      <th>2</th>\n",
       "      <td>- my card is a radeon 9550, for reference..</td>\n",
       "      <td>: what kind of clues??</td>\n",
       "    </tr>\n",
       "    <tr>\n",
       "      <th>3</th>\n",
       "      <td>: what kind of clues??</td>\n",
       "      <td>- first off  fglrx the open source drivers jus...</td>\n",
       "    </tr>\n",
       "    <tr>\n",
       "      <th>4</th>\n",
       "      <td>- first off  fglrx the open source drivers jus...</td>\n",
       "      <td>does anybody use gdesklets widgets? im trying ...</td>\n",
       "    </tr>\n",
       "    <tr>\n",
       "      <th>...</th>\n",
       "      <td>...</td>\n",
       "      <td>...</td>\n",
       "    </tr>\n",
       "    <tr>\n",
       "      <th>958</th>\n",
       "      <td>not implementing a database :/</td>\n",
       "      <td>Hello...</td>\n",
       "    </tr>\n",
       "    <tr>\n",
       "      <th>959</th>\n",
       "      <td>Hello...</td>\n",
       "      <td>A small question: What would cause both 32bit ...</td>\n",
       "    </tr>\n",
       "    <tr>\n",
       "      <th>960</th>\n",
       "      <td>A small question: What would cause both 32bit ...</td>\n",
       "      <td>Funny thing is, Win7 and XP installs fine</td>\n",
       "    </tr>\n",
       "    <tr>\n",
       "      <th>961</th>\n",
       "      <td>Funny thing is, Win7 and XP installs fine</td>\n",
       "      <td>Thought that myself, xfact, until I swapped in...</td>\n",
       "    </tr>\n",
       "    <tr>\n",
       "      <th>962</th>\n",
       "      <td>Thought that myself, xfact, until I swapped in...</td>\n",
       "      <td>sounds like either a bad burn, a corrupted iso...</td>\n",
       "    </tr>\n",
       "  </tbody>\n",
       "</table>\n",
       "<p>963 rows × 2 columns</p>\n",
       "</div>"
      ],
      "text/plain": [
       "                                                prompt  \\\n",
       "0    Anyone here that got experience with Linux (Ub...   \n",
       "1               - I have payed with the ati drivers...   \n",
       "2          - my card is a radeon 9550, for reference..   \n",
       "3                               : what kind of clues??   \n",
       "4    - first off  fglrx the open source drivers jus...   \n",
       "..                                                 ...   \n",
       "958                     not implementing a database :/   \n",
       "959                                           Hello...   \n",
       "960  A small question: What would cause both 32bit ...   \n",
       "961          Funny thing is, Win7 and XP installs fine   \n",
       "962  Thought that myself, xfact, until I swapped in...   \n",
       "\n",
       "                                              response  \n",
       "0               - I have payed with the ati drivers...  \n",
       "1          - my card is a radeon 9550, for reference..  \n",
       "2                               : what kind of clues??  \n",
       "3    - first off  fglrx the open source drivers jus...  \n",
       "4    does anybody use gdesklets widgets? im trying ...  \n",
       "..                                                 ...  \n",
       "958                                           Hello...  \n",
       "959  A small question: What would cause both 32bit ...  \n",
       "960          Funny thing is, Win7 and XP installs fine  \n",
       "961  Thought that myself, xfact, until I swapped in...  \n",
       "962  sounds like either a bad burn, a corrupted iso...  \n",
       "\n",
       "[963 rows x 2 columns]"
      ]
     },
     "execution_count": 4,
     "metadata": {},
     "output_type": "execute_result"
    }
   ],
   "source": [
    "processed_df = build_prompt_response_pairs(df)\n",
    "processed_df"
   ]
  },
  {
   "cell_type": "code",
   "execution_count": 5,
   "metadata": {},
   "outputs": [
    {
     "data": {
      "text/html": [
       "<div>\n",
       "<style scoped>\n",
       "    .dataframe tbody tr th:only-of-type {\n",
       "        vertical-align: middle;\n",
       "    }\n",
       "\n",
       "    .dataframe tbody tr th {\n",
       "        vertical-align: top;\n",
       "    }\n",
       "\n",
       "    .dataframe thead th {\n",
       "        text-align: right;\n",
       "    }\n",
       "</style>\n",
       "<table border=\"1\" class=\"dataframe\">\n",
       "  <thead>\n",
       "    <tr style=\"text-align: right;\">\n",
       "      <th></th>\n",
       "      <th>prompt</th>\n",
       "      <th>response</th>\n",
       "      <th>text</th>\n",
       "    </tr>\n",
       "  </thead>\n",
       "  <tbody>\n",
       "    <tr>\n",
       "      <th>0</th>\n",
       "      <td>Anyone here that got experience with Linux (Ub...</td>\n",
       "      <td>- I have payed with the ati drivers...</td>\n",
       "      <td>### Prompt:\\nAnyone here that got experience w...</td>\n",
       "    </tr>\n",
       "    <tr>\n",
       "      <th>1</th>\n",
       "      <td>- I have payed with the ati drivers...</td>\n",
       "      <td>- my card is a radeon 9550, for reference..</td>\n",
       "      <td>### Prompt:\\n- I have payed with the ati drive...</td>\n",
       "    </tr>\n",
       "    <tr>\n",
       "      <th>2</th>\n",
       "      <td>- my card is a radeon 9550, for reference..</td>\n",
       "      <td>: what kind of clues??</td>\n",
       "      <td>### Prompt:\\n- my card is a radeon 9550, for r...</td>\n",
       "    </tr>\n",
       "    <tr>\n",
       "      <th>3</th>\n",
       "      <td>: what kind of clues??</td>\n",
       "      <td>- first off  fglrx the open source drivers jus...</td>\n",
       "      <td>### Prompt:\\n: what kind of clues??\\n### Respo...</td>\n",
       "    </tr>\n",
       "    <tr>\n",
       "      <th>4</th>\n",
       "      <td>- first off  fglrx the open source drivers jus...</td>\n",
       "      <td>does anybody use gdesklets widgets? im trying ...</td>\n",
       "      <td>### Prompt:\\n- first off  fglrx the open sourc...</td>\n",
       "    </tr>\n",
       "    <tr>\n",
       "      <th>...</th>\n",
       "      <td>...</td>\n",
       "      <td>...</td>\n",
       "      <td>...</td>\n",
       "    </tr>\n",
       "    <tr>\n",
       "      <th>958</th>\n",
       "      <td>not implementing a database :/</td>\n",
       "      <td>Hello...</td>\n",
       "      <td>### Prompt:\\nnot implementing a database :/\\n#...</td>\n",
       "    </tr>\n",
       "    <tr>\n",
       "      <th>959</th>\n",
       "      <td>Hello...</td>\n",
       "      <td>A small question: What would cause both 32bit ...</td>\n",
       "      <td>### Prompt:\\nHello...\\n### Response:\\nA small ...</td>\n",
       "    </tr>\n",
       "    <tr>\n",
       "      <th>960</th>\n",
       "      <td>A small question: What would cause both 32bit ...</td>\n",
       "      <td>Funny thing is, Win7 and XP installs fine</td>\n",
       "      <td>### Prompt:\\nA small question: What would caus...</td>\n",
       "    </tr>\n",
       "    <tr>\n",
       "      <th>961</th>\n",
       "      <td>Funny thing is, Win7 and XP installs fine</td>\n",
       "      <td>Thought that myself, xfact, until I swapped in...</td>\n",
       "      <td>### Prompt:\\nFunny thing is, Win7 and XP insta...</td>\n",
       "    </tr>\n",
       "    <tr>\n",
       "      <th>962</th>\n",
       "      <td>Thought that myself, xfact, until I swapped in...</td>\n",
       "      <td>sounds like either a bad burn, a corrupted iso...</td>\n",
       "      <td>### Prompt:\\nThought that myself, xfact, until...</td>\n",
       "    </tr>\n",
       "  </tbody>\n",
       "</table>\n",
       "<p>963 rows × 3 columns</p>\n",
       "</div>"
      ],
      "text/plain": [
       "                                                prompt  \\\n",
       "0    Anyone here that got experience with Linux (Ub...   \n",
       "1               - I have payed with the ati drivers...   \n",
       "2          - my card is a radeon 9550, for reference..   \n",
       "3                               : what kind of clues??   \n",
       "4    - first off  fglrx the open source drivers jus...   \n",
       "..                                                 ...   \n",
       "958                     not implementing a database :/   \n",
       "959                                           Hello...   \n",
       "960  A small question: What would cause both 32bit ...   \n",
       "961          Funny thing is, Win7 and XP installs fine   \n",
       "962  Thought that myself, xfact, until I swapped in...   \n",
       "\n",
       "                                              response  \\\n",
       "0               - I have payed with the ati drivers...   \n",
       "1          - my card is a radeon 9550, for reference..   \n",
       "2                               : what kind of clues??   \n",
       "3    - first off  fglrx the open source drivers jus...   \n",
       "4    does anybody use gdesklets widgets? im trying ...   \n",
       "..                                                 ...   \n",
       "958                                           Hello...   \n",
       "959  A small question: What would cause both 32bit ...   \n",
       "960          Funny thing is, Win7 and XP installs fine   \n",
       "961  Thought that myself, xfact, until I swapped in...   \n",
       "962  sounds like either a bad burn, a corrupted iso...   \n",
       "\n",
       "                                                  text  \n",
       "0    ### Prompt:\\nAnyone here that got experience w...  \n",
       "1    ### Prompt:\\n- I have payed with the ati drive...  \n",
       "2    ### Prompt:\\n- my card is a radeon 9550, for r...  \n",
       "3    ### Prompt:\\n: what kind of clues??\\n### Respo...  \n",
       "4    ### Prompt:\\n- first off  fglrx the open sourc...  \n",
       "..                                                 ...  \n",
       "958  ### Prompt:\\nnot implementing a database :/\\n#...  \n",
       "959  ### Prompt:\\nHello...\\n### Response:\\nA small ...  \n",
       "960  ### Prompt:\\nA small question: What would caus...  \n",
       "961  ### Prompt:\\nFunny thing is, Win7 and XP insta...  \n",
       "962  ### Prompt:\\nThought that myself, xfact, until...  \n",
       "\n",
       "[963 rows x 3 columns]"
      ]
     },
     "execution_count": 5,
     "metadata": {},
     "output_type": "execute_result"
    }
   ],
   "source": [
    "processed_df[\"text\"] = processed_df.apply(\n",
    "    lambda row: f\"### Prompt:\\n{row['prompt']}\\n### Response:\\n{row['response']}\",\n",
    "    axis=1\n",
    ")\n",
    "processed_df"
   ]
  },
  {
   "cell_type": "code",
   "execution_count": 6,
   "metadata": {},
   "outputs": [
    {
     "data": {
      "text/plain": [
       "'cuda'"
      ]
     },
     "execution_count": 6,
     "metadata": {},
     "output_type": "execute_result"
    }
   ],
   "source": [
    "import torch\n",
    "\n",
    "device = 'cuda' if torch.cuda.is_available() else 'cpu'\n",
    "device"
   ]
  },
  {
   "cell_type": "code",
   "execution_count": 7,
   "metadata": {},
   "outputs": [],
   "source": [
    "from datasets import Dataset\n",
    "from transformers import AutoTokenizer\n",
    "\n",
    "# MODEL_NAME = 'mistralai/Mistral-7B-v0.3'\n",
    "MODEL_NAME = 'EleutherAI/gpt-neo-1.3B'\n",
    "MAX_LENGTH = 128\n",
    "\n",
    "dataset = Dataset.from_pandas(processed_df[['text']])\n",
    "tokenizer = AutoTokenizer.from_pretrained(MODEL_NAME)\n",
    "tokenizer.pad_token = tokenizer.eos_token\n",
    "\n",
    "def tokenize(example):\n",
    "    tokens = tokenizer(\n",
    "        example[\"text\"],\n",
    "        truncation=True,\n",
    "        padding=\"max_length\",\n",
    "        max_length=512\n",
    "    )\n",
    "    tokens[\"labels\"] = tokens[\"input_ids\"].copy()\n",
    "    return tokens"
   ]
  },
  {
   "cell_type": "code",
   "execution_count": 8,
   "metadata": {},
   "outputs": [
    {
     "data": {
      "application/vnd.jupyter.widget-view+json": {
       "model_id": "9dd5373b718d49338ea5c18ee18efef6",
       "version_major": 2,
       "version_minor": 0
      },
      "text/plain": [
       "Map:   0%|          | 0/963 [00:00<?, ? examples/s]"
      ]
     },
     "metadata": {},
     "output_type": "display_data"
    }
   ],
   "source": [
    "tokenized_dataset = dataset.map(tokenize, batched=True)\n",
    "tokenized_dataset.set_format(type=\"torch\", columns=[\"input_ids\", \"attention_mask\", \"labels\"])"
   ]
  },
  {
   "cell_type": "markdown",
   "metadata": {},
   "source": [
    "### Load quantized model"
   ]
  },
  {
   "cell_type": "code",
   "execution_count": 9,
   "metadata": {},
   "outputs": [],
   "source": [
    "from transformers import BitsAndBytesConfig, AutoModelForCausalLM\n",
    "\n",
    "bnb_config = BitsAndBytesConfig(\n",
    "    load_in_4bit=True,\n",
    "    bnb_4bit_compute_dtype=torch.float16,\n",
    "    bnb_4bit_use_double_quant=True,\n",
    "    bnb_4bit_quant_type=\"nf4\"\n",
    ")\n",
    "\n",
    "model = AutoModelForCausalLM.from_pretrained(\n",
    "    MODEL_NAME,\n",
    "    quantization_config=bnb_config,\n",
    "    device_map=\"auto\",\n",
    "    torch_dtype=torch.float16\n",
    ")\n"
   ]
  },
  {
   "cell_type": "code",
   "execution_count": 10,
   "metadata": {},
   "outputs": [],
   "source": [
    "# for name, _ in model.named_modules():\n",
    "#     if \"attention\" in name:\n",
    "#         print(name)"
   ]
  },
  {
   "cell_type": "markdown",
   "metadata": {},
   "source": [
    "### Prepare for LoRA"
   ]
  },
  {
   "cell_type": "code",
   "execution_count": 11,
   "metadata": {},
   "outputs": [],
   "source": [
    "from peft import prepare_model_for_kbit_training, get_peft_model, LoraConfig\n",
    "\n",
    "# model.gradient_checkpointing_enable()\n",
    "model = prepare_model_for_kbit_training(model)\n",
    "\n",
    "# config for mistral and neo-gpt\n",
    "lora_config = LoraConfig(\n",
    "    r=8,\n",
    "    lora_alpha=32,\n",
    "    target_modules=[\"q_proj\", \"v_proj\"],\n",
    "    lora_dropout=0.05,\n",
    "    bias=\"none\",\n",
    "    task_type=\"CAUSAL_LM\"\n",
    ")\n",
    "\n",
    "# config for EleutherAI/pythia-1.4b\n",
    "# lora_config = LoraConfig(\n",
    "#     r=8,\n",
    "#     lora_alpha=32,\n",
    "#     target_modules=[\"attn.c_attn\", \"attn.c_proj\"],\n",
    "#     lora_dropout=0.05,\n",
    "#     bias=\"none\",\n",
    "#     task_type=\"CAUSAL_LM\"\n",
    "# )\n",
    "\n",
    "model = get_peft_model(model, lora_config)"
   ]
  },
  {
   "cell_type": "markdown",
   "metadata": {},
   "source": [
    "### Training args and Trainer"
   ]
  },
  {
   "cell_type": "code",
   "execution_count": 12,
   "metadata": {},
   "outputs": [
    {
     "name": "stderr",
     "output_type": "stream",
     "text": [
      "No label_names provided for model class `PeftModelForCausalLM`. Since `PeftModel` hides base models input arguments, if label_names is not given, label_names can't be set automatically within `Trainer`. Note that empty label_names list will be used instead.\n"
     ]
    }
   ],
   "source": [
    "from transformers import TrainingArguments, Trainer\n",
    "\n",
    "training_args = TrainingArguments(\n",
    "    # output_dir=\"./models/mistral-lora-ubuntu\",\n",
    "    output_dir=\"./models/gpt-neo\",\n",
    "    per_device_train_batch_size=8,\n",
    "    num_train_epochs=3,\n",
    "    fp16=True,\n",
    "    logging_dir=\"./logs\",\n",
    "    save_strategy=\"epoch\",\n",
    "    gradient_accumulation_steps=1,\n",
    "    logging_steps=100\n",
    ")\n",
    "\n",
    "trainer = Trainer(\n",
    "    model=model,\n",
    "    args=training_args,\n",
    "    train_dataset=tokenized_dataset\n",
    ")"
   ]
  },
  {
   "cell_type": "code",
   "execution_count": 13,
   "metadata": {},
   "outputs": [
    {
     "name": "stdout",
     "output_type": "stream",
     "text": [
      "True\n"
     ]
    }
   ],
   "source": [
    "print(model.is_gradient_checkpointing)\n"
   ]
  },
  {
   "cell_type": "code",
   "execution_count": 14,
   "metadata": {},
   "outputs": [
    {
     "name": "stdout",
     "output_type": "stream",
     "text": [
      "False\n"
     ]
    }
   ],
   "source": [
    "model.gradient_checkpointing_disable() \n",
    "print(model.is_gradient_checkpointing) "
   ]
  },
  {
   "cell_type": "code",
   "execution_count": 15,
   "metadata": {},
   "outputs": [
    {
     "name": "stderr",
     "output_type": "stream",
     "text": [
      "\u001b[34m\u001b[1mwandb\u001b[0m: \u001b[33mWARNING\u001b[0m The `run_name` is currently set to the same value as `TrainingArguments.output_dir`. If this was not intended, please specify a different run name by setting the `TrainingArguments.run_name` parameter.\n",
      "Failed to detect the name of this notebook, you can set it manually with the WANDB_NOTEBOOK_NAME environment variable to enable code saving.\n",
      "\u001b[34m\u001b[1mwandb\u001b[0m: Using wandb-core as the SDK backend.  Please refer to https://wandb.me/wandb-core for more information.\n",
      "\u001b[34m\u001b[1mwandb\u001b[0m: Currently logged in as: \u001b[33mst124974\u001b[0m (\u001b[33mbinit-ait\u001b[0m) to \u001b[32mhttps://api.wandb.ai\u001b[0m. Use \u001b[1m`wandb login --relogin`\u001b[0m to force relogin\n"
     ]
    },
    {
     "data": {
      "text/html": [
       "Tracking run with wandb version 0.19.7"
      ],
      "text/plain": [
       "<IPython.core.display.HTML object>"
      ]
     },
     "metadata": {},
     "output_type": "display_data"
    },
    {
     "data": {
      "text/html": [
       "Run data is saved locally in <code>/home/jupyter-st124974/wandb/run-20250331_120637-v9t2sv4q</code>"
      ],
      "text/plain": [
       "<IPython.core.display.HTML object>"
      ]
     },
     "metadata": {},
     "output_type": "display_data"
    },
    {
     "data": {
      "text/html": [
       "Syncing run <strong><a href='https://wandb.ai/binit-ait/huggingface/runs/v9t2sv4q' target=\"_blank\">./models/gpt-neo</a></strong> to <a href='https://wandb.ai/binit-ait/huggingface' target=\"_blank\">Weights & Biases</a> (<a href='https://wandb.me/developer-guide' target=\"_blank\">docs</a>)<br>"
      ],
      "text/plain": [
       "<IPython.core.display.HTML object>"
      ]
     },
     "metadata": {},
     "output_type": "display_data"
    },
    {
     "data": {
      "text/html": [
       " View project at <a href='https://wandb.ai/binit-ait/huggingface' target=\"_blank\">https://wandb.ai/binit-ait/huggingface</a>"
      ],
      "text/plain": [
       "<IPython.core.display.HTML object>"
      ]
     },
     "metadata": {},
     "output_type": "display_data"
    },
    {
     "data": {
      "text/html": [
       " View run at <a href='https://wandb.ai/binit-ait/huggingface/runs/v9t2sv4q' target=\"_blank\">https://wandb.ai/binit-ait/huggingface/runs/v9t2sv4q</a>"
      ],
      "text/plain": [
       "<IPython.core.display.HTML object>"
      ]
     },
     "metadata": {},
     "output_type": "display_data"
    },
    {
     "data": {
      "text/html": [
       "\n",
       "    <div>\n",
       "      \n",
       "      <progress value='363' max='363' style='width:300px; height:20px; vertical-align: middle;'></progress>\n",
       "      [363/363 07:36, Epoch 3/3]\n",
       "    </div>\n",
       "    <table border=\"1\" class=\"dataframe\">\n",
       "  <thead>\n",
       " <tr style=\"text-align: left;\">\n",
       "      <th>Step</th>\n",
       "      <th>Training Loss</th>\n",
       "    </tr>\n",
       "  </thead>\n",
       "  <tbody>\n",
       "    <tr>\n",
       "      <td>100</td>\n",
       "      <td>1.639900</td>\n",
       "    </tr>\n",
       "    <tr>\n",
       "      <td>200</td>\n",
       "      <td>0.252800</td>\n",
       "    </tr>\n",
       "    <tr>\n",
       "      <td>300</td>\n",
       "      <td>0.219900</td>\n",
       "    </tr>\n",
       "  </tbody>\n",
       "</table><p>"
      ],
      "text/plain": [
       "<IPython.core.display.HTML object>"
      ]
     },
     "metadata": {},
     "output_type": "display_data"
    },
    {
     "data": {
      "text/plain": [
       "TrainOutput(global_step=363, training_loss=0.6207414658601619, metrics={'train_runtime': 460.0887, 'train_samples_per_second': 6.279, 'train_steps_per_second': 0.789, 'total_flos': 1.0739008464224256e+16, 'train_loss': 0.6207414658601619, 'epoch': 3.0})"
      ]
     },
     "execution_count": 15,
     "metadata": {},
     "output_type": "execute_result"
    }
   ],
   "source": [
    "trainer.train()"
   ]
  },
  {
   "cell_type": "code",
   "execution_count": 16,
   "metadata": {},
   "outputs": [
    {
     "data": {
      "text/plain": [
       "('mistral-lora-checkpoint/tokenizer_config.json',\n",
       " 'mistral-lora-checkpoint/special_tokens_map.json',\n",
       " 'mistral-lora-checkpoint/vocab.json',\n",
       " 'mistral-lora-checkpoint/merges.txt',\n",
       " 'mistral-lora-checkpoint/added_tokens.json',\n",
       " 'mistral-lora-checkpoint/tokenizer.json')"
      ]
     },
     "execution_count": 16,
     "metadata": {},
     "output_type": "execute_result"
    }
   ],
   "source": [
    "model.save_pretrained(\"gpt-neo-checkpoint\")\n",
    "tokenizer.save_pretrained(\"gpt-neo-checkpoint\")"
   ]
  }
 ],
 "metadata": {
  "kernelspec": {
   "display_name": "pytorch-cuda-12.1",
   "language": "python",
   "name": "python3"
  },
  "language_info": {
   "codemirror_mode": {
    "name": "ipython",
    "version": 3
   },
   "file_extension": ".py",
   "mimetype": "text/x-python",
   "name": "python",
   "nbconvert_exporter": "python",
   "pygments_lexer": "ipython3",
   "version": "3.12.5"
  }
 },
 "nbformat": 4,
 "nbformat_minor": 4
}
