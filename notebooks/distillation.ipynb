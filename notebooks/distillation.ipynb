{
 "cells": [
  {
   "cell_type": "markdown",
   "metadata": {},
   "source": [
    "## Check GPU"
   ]
  },
  {
   "cell_type": "code",
   "execution_count": 1,
   "metadata": {},
   "outputs": [
    {
     "data": {
      "text/plain": [
       "'cuda'"
      ]
     },
     "execution_count": 1,
     "metadata": {},
     "output_type": "execute_result"
    }
   ],
   "source": [
    "import os\n",
    "\n",
    "os.environ[\"CUDA_VISIBLE_DEVICES\"] = \"1\"\n",
    "\n",
    "import torch\n",
    "\n",
    "device = 'cuda' if torch.cuda.is_available() else 'cpu'\n",
    "device"
   ]
  },
  {
   "cell_type": "markdown",
   "metadata": {},
   "source": [
    "## Huggingface Login"
   ]
  },
  {
   "cell_type": "code",
   "execution_count": 2,
   "metadata": {},
   "outputs": [],
   "source": [
    "os.environ[\"HF_TOKEN_INDIE\"] = \"\"\n",
    "from huggingface_hub import login\n",
    "login(token=os.environ[\"HF_TOKEN_INDIE\"])"
   ]
  },
  {
   "cell_type": "markdown",
   "metadata": {},
   "source": [
    "## Load Teacher Model"
   ]
  },
  {
   "cell_type": "code",
   "execution_count": 3,
   "metadata": {},
   "outputs": [
    {
     "data": {
      "application/vnd.jupyter.widget-view+json": {
       "model_id": "fd5168ccb13a4da8b01b0e7e797dead8",
       "version_major": 2,
       "version_minor": 0
      },
      "text/plain": [
       "Loading checkpoint shards:   0%|          | 0/3 [00:00<?, ?it/s]"
      ]
     },
     "metadata": {},
     "output_type": "display_data"
    }
   ],
   "source": [
    "from transformers import AutoModelForCausalLM, AutoTokenizer, BitsAndBytesConfig\n",
    "\n",
    "TEACHER = 'mistralai/Mistral-7B-Instruct-v0.3'\n",
    "\n",
    "\n",
    "# Define quantization config for 4-bit\n",
    "bnb_config = BitsAndBytesConfig(\n",
    "    load_in_4bit=True,\n",
    "    bnb_4bit_use_double_quant=True,\n",
    "    bnb_4bit_quant_type=\"nf4\",\n",
    "    bnb_4bit_compute_dtype=torch.float16\n",
    ")\n",
    "\n",
    "# Load teacher model (Mistral-7B-Instruct) with quantization config\n",
    "teacher_model = AutoModelForCausalLM.from_pretrained(\n",
    "    TEACHER,\n",
    "    device_map=\"auto\",\n",
    "    quantization_config=bnb_config\n",
    ")\n",
    "teacher_tokenizer = AutoTokenizer.from_pretrained(TEACHER)"
   ]
  },
  {
   "cell_type": "markdown",
   "metadata": {},
   "source": [
    "## Load Dataset"
   ]
  },
  {
   "cell_type": "code",
   "execution_count": 4,
   "metadata": {},
   "outputs": [],
   "source": [
    "from datasets import load_dataset\n",
    "\n",
    "LOW = 23000\n",
    "HIGH = 24000\n",
    "\n",
    "raw_dataset = load_dataset('csv', data_files='sample/dialogueText.csv')\n",
    "raw_data = raw_dataset['train'].select(range(LOW, HIGH))\n",
    "\n",
    "def format_prompt(row):\n",
    "    return f'User: {row['text']}\\nAssistant:'"
   ]
  },
  {
   "cell_type": "markdown",
   "metadata": {},
   "source": [
    "## Generate teacher responses"
   ]
  },
  {
   "cell_type": "code",
   "execution_count": 5,
   "metadata": {},
   "outputs": [],
   "source": [
    "def generate_teacher_response(prompt, max_new_tokens=128):\n",
    "    inputs = teacher_tokenizer(prompt, return_tensors=\"pt\").to(device=device)\n",
    "    with torch.no_grad():\n",
    "        outputs = teacher_model.generate(\n",
    "            **inputs,\n",
    "            max_new_tokens=max_new_tokens,\n",
    "            pad_token_id=teacher_tokenizer.eos_token_id\n",
    "        )\n",
    "    return teacher_tokenizer.decode(outputs[0], skip_special_tokens=True).split(\"Assistant:\")[-1].strip()"
   ]
  },
  {
   "cell_type": "markdown",
   "metadata": {},
   "source": [
    "## Distill Dataset"
   ]
  },
  {
   "cell_type": "code",
   "execution_count": 6,
   "metadata": {},
   "outputs": [
    {
     "name": "stderr",
     "output_type": "stream",
     "text": [
      "Distilling: 100%|██████████| 1000/1000 [2:14:01<00:00,  8.04s/it] \n"
     ]
    }
   ],
   "source": [
    "from datasets import Dataset\n",
    "from tqdm import tqdm\n",
    "\n",
    "\n",
    "examples = []\n",
    "for row in tqdm(raw_data, desc=\"Distilling\"):\n",
    "    prompt = format_prompt(row)\n",
    "    response = generate_teacher_response(prompt)\n",
    "    examples.append({\"prompt\": prompt, \"response\": response})\n",
    "\n",
    "# examples = []\n",
    "# for row in raw_data:\n",
    "#     prompt = format_prompt(row)\n",
    "#     response = generate_teacher_response(prompt)\n",
    "#     examples.append({'prompt': prompt, 'response': response})"
   ]
  },
  {
   "cell_type": "markdown",
   "metadata": {},
   "source": [
    "## Save distilled dataset to disk"
   ]
  },
  {
   "cell_type": "code",
   "execution_count": 7,
   "metadata": {},
   "outputs": [],
   "source": [
    "import pandas as pd\n",
    "\n",
    "distilled_df = pd.DataFrame(examples)\n",
    "distilled_df.to_csv(f\"sample/distilled_dataset_{LOW}_{HIGH-1}.csv\", index=False)"
   ]
  }
 ],
 "metadata": {
  "kernelspec": {
   "display_name": "Python 3 (ipykernel)",
   "language": "python",
   "name": "python3"
  },
  "language_info": {
   "codemirror_mode": {
    "name": "ipython",
    "version": 3
   },
   "file_extension": ".py",
   "mimetype": "text/x-python",
   "name": "python",
   "nbconvert_exporter": "python",
   "pygments_lexer": "ipython3",
   "version": "3.12.6"
  }
 },
 "nbformat": 4,
 "nbformat_minor": 4
}
