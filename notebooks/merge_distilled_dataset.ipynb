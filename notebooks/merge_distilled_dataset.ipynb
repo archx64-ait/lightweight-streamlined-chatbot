{
 "cells": [
  {
   "cell_type": "markdown",
   "metadata": {},
   "source": [
    "### Merge distilled CSVs"
   ]
  },
  {
   "cell_type": "code",
   "execution_count": 1,
   "metadata": {},
   "outputs": [],
   "source": [
    "import glob\n",
    "\n",
    "csv_files = glob.glob('sample/distilled_dataset_*.csv')\n",
    "csv_files.sort()"
   ]
  },
  {
   "cell_type": "code",
   "execution_count": 2,
   "metadata": {},
   "outputs": [
    {
     "data": {
      "application/vnd.microsoft.datawrangler.viewer.v0+json": {
       "columns": [
        {
         "name": "index",
         "rawType": "int64",
         "type": "integer"
        },
        {
         "name": "prompt",
         "rawType": "object",
         "type": "string"
        },
        {
         "name": "response",
         "rawType": "object",
         "type": "unknown"
        }
       ],
       "conversionMethod": "pd.DataFrame",
       "ref": "771364e6-4260-45b9-ac4f-505a245d4218",
       "rows": [
        [
         "0",
         "User: Hello folks, please help me a bit with the following sentence: 'Order here your personal photos or videos.' - I think the only allowed version is 'Order your personal videos or photos here.', but I'm not sure, are you?\nAssistant:",
         "You're correct! The sentence 'Order your personal videos or photos here.' is the grammatically correct version. The subject 'you' is implied in the imperative sentence, and the object 'your personal videos or photos' is the thing being ordered. The preposition 'here' indicates the location where the ordering is to take place. Great job catching that!"
        ],
        [
         "1",
         "User: Did I choose a bad channel? I ask because you seem to be dumb like windows user\nAssistant:",
         "Alright, let's see if we can help you with that. Could you please provide more details about the package you're trying to install and the error message you're getting?"
        ],
        [
         "2",
         "User: the second sentence is better english   and we are not dumb\nAssistant:",
         "I apologize for any confusion. I'm here to help and improve. The second sentence is indeed clearer and more grammatically correct. I'll make sure to keep that in mind for future responses. Thank you for your feedback!"
        ],
        [
         "3",
         "User: Sock Puppe?t\nAssistant:",
         "I'm here to help! It seems like you're asking about a sock puppet account, which is a term used in internet slang to refer to a fake online identity used for purposes such as deception, manipulation, or evasion. If you have any questions or concerns about this topic, feel free to ask!\n\nIn terms of Reddit, it's important to remember that creating multiple accounts to deceive or manipulate others goes against the site's rules. If you suspect someone of doing this, you can report them to the Reddit admins. However, it's also important to remember that"
        ],
        [
         "4",
         "User: WTF?\nAssistant:",
         "That's a great lyric! The song is \"Respect Yourself\" by The Staple Singers. It was"
        ],
        [
         "5",
         "User: it's a wikipedia term.  There is Prodigy, PRDIGY and prgidy and they're all the same guy\nAssistant:",
         "I understand your question. Prodigy, PRDIGY, and prgidy are all the same person, likely referring to the American rapper Keith Fraser, who is also known as Prodigy of the hip-hop group Mobb Deep. He was a prominent figure in the East Coast hip-hop scene in the 1990s and released several solo albums as well. If you have any specific questions about him or his music, feel free to ask!"
        ],
        [
         "6",
         "User: what is bartek trying to do?\nAssistant:",
         "Bartek, in this context, is a name and it's not clear what specific actions or goals are being attributed to him without more context. If you could provide more details about the situation or project related to Bartek, I'd be happy to help interpret or answer any questions you might have."
        ],
        [
         "7",
         "User: is he trying to play online video?\nAssistant:",
         "It's difficult to say for certain without more context, but if the user is trying to play an online video, they might be using a web browser or a video streaming app. They could be encountering issues such as buffering, connection errors, or playback problems. If they're asking for help, they might need assistance troubleshooting these issues or finding a different video source."
        ],
        [
         "8",
         "User: bartek go here, if this doesn't play then it gives you a link to get it... http://www.milkandcookies.com/link/45466/detail/\nAssistant:",
         "Here is the link to download the video: [Milk and Cookies - Link](http://www.milkandcookies.com/link/45466/detail/)\n\nIf the link doesn't work, please let me know and I'll try to find an alternative source. Enjoy watching!"
        ],
        [
         "9",
         "User: the algorithms from aptitude were ported to apt-get, AFAIK.\nAssistant:",
         "That's correct! The algorithms from aptitude were indeed incorporated into apt-get. This was done to improve the overall performance and functionality of the package management system in Debian-based distributions. If you have any more questions about this or any other topic, feel free to ask!"
        ],
        [
         "10",
         "User: aptitude was more advanced at some point.\nAssistant:",
         "That's correct! Aptitude was initially designed to be more advanced than APT, the package management system in Debian. It was meant to provide better dependency resolution and more user-friendly interfaces. However, over time, APT has been improved to the point where it now offers similar functionality to Aptitude. Many users still prefer Aptitude for its more detailed output and ability to handle complex situations, but APT is now the default package manager in Debian."
        ],
        [
         "11",
         "User: convert probably can do that.\nAssistant:",
         "To convert a specific unit, you can use the `convert` command in the terminal. Here's an example for converting inches to centimeters:\n\n```\necho \"5 inches * 2.54\" | bc\n```\n\nThis command multiplies 5 inches by 2.54 (the conversion factor from inches to centimeters) and outputs the result in centimeters.\n\nFor more complex conversions, you might want to use a more sophisticated tool like `unit` or `online-unit-converter`.\n\nIf you're looking for a G"
        ],
        [
         "12",
         "User: is there any reason why my 'network manager' icon in my tray does not scale when the other ones get resized when i change the size of the panel?\nAssistant:",
         "The Network Manager icon might not be scaling because it's using a custom icon that doesn't support scaling, or because the Network Manager application itself doesn't support scaling.\n\nTo fix this issue, you can try the following steps:\n\n1. Install a different Network Manager applet that supports scaling, such as NetworkManager-gtk or NetworkManager-applet.\n2. If you're using a custom icon, try replacing it with an icon that supports scaling.\n3. If you're using a theme that doesn't support scaling, try switching to a different theme that does."
        ],
        [
         "13",
         "User: probably not a vector icon\nAssistant:",
         "Based on the information provided, it seems like you're asking about a specific icon, but you didn't specify the type of icon or its purpose. To help you better, could you please provide more details? For example, is it a social media icon, a symbol, or a graphic element? What is its intended use or context?\n\nIf you're looking for a specific icon, I'd be happy to help you find it or create one for you. Just let me know more about what you need!\n\nHere are some examples of icon sets that might be useful:\n\n1. [Font"
        ],
        [
         "14",
         "User: the other icons aren't vector icons either.\nAssistant:",
         "I apologize for any confusion. You're correct that not all icons are vector icons. Vector icons are those that can be scaled to any size without losing quality, as they are defined by mathematical equations rather than pixels. Many icons, especially those found in user interfaces, are raster images (pixels) and may lose quality when scaled up. However, it's always a good practice to use vector icons when possible for flexibility and to maintain a consistent, high-quality appearance across different screen sizes and devices."
        ],
        [
         "15",
         "User: how do fix vlc in the terminal?\nAssistant:",
         "To fix VLC in the terminal, you can try the following steps:\n\n1. Update VLC: Run `sudo apt-get update` and `sudo apt-get upgrade vlc` in the terminal.\n\n2. Reinstall VLC: Run `sudo apt-get remove vlc` and then `sudo apt-get install vlc`.\n\n3. If the problem persists, try to reinstall VLC with dependencies: Run `sudo apt-get install --reinstall vlc libvlc-dev libvlccore-dev libbluray-dev"
        ],
        [
         "16",
         "User: fix what?\nAssistant:",
         "I'm here to help you with your computer or device. Could you please specify the issue you're experiencing? For example, it could be a problem with a program, a slow performance, or an error message you're encountering."
        ],
        [
         "17",
         "User: check other programs. same faint sound?\nAssistant:",
         "To check if other programs are causing the faint sound, follow these steps:\n\n1. Press `Ctrl + Alt + Delete` on your keyboard to open the Task Manager.\n2. Click on the `Performance` tab.\n3. Check the CPU, Memory, and Disk usage for each running program. If any program is using a significant amount of resources, it might be causing the sound.\n4. Close the program to see if the sound stops.\n5. If the sound persists, try restarting your computer to ensure no background processes are causing the issue.\n6. If the sound still"
        ],
        [
         "18",
         "User: I installed the 64bit version of ubuntu and I can't open firefox(segfault) and if I try to open nautilus nothing happens and my cpu goes 100%, what can I do???\nAssistant:",
         "I'm sorry to hear you're having trouble with your Ubuntu installation. Here are a few steps you can try to resolve the issues:\n\n1. **Firefox Segfault:**\n   - Try reinstalling Firefox: `sudo apt-get install --reinstall firefox`\n   - If that doesn't work, try using a different browser like Chromium or Brave.\n\n2. **Nautilus not opening:**\n   - Try reinstalling Nautilus: `sudo apt-get install --reinstall nautilus`"
        ],
        [
         "19",
         "User: Anyone knows why after I installed the 64bit version of ubuntu and I can't open firefox(segfault) and if I try to open nautilus nothing happens and my cpu goes 100%, what can I do???\nAssistant:",
         "It seems like you're experiencing some issues with your Ubuntu installation. Here are a few steps you can try to resolve these issues:\n\n1. **Firefox Segfault:**\n   - Try reinstalling Firefox: `sudo apt-get install --reinstall firefox`\n   - If that doesn't work, try using a different browser like Chromium or Brave: `sudo apt-get install chromium` or `sudo snap install brave`\n\n2. **Nautilus not opening:**\n   - Try reinstalling Nautilus"
        ],
        [
         "20",
         "User: i sent you a link on how to install 32 bit\nAssistant:",
         "To help you with that, I'd be happy to guide you through the process of installing a 32-bit application on a 64-bit system. Here are the general steps:\n\n1. First, ensure that you have the appropriate 32-bit libraries installed on your system. On Ubuntu, you can do this by running:\n\n   ```\n   sudo apt-get install ia32-libs\n   ```\n\n2. Download the 32-bit application you want to install. You can do this using a web browser or a command"
        ],
        [
         "21",
         "User: ok, anyone know how I set bios password in ubuntu\nAssistant:",
         "To set a BIOS password on a computer, you'll need to access the BIOS settings, which is typically done during the boot process. This process varies depending on the manufacturer, but here's a general guide:\n\n1. Restart your computer.\n2. As soon as the manufacturer logo appears, start rapidly pressing the key to enter the BIOS settings. Common keys are F2, F12, Esc, or Delete. If you're unsure, consult your computer's documentation or manufacturer's website.\n3. Once in the BIOS settings, look for"
        ],
        [
         "22",
         "User: already set\nAssistant:",
         "I understand that you've already set something. Could you please specify what it is that you need help with regarding that setting? I'd be happy to assist you further."
        ],
        [
         "23",
         "User: you'd need to set that in your BIOS.\nAssistant:",
         "To set the boot order in your BIOS, you'll need to restart your computer and enter the BIOS setup by pressing the appropriate key (usually F2, F10, F12, or Delete) during startup. Once in the BIOS, look for the \"Boot\" or \"Boot Order\" menu, and set the CD/DVD drive as the first device in the list. Save your changes and exit the BIOS. Your computer should now boot from the CD/DVD drive."
        ],
        [
         "24",
         "User: Hello Does Ubuntu have somekind of register to configure applications and os settings?\nAssistant:",
         "Yes, Ubuntu has several ways to configure applications and OS settings. Here are a few:\n\n1. System Settings: This is a graphical interface that allows you to configure various system settings, such as the display, keyboard, mouse, and network settings. You can access it by clicking on the gear icon in the dock or by typing \"Settings\" in the search bar.\n\n2. Terminal: The terminal is a command-line interface that allows you to execute commands directly on the system. You can use it to configure system settings, install applications, and manage files.\n\n3. Configuration Files"
        ],
        [
         "25",
         "User: Hello Does Ubuntu have somekind of register to configure applications and os settings?\nAssistant:",
         "Yes, Ubuntu has several ways to configure applications and OS settings. Here are a few:\n\n1. System Settings: This is a graphical interface that allows you to configure various system settings, such as the display, keyboard, mouse, and network settings. You can access it by clicking on the gear icon in the dock or by typing \"Settings\" in the search bar.\n\n2. Terminal: The terminal is a command-line interface that allows you to execute commands directly on the system. You can use it to configure system settings, install applications, and manage files.\n\n3. Configuration Files"
        ],
        [
         "26",
         "User: Linux doesn't have an equivalent to the Windows registry\nAssistant:",
         "That's correct! Linux doesn't have a centralized registry like Windows. Instead, configuration data is stored in various files and directories, such as /etc, /var/lib, and /home. Each application typically stores its configuration in its own file or directory. This decentralized approach can make it easier to manage and understand the system, but it may require more effort to find and modify specific settings compared to the Windows registry."
        ],
        [
         "27",
         "User: how do i generate an xorg.conf file?\nAssistant:",
         "Creating an `xorg.conf` file is not necessary in most modern Linux distributions as the X server automatically configures itself. However, if you need to create one, here's a basic example:\n\n1. Open a terminal.\n\n2. Create a new file with the following command:\n\n```\nsudo nano /etc/X11/xorg.conf\n```\n\n3. Paste the following content into the file:\n\n```\nSection \"ServerLayout\"\n    Identifier     \"Layout0\"\n    Screen      0  \"Screen0"
        ],
        [
         "28",
         "User: for intel GMAs\nAssistant:",
         "To help you with your question, I'll provide some general information about graphics cards for Intel GMAs.\n\nIntel Graphics Media Accelerator (GMA) is the integrated graphics solution from Intel. These graphics processors are built into the motherboard and share system memory with the CPU. They are commonly found in budget computers and laptops.\n\nIf you're looking to upgrade or improve your graphics performance, there are a few options:\n\n1. **Upgrade your CPU and motherboard**: If your current CPU and motherboard support it, you could upgrade to a model with a more powerful"
        ],
        [
         "29",
         "User: 'sudo xorg -configure', I think\nAssistant:",
         "To run the command 'sudo xorg -configure', you'll need to have the Xorg server installed on your system. Here's how you can do it:\n\n1. Open a terminal.\n\n2. Type `sudo xorg -configure` and press Enter.\n\n3. If prompted, enter your password.\n\n4. The command will create a new Xorg configuration file at `/root/Xorg.conf.new`.\n\n5. You can then copy this file to the correct location (usually `/etc/X11/xorg.conf"
        ],
        [
         "30",
         "User: anyone else run into issues with cd/dvd burners not identifying blank media installed?\nAssistant:",
         "Yes, I can help with that. This issue can occur due to various reasons, such as incorrect driver installation, media compatibility issues, or even a faulty drive. Here are some steps you can try to resolve the issue:\n\n1. **Check the media compatibility**: Ensure that the blank CD/DVD you're using is compatible with your drive and computer. Some drives may not work with certain types of media.\n\n2. **Update the drive's firmware**: Visit the manufacturer's website and download the latest firmware for your drive. Install it and see if the issue persists."
        ],
        [
         "31",
         "User: yep.. happened to me with a HP lightscribe cd/dvd burner.. replaced and all is well.\nAssistant:",
         "I'm sorry to hear that you had trouble with your HP LightScribe CD/DVD burner. It's not uncommon for hardware to malfunction, and it's good to hear that you were able to replace it and resolve the issue. If you have any other questions or concerns about your device, feel free to ask!"
        ],
        [
         "32",
         "User: you might try k3b as the burning software . .. I never really liked brassero\nAssistant:",
         "To use K3B as your burning software, you can follow these steps:\n\n1. Install K3B: Open a terminal and type `sudo apt-get install k3b` and press Enter. You may be asked to confirm the installation.\n\n2. Launch K3B: You can find it in the Applications menu under Sound & Video > Optical Discs > K3B.\n\n3. Insert a disc: Place a blank disc into your drive. K3B should automatically detect it.\n\n4. Create a new project: Click on the \"New Data-D"
        ],
        [
         "33",
         "User: Where does synoptic install the programs to? Like it aint on desktop\nAssistant:",
         "Synoptic typically installs programs in the `/opt` directory, which is a common location for additional software on Linux systems. However, the exact location can vary depending on the specific installation method or the configuration of your system. You can check the installation directory by looking at the installation script or the documentation provided by Synoptic. If you're unsure, you can use the terminal to navigate to the `/opt` directory and look for the installed software. For example, you can use the `ls` command to list the contents of the directory:\n\n```\n$ cd /opt\n$ ls"
        ],
        [
         "34",
         "User: nvm\nAssistant:",
         "I'd be happy to help you with that!\n\nTo create a new folder in the current directory using the command line, you can use the `mkdir` command followed by the name of the new folder. Here's an example:\n\n    mkdir new_folder\n\nThis will create a new folder named \"new_folder\" in the current directory. If you want to create a folder with a name that includes spaces or special characters, you'll need to enclose the name in quotes:\n\n    mkdir \"new folder\"\n\nIf you want to create a folder and navigate into"
        ],
        [
         "35",
         "User: Synaptic installs the programs to wherever they need to be installed.  Most of them can be found in the Gnome menu, and if not there, in the Debian submenu.  All applications on your system that are recognized by Synaptic are in your Debian submenu.\nAssistant:",
         "Synaptic is a package manager for Debian-based Linux distributions like Ubuntu. It allows you to install, remove, and update software packages on your system. The packages installed by Synaptic are typically found in the system's menu, specifically in the Debian submenu. If a package is recognized by Synaptic, it will be listed in the Debian submenu."
        ],
        [
         "36",
         "User: are there any utils that will do a repair of your laptop once in a while ?\nAssistant:",
         "Yes, there are several utilities that can help maintain and repair your laptop. Here are a few examples:\n\n1. Windows built-in tools:\n   - Disk Cleanup: This tool helps you remove temporary files, system files, and other unnecessary files to free up disk space.\n   - Disk Defragmenter: This tool rearranges files on your hard drive to improve performance.\n   - System File Checker: This tool scans for and repairs corrupted system files.\n\n2. Third-party tools:\n   - CCleaner: This is a popular tool that helps"
        ],
        [
         "37",
         "User: like you have advaned system optimizer in windows sort of stuff\nAssistant:",
         "Yes, you're correct! In Windows, we have tools like System Optimization (System Maintenance) that help manage and maintain the system's performance.\n\nIn Linux, we have several tools that serve similar purposes. Here are a few examples:\n\n1. **apt-get autoclean**: This command cleans out the package download cache for the apt package manager.\n\n2. **apt-get autoremove**: This command removes packages that were automatically installed to satisfy dependencies for other packages and are no longer needed.\n\n3. **du -sh /***: This command lists the disk"
        ],
        [
         "38",
         "User: repair in the sense? clean up of unused files ?\nAssistant:",
         "In the context of a computer or a system, \"repair\" generally refers to the process of fixing or correcting issues that are causing problems with the normal functioning of the system or its components. This could include things like repairing damaged files, fixing registry errors, or resolving software conflicts.\n\nIn terms of cleaning up unused files, this is often referred to as \"disk cleanup\" or \"disk optimization.\" This process involves removing unnecessary files, such as temporary files, system logs, and other files that are no longer needed, to free up space on the hard drive and improve system performance. Some operating systems have built-"
        ],
        [
         "39",
         "User: hi folks, i'm making a backup of my root partition just incase this gparted livecd resize goes wrong - at the moment i am just cp -Rp /bin /etc /lib /sbin /usr /boot /home /opt /srv /var /vmlinuz /media /opt /root  -- is there anything else i should be doing?\nAssistant:",
         "It's great that you're taking precautions! Here are a few additional steps you might consider:\n\n1. **Backup system files**: You've already backed up many important directories, but there are a few more you might want to include:\n   - `/proc`: This is a virtual file system that provides information about the system.\n   - `/sys`: Similar to `/proc`, this is another virtual file system that provides real-time information about the system's hardware and kernel.\n   - `/dev`: This directory contains device files that represent hardware devices"
        ],
        [
         "40",
         "User: use tar\nAssistant:",
         "I'd be happy to help you with using tar!\n\nTar is a command-line utility in Unix-like operating systems for creating and extracting compressed and concatenated archives of files. Here's a basic guide on how to use it:\n\n1. Creating an archive:\n\n```bash\ntar -cvf archive.tar file1 file2 directory/\n```\n\n- `c`: Create a new archive.\n- `v`: Verbosely list the files processed.\n- `f`: Use archive file.\n-"
        ],
        [
         "41",
         "User: try g4l\nAssistant:",
         "I'll pass on your message to g4l. Here's what"
        ],
        [
         "42",
         "User: is there a way to tell ubuntu not to show icon for a specific external hdd on the desktop? (but i want others to show up on the desktop)\nAssistant:",
         "In Ubuntu, the appearance of icons on the desktop is controlled by the Desktop File (.desktop file) associated with the device. Unfortunately, there isn't a built-in way to hide specific device icons from the desktop.\n\nHowever, you can create a custom script that hides the specific external HDD when it's mounted, and then unmounts it when you want to see the icon again. Here's a basic example of how you might do this:\n\n1. Create a new folder for the script:\n\n```\nmkdir ~/scripts"
        ],
        [
         "43",
         "User: can use a udev rule for it\nAssistant:",
         "To create a udev rule for a specific USB device, you can follow these steps:\n\n1. Open a terminal.\n\n2. Navigate to the `/etc/udev/rules.d` directory.\n\n3. Create a new file using a text editor, for example, `nano`, with the following command: `sudo nano 51-mydevice.rules`\n\n4. In the new file, write a rule for your device. Here's an example for a USB flash drive:\n\n```\nACTION==\"add\", SUBSYSTEM==\"block"
        ],
        [
         "44",
         "User: thanks :)\nAssistant:",
         "You're welcome! If you have any more questions or need further assistance, feel free to ask. I'm here to help!"
        ],
        [
         "45",
         "User: parsi: chmod 777\nAssistant:",
         "In Unix-like operating systems, the `chmod` command is used to change the permissions of a file or directory. The numeric mode used with `chmod` is based on the octal representation of the permissions.\n\nThe number 777 represents all permissions for the owner, group, and others: read, write, and execute for all three. However, it's important to note that using 777 is generally considered a security risk, as it gives full access to everyone, including potentially malicious users. It's recommended to use more restrictive permissions and only use 77"
        ],
        [
         "46",
         "User: parsi: to the file\nAssistant:",
         "I'd be happy to help you with that! To add a message to a file, you can use the `echo` command in the terminal. Here's an example:\n\n1. Open your terminal.\n2. Navigate to the directory where your file is located using the `cd` command. For example, if your file is in the Documents directory, you would type `cd Documents`.\n3. Type `echo \"Your message here\" >> your_file_name.txt`. Replace \"Your message here\" with the message you want to add, and \"your_file_name"
        ],
        [
         "47",
         "User: ^^^\nAssistant:",
         "Sure, I can help with that! Here's a simple Python script that does exactly that:\n\n```python\ndef sum_even_numbers(numbers):\n    total = 0\n    for number in numbers:\n        if number % 2 == 0:\n            total += number\n    return total\n\n#"
        ],
        [
         "48",
         "User: Is there a second cd needed for the 9.04 beta server install? I keep reaching about 77% completed and then it asks for 'Ubuntu-Server 9.04 _Jaunty Jackalope_ Beta i386 (20090324.2)'\nAssistant:",
         "Yes, you are correct. During the installation process of Ubuntu Server 9.04 Beta, you will need both CDs. The first CD contains the initial installation files, and the second CD contains the remaining packages that are needed to complete the installation.\n\nTo resolve your issue, you can try the following steps:\n\n1. Ensure that you have both CDs inserted in your CD-ROM drive.\n2. If you are using a graphical installer like Ubiquity, you can try using the \"Try Ubuntu\" option to boot into a live environment and check"
        ],
        [
         "49",
         "User: since jaunty is still beta, all issues/discussions go in #ubuntu+1 channel, please\nAssistant:",
         "That's correct! Since Jaunty Jackalope is still in beta, all discussions and issues related to it should be directed to the #ubuntu+1 channel. This channel is specifically for testing and development purposes. Thank you for your understanding!"
        ]
       ],
       "shape": {
        "columns": 2,
        "rows": 30000
       }
      },
      "text/html": [
       "<div>\n",
       "<style scoped>\n",
       "    .dataframe tbody tr th:only-of-type {\n",
       "        vertical-align: middle;\n",
       "    }\n",
       "\n",
       "    .dataframe tbody tr th {\n",
       "        vertical-align: top;\n",
       "    }\n",
       "\n",
       "    .dataframe thead th {\n",
       "        text-align: right;\n",
       "    }\n",
       "</style>\n",
       "<table border=\"1\" class=\"dataframe\">\n",
       "  <thead>\n",
       "    <tr style=\"text-align: right;\">\n",
       "      <th></th>\n",
       "      <th>prompt</th>\n",
       "      <th>response</th>\n",
       "    </tr>\n",
       "  </thead>\n",
       "  <tbody>\n",
       "    <tr>\n",
       "      <th>0</th>\n",
       "      <td>User: Hello folks, please help me a bit with t...</td>\n",
       "      <td>You're correct! The sentence 'Order your perso...</td>\n",
       "    </tr>\n",
       "    <tr>\n",
       "      <th>1</th>\n",
       "      <td>User: Did I choose a bad channel? I ask becaus...</td>\n",
       "      <td>Alright, let's see if we can help you with tha...</td>\n",
       "    </tr>\n",
       "    <tr>\n",
       "      <th>2</th>\n",
       "      <td>User: the second sentence is better english   ...</td>\n",
       "      <td>I apologize for any confusion. I'm here to hel...</td>\n",
       "    </tr>\n",
       "    <tr>\n",
       "      <th>3</th>\n",
       "      <td>User: Sock Puppe?t\\nAssistant:</td>\n",
       "      <td>I'm here to help! It seems like you're asking ...</td>\n",
       "    </tr>\n",
       "    <tr>\n",
       "      <th>4</th>\n",
       "      <td>User: WTF?\\nAssistant:</td>\n",
       "      <td>That's a great lyric! The song is \"Respect You...</td>\n",
       "    </tr>\n",
       "    <tr>\n",
       "      <th>...</th>\n",
       "      <td>...</td>\n",
       "      <td>...</td>\n",
       "    </tr>\n",
       "    <tr>\n",
       "      <th>29995</th>\n",
       "      <td>User: most recent, yes\\nAssistant:</td>\n",
       "      <td>Of course! To view the most recent posts in th...</td>\n",
       "    </tr>\n",
       "    <tr>\n",
       "      <th>29996</th>\n",
       "      <td>User: anyone know a good and reliable media pl...</td>\n",
       "      <td>One of the most popular and reliable media pla...</td>\n",
       "    </tr>\n",
       "    <tr>\n",
       "      <th>29997</th>\n",
       "      <td>User: xmms\\nAssistant:</td>\n",
       "      <td>It seems that XMMS is not installed on your sy...</td>\n",
       "    </tr>\n",
       "    <tr>\n",
       "      <th>29998</th>\n",
       "      <td>User: thanks, i'll try it\\nAssistant:</td>\n",
       "      <td>You're welcome! If you have any more questions...</td>\n",
       "    </tr>\n",
       "    <tr>\n",
       "      <th>29999</th>\n",
       "      <td>User: hello\\nAssistant:</td>\n",
       "      <td>I'd be happy to help with that! Here's a simpl...</td>\n",
       "    </tr>\n",
       "  </tbody>\n",
       "</table>\n",
       "<p>30000 rows × 2 columns</p>\n",
       "</div>"
      ],
      "text/plain": [
       "                                                  prompt  \\\n",
       "0      User: Hello folks, please help me a bit with t...   \n",
       "1      User: Did I choose a bad channel? I ask becaus...   \n",
       "2      User: the second sentence is better english   ...   \n",
       "3                         User: Sock Puppe?t\\nAssistant:   \n",
       "4                                 User: WTF?\\nAssistant:   \n",
       "...                                                  ...   \n",
       "29995                 User: most recent, yes\\nAssistant:   \n",
       "29996  User: anyone know a good and reliable media pl...   \n",
       "29997                             User: xmms\\nAssistant:   \n",
       "29998              User: thanks, i'll try it\\nAssistant:   \n",
       "29999                            User: hello\\nAssistant:   \n",
       "\n",
       "                                                response  \n",
       "0      You're correct! The sentence 'Order your perso...  \n",
       "1      Alright, let's see if we can help you with tha...  \n",
       "2      I apologize for any confusion. I'm here to hel...  \n",
       "3      I'm here to help! It seems like you're asking ...  \n",
       "4      That's a great lyric! The song is \"Respect You...  \n",
       "...                                                  ...  \n",
       "29995  Of course! To view the most recent posts in th...  \n",
       "29996  One of the most popular and reliable media pla...  \n",
       "29997  It seems that XMMS is not installed on your sy...  \n",
       "29998  You're welcome! If you have any more questions...  \n",
       "29999  I'd be happy to help with that! Here's a simpl...  \n",
       "\n",
       "[30000 rows x 2 columns]"
      ]
     },
     "execution_count": 2,
     "metadata": {},
     "output_type": "execute_result"
    }
   ],
   "source": [
    "import pandas as pd\n",
    "\n",
    "all_dfs = [pd.read_csv(file) for file in csv_files]\n",
    "merged_df = pd.concat(all_dfs, ignore_index=True)\n",
    "merged_df"
   ]
  },
  {
   "cell_type": "code",
   "execution_count": 3,
   "metadata": {},
   "outputs": [],
   "source": [
    "merged_df.to_csv(\"sample/merged_distilled_dataset.csv\", index=False)"
   ]
  },
  {
   "cell_type": "code",
   "execution_count": 4,
   "metadata": {},
   "outputs": [
    {
     "data": {
      "application/vnd.microsoft.datawrangler.viewer.v0+json": {
       "columns": [
        {
         "name": "index",
         "rawType": "int64",
         "type": "integer"
        },
        {
         "name": "prompt",
         "rawType": "object",
         "type": "string"
        },
        {
         "name": "response",
         "rawType": "object",
         "type": "string"
        }
       ],
       "conversionMethod": "pd.DataFrame",
       "ref": "b9ea1a90-03ba-454f-9bd6-c350ce2a4f5d",
       "rows": [
        [
         "29995",
         "User: most recent, yes\nAssistant:",
         "Of course! To view the most recent posts in this subreddit, you can follow these steps:\n\n1. Open the Reddit app or website.\n2. Navigate to the subreddit you're interested in (e.g., r/askreddit).\n3. Look for the \"Hot\" or \"New\" tab. The \"New\" tab will show you the most recent posts.\n4. If you're on a computer, you can also use the \"Sort by: New\" option in the right sidebar.\n\nIf you're using a mobile app and can't find the"
        ],
        [
         "29996",
         "User: anyone know a good and reliable media player for listenting to internet radio?\nAssistant:",
         "One of the most popular and reliable media players for listening to internet radio is TuneIn Radio. It offers a vast selection of radio stations from around the world, including music, news, sports, and talk radio. Another option is iHeartRadio, which also provides a wide variety of radio stations and personalized radio stations based on your preferences. Both apps are available on various platforms such as Android, iOS, and web browsers."
        ],
        [
         "29997",
         "User: xmms\nAssistant:",
         "It seems that XMMS is not installed on your system. To install XMMS on Ubuntu, you can use the terminal. Here's a step-by-step guide:\n\n1. Open the terminal by pressing `Ctrl + Alt + T` or search for \"Terminal\" in"
        ],
        [
         "29998",
         "User: thanks, i'll try it\nAssistant:",
         "You're welcome! If you have any more questions or need further assistance, feel free to ask. Good luck with your task!"
        ],
        [
         "29999",
         "User: hello\nAssistant:",
         "I'd be happy to help with that! Here's a simple vegan chocolate cake recipe that you might like:\n\n**Vegan Chocolate Cake**\n\n**Ingredients:**\n\n* 1 3/4 cups all-purpose flour\n* 1 1/2 cups sugar\n* 3/4 cup unsweetened cocoa powder\n* 2 teaspoons baking soda"
        ]
       ],
       "shape": {
        "columns": 2,
        "rows": 5
       }
      },
      "text/html": [
       "<div>\n",
       "<style scoped>\n",
       "    .dataframe tbody tr th:only-of-type {\n",
       "        vertical-align: middle;\n",
       "    }\n",
       "\n",
       "    .dataframe tbody tr th {\n",
       "        vertical-align: top;\n",
       "    }\n",
       "\n",
       "    .dataframe thead th {\n",
       "        text-align: right;\n",
       "    }\n",
       "</style>\n",
       "<table border=\"1\" class=\"dataframe\">\n",
       "  <thead>\n",
       "    <tr style=\"text-align: right;\">\n",
       "      <th></th>\n",
       "      <th>prompt</th>\n",
       "      <th>response</th>\n",
       "    </tr>\n",
       "  </thead>\n",
       "  <tbody>\n",
       "    <tr>\n",
       "      <th>29995</th>\n",
       "      <td>User: most recent, yes\\nAssistant:</td>\n",
       "      <td>Of course! To view the most recent posts in th...</td>\n",
       "    </tr>\n",
       "    <tr>\n",
       "      <th>29996</th>\n",
       "      <td>User: anyone know a good and reliable media pl...</td>\n",
       "      <td>One of the most popular and reliable media pla...</td>\n",
       "    </tr>\n",
       "    <tr>\n",
       "      <th>29997</th>\n",
       "      <td>User: xmms\\nAssistant:</td>\n",
       "      <td>It seems that XMMS is not installed on your sy...</td>\n",
       "    </tr>\n",
       "    <tr>\n",
       "      <th>29998</th>\n",
       "      <td>User: thanks, i'll try it\\nAssistant:</td>\n",
       "      <td>You're welcome! If you have any more questions...</td>\n",
       "    </tr>\n",
       "    <tr>\n",
       "      <th>29999</th>\n",
       "      <td>User: hello\\nAssistant:</td>\n",
       "      <td>I'd be happy to help with that! Here's a simpl...</td>\n",
       "    </tr>\n",
       "  </tbody>\n",
       "</table>\n",
       "</div>"
      ],
      "text/plain": [
       "                                                  prompt  \\\n",
       "29995                 User: most recent, yes\\nAssistant:   \n",
       "29996  User: anyone know a good and reliable media pl...   \n",
       "29997                             User: xmms\\nAssistant:   \n",
       "29998              User: thanks, i'll try it\\nAssistant:   \n",
       "29999                            User: hello\\nAssistant:   \n",
       "\n",
       "                                                response  \n",
       "29995  Of course! To view the most recent posts in th...  \n",
       "29996  One of the most popular and reliable media pla...  \n",
       "29997  It seems that XMMS is not installed on your sy...  \n",
       "29998  You're welcome! If you have any more questions...  \n",
       "29999  I'd be happy to help with that! Here's a simpl...  "
      ]
     },
     "execution_count": 4,
     "metadata": {},
     "output_type": "execute_result"
    }
   ],
   "source": [
    "merged_df.tail()"
   ]
  },
  {
   "cell_type": "code",
   "execution_count": 5,
   "metadata": {},
   "outputs": [
    {
     "data": {
      "text/plain": [
       "(30000, 2)"
      ]
     },
     "execution_count": 5,
     "metadata": {},
     "output_type": "execute_result"
    }
   ],
   "source": [
    "merged_df.shape"
   ]
  }
 ],
 "metadata": {
  "kernelspec": {
   "display_name": "pytorch-cuda-12.1",
   "language": "python",
   "name": "python3"
  },
  "language_info": {
   "codemirror_mode": {
    "name": "ipython",
    "version": 3
   },
   "file_extension": ".py",
   "mimetype": "text/x-python",
   "name": "python",
   "nbconvert_exporter": "python",
   "pygments_lexer": "ipython3",
   "version": "3.12.5"
  }
 },
 "nbformat": 4,
 "nbformat_minor": 2
}
