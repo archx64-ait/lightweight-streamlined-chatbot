{
 "cells": [
  {
   "cell_type": "code",
   "execution_count": 3,
   "metadata": {},
   "outputs": [
    {
     "data": {
      "application/vnd.microsoft.datawrangler.viewer.v0+json": {
       "columns": [
        {
         "name": "index",
         "rawType": "int64",
         "type": "integer"
        },
        {
         "name": "folder",
         "rawType": "int64",
         "type": "integer"
        },
        {
         "name": "dialogueID",
         "rawType": "object",
         "type": "string"
        },
        {
         "name": "date",
         "rawType": "object",
         "type": "string"
        },
        {
         "name": "from",
         "rawType": "object",
         "type": "unknown"
        },
        {
         "name": "to",
         "rawType": "object",
         "type": "unknown"
        },
        {
         "name": "text",
         "rawType": "object",
         "type": "unknown"
        }
       ],
       "conversionMethod": "pd.DataFrame",
       "ref": "a4ad9931-19f0-407b-8217-c03190b0c713",
       "rows": [
        [
         "0",
         "301",
         "1.tsv",
         "2004-11-23T11:49:00.000Z",
         "stuNNed",
         null,
         "any ideas why java plugin takes so long to load?"
        ],
        [
         "1",
         "301",
         "1.tsv",
         "2004-11-23T11:49:00.000Z",
         "crimsun",
         "stuNNed",
         "java 1.4?"
        ],
        [
         "2",
         "301",
         "1.tsv",
         "2004-11-23T11:49:00.000Z",
         "stuNNed",
         "crimsun",
         "yes"
        ],
        [
         "3",
         "301",
         "1.tsv",
         "2004-11-23T11:49:00.000Z",
         "crimsun",
         "stuNNed",
         "java 1.5 loads _much_ faster"
        ],
        [
         "4",
         "301",
         "1.tsv",
         "2004-11-23T11:50:00.000Z",
         "stuNNed",
         "crimsun",
         "noneus: how can i get 1.5 is there a .deb somewhere?"
        ],
        [
         "5",
         "301",
         "1.tsv",
         "2004-11-23T11:50:00.000Z",
         "crimsun",
         "stuNNed",
         "not yet."
        ],
        [
         "6",
         "301",
         "1.tsv",
         "2004-11-23T11:50:00.000Z",
         "stuNNed",
         "crimsun",
         "noneus: is this blackdown or sun?"
        ],
        [
         "7",
         "301",
         "1.tsv",
         "2004-11-23T11:50:00.000Z",
         "stuNNed",
         "crimsun",
         "did you install just the jre?"
        ],
        [
         "8",
         "301",
         "1.tsv",
         "2004-11-23T11:51:00.000Z",
         "crimsun",
         "stuNNed",
         "I use IBM's 1.4.2"
        ],
        [
         "9",
         "301",
         "1.tsv",
         "2004-11-23T11:51:00.000Z",
         "crimsun",
         "stuNNed",
         "(jdk, because I do globus development)"
        ],
        [
         "10",
         "301",
         "1.tsv",
         "2004-11-23T11:52:00.000Z",
         "stuNNed",
         "crimsun",
         "ah ok then, i'll give it a try, does IBM have a standard jre with plugin?"
        ],
        [
         "11",
         "301",
         "1.tsv",
         "2004-11-23T11:52:00.000Z",
         "crimsun",
         "stuNNed",
         "yes"
        ],
        [
         "12",
         "301",
         "1.tsv",
         "2004-11-23T11:52:00.000Z",
         "stuNNed",
         "crimsun",
         "thanks, i'll try that, screwed up and tried to upgrade firefox/java on my own now java takes real long time to load"
        ],
        [
         "13",
         "301",
         "1.tsv",
         "2004-11-23T11:57:00.000Z",
         "stuNNed",
         "crimsun",
         "can't seem to find an ibm jre package, would you happen to have a url?"
        ],
        [
         "14",
         "301",
         "1.tsv",
         "2004-11-23T11:59:00.000Z",
         "crimsun",
         "stuNNed",
         "https://www6.software.ibm.com/dl/lxdk/lxdk-p"
        ],
        [
         "15",
         "301",
         "1.tsv",
         "2004-11-23T11:59:00.000Z",
         "crimsun",
         "stuNNed",
         "you have to create a login."
        ],
        [
         "16",
         "301",
         "1.tsv",
         "2004-11-23T11:59:00.000Z",
         "stuNNed",
         "crimsun",
         "much appreciated"
        ],
        [
         "17",
         "301",
         "1.tsv",
         "2004-11-23T12:09:00.000Z",
         "stuNNed",
         "crimsun",
         "1.42 is latest IBM java?"
        ],
        [
         "18",
         "301",
         "1.tsv",
         "2004-11-23T12:10:00.000Z",
         "crimsun",
         "stuNNed",
         "yes."
        ],
        [
         "19",
         "301",
         "1.tsv",
         "2004-11-23T12:10:00.000Z",
         "crimsun",
         "stuNNed",
         "for certain arches"
        ],
        [
         "20",
         "301",
         "1.tsv",
         "2004-11-23T12:10:00.000Z",
         "stuNNed",
         "crimsun",
         "do you have j2se-common installed in ubuntu as well is ibm's java?"
        ],
        [
         "21",
         "301",
         "1.tsv",
         "2004-11-23T12:11:00.000Z",
         "crimsun",
         "stuNNed",
         "I do not."
        ],
        [
         "22",
         "301",
         "1.tsv",
         "2004-11-23T12:11:00.000Z",
         "stuNNed",
         "crimsun",
         "ok, got it"
        ],
        [
         "23",
         "301",
         "1.tsv",
         "2004-11-23T12:17:00.000Z",
         "stuNNed",
         "crimsun",
         "i don't know what's up, no matter what java plugin i use, it takes a really long time to load a java applet"
        ],
        [
         "24",
         "301",
         "1.tsv",
         "2004-11-23T12:31:00.000Z",
         "stuNNed",
         "crimsun",
         "are you using warty or hoary?  and firefox .9 or 1.0?"
        ],
        [
         "25",
         "301",
         "1.tsv",
         "2004-11-23T12:31:00.000Z",
         "crimsun",
         "stuNNed",
         "Hoary (kernel from Warty) mixed with Debian Sid+experimental. mozilla-firefox 1.0-2 from Sid."
        ],
        [
         "26",
         "301",
         "1.tsv",
         "2004-11-23T12:31:00.000Z",
         "stuNNed",
         "crimsun",
         "eh, i dare not to go there :)"
        ],
        [
         "27",
         "301",
         "1.tsv",
         "2004-11-23T12:32:00.000Z",
         "stuNNed",
         "crimsun",
         "where'd you get that mozilla-firefox from sid? ;)"
        ],
        [
         "28",
         "301",
         "1.tsv",
         "2004-11-23T12:32:00.000Z",
         "crimsun",
         "stuNNed",
         "it's in Sid's pool"
        ],
        [
         "29",
         "301",
         "1.tsv",
         "2004-11-23T12:32:00.000Z",
         "stuNNed",
         "crimsun",
         "i can get the .deb on the web?"
        ],
        [
         "30",
         "301",
         "1.tsv",
         "2004-11-23T12:33:00.000Z",
         "crimsun",
         "stuNNed",
         "sure, but I'd wait a couple days. It'll probably be in Hoary within days."
        ],
        [
         "31",
         "301",
         "1.tsv",
         "2004-11-23T12:33:00.000Z",
         "stuNNed",
         "crimsun",
         "but...Hoary...isn't that unstable?"
        ],
        [
         "32",
         "301",
         "1.tsv",
         "2004-11-23T12:35:00.000Z",
         "stuNNed",
         "crimsun",
         "how did you hold back and keep Warty kernel?"
        ],
        [
         "33",
         "301",
         "1.tsv",
         "2004-11-23T12:36:00.000Z",
         "crimsun",
         "stuNNed",
         "I use apt-pinning to keep the linux-* (well, kernel-related) packages pinned to warty-security"
        ],
        [
         "34",
         "301",
         "1.tsv",
         "2004-11-23T12:43:00.000Z",
         "stuNNed",
         "crimsun",
         "ok so far IBM's java is pretty clean, fast, and seems stable (so far) :D"
        ],
        [
         "35",
         "301",
         "1.tsv",
         "2004-11-23T12:43:00.000Z",
         "crimsun",
         "stuNNed",
         "indeed."
        ],
        [
         "36",
         "301",
         "1.tsv",
         "2004-11-28T11:40:00.000Z",
         "stuNNed",
         "crimsun",
         "so just wait a day for sed error to be fixed and don't `apt-get upgrade` at this time?"
        ],
        [
         "37",
         "301",
         "1.tsv",
         "2004-11-28T11:45:00.000Z",
         "crimsun",
         "stuNNed",
         "it is already fixed. The matter of the fixed package migrating to pool is of time."
        ],
        [
         "38",
         "301",
         "1.tsv",
         "2004-11-28T11:45:00.000Z",
         "stuNNed",
         "crimsun",
         "got it, thanks"
        ],
        [
         "39",
         "301",
         "1.tsv",
         "2004-11-28T11:46:00.000Z",
         "stuNNed",
         "crimsun",
         "LOL, CRASH! :D"
        ],
        [
         "40",
         "301",
         "1.tsv",
         "2004-12-18T11:16:00.000Z",
         "crimsun",
         "stuNNed",
         "dell laptop?"
        ],
        [
         "41",
         "301",
         "1.tsv",
         "2004-12-18T11:16:00.000Z",
         "crimsun",
         "stuNNed",
         "lsmod|grep snd_intel8x0m|wc -l"
        ],
        [
         "42",
         "301",
         "1.tsv",
         "2004-12-18T11:17:00.000Z",
         "stuNNed",
         "crimsun",
         "0 but i did install hsf deb early on then upgraded to hoary"
        ],
        [
         "43",
         "301",
         "1.tsv",
         "2004-12-18T11:17:00.000Z",
         "stuNNed",
         "crimsun",
         "and yes dell laptop sorry"
        ],
        [
         "44",
         "301",
         "1.tsv",
         "2004-12-18T11:18:00.000Z",
         "crimsun",
         "stuNNed",
         "look in /proc/interrupts and ensure an irq is being assigned to your sound chipset"
        ],
        [
         "45",
         "301",
         "1.tsv",
         "2004-12-18T11:18:00.000Z",
         "stuNNed",
         "crimsun",
         "roger"
        ],
        [
         "46",
         "301",
         "1.tsv",
         "2004-12-18T11:19:00.000Z",
         "stuNNed",
         "crimsun",
         "only thing closely resembling is i8042 would that be it?"
        ],
        [
         "47",
         "301",
         "1.tsv",
         "2004-12-18T11:19:00.000Z",
         "crimsun",
         "stuNNed",
         "nope"
        ],
        [
         "48",
         "301",
         "1.tsv",
         "2004-12-18T11:19:00.000Z",
         "stuNNed",
         "crimsun",
         "ok, thanks! how to fix?"
        ],
        [
         "49",
         "301",
         "1.tsv",
         "2004-12-18T11:19:00.000Z",
         "crimsun",
         "stuNNed",
         "and snd_intel8x0 is loaded, correct?"
        ]
       ],
       "shape": {
        "columns": 6,
        "rows": 16587830
       }
      },
      "text/html": [
       "<div>\n",
       "<style scoped>\n",
       "    .dataframe tbody tr th:only-of-type {\n",
       "        vertical-align: middle;\n",
       "    }\n",
       "\n",
       "    .dataframe tbody tr th {\n",
       "        vertical-align: top;\n",
       "    }\n",
       "\n",
       "    .dataframe thead th {\n",
       "        text-align: right;\n",
       "    }\n",
       "</style>\n",
       "<table border=\"1\" class=\"dataframe\">\n",
       "  <thead>\n",
       "    <tr style=\"text-align: right;\">\n",
       "      <th></th>\n",
       "      <th>folder</th>\n",
       "      <th>dialogueID</th>\n",
       "      <th>date</th>\n",
       "      <th>from</th>\n",
       "      <th>to</th>\n",
       "      <th>text</th>\n",
       "    </tr>\n",
       "  </thead>\n",
       "  <tbody>\n",
       "    <tr>\n",
       "      <th>0</th>\n",
       "      <td>301</td>\n",
       "      <td>1.tsv</td>\n",
       "      <td>2004-11-23T11:49:00.000Z</td>\n",
       "      <td>stuNNed</td>\n",
       "      <td>NaN</td>\n",
       "      <td>any ideas why java plugin takes so long to load?</td>\n",
       "    </tr>\n",
       "    <tr>\n",
       "      <th>1</th>\n",
       "      <td>301</td>\n",
       "      <td>1.tsv</td>\n",
       "      <td>2004-11-23T11:49:00.000Z</td>\n",
       "      <td>crimsun</td>\n",
       "      <td>stuNNed</td>\n",
       "      <td>java 1.4?</td>\n",
       "    </tr>\n",
       "    <tr>\n",
       "      <th>2</th>\n",
       "      <td>301</td>\n",
       "      <td>1.tsv</td>\n",
       "      <td>2004-11-23T11:49:00.000Z</td>\n",
       "      <td>stuNNed</td>\n",
       "      <td>crimsun</td>\n",
       "      <td>yes</td>\n",
       "    </tr>\n",
       "    <tr>\n",
       "      <th>3</th>\n",
       "      <td>301</td>\n",
       "      <td>1.tsv</td>\n",
       "      <td>2004-11-23T11:49:00.000Z</td>\n",
       "      <td>crimsun</td>\n",
       "      <td>stuNNed</td>\n",
       "      <td>java 1.5 loads _much_ faster</td>\n",
       "    </tr>\n",
       "    <tr>\n",
       "      <th>4</th>\n",
       "      <td>301</td>\n",
       "      <td>1.tsv</td>\n",
       "      <td>2004-11-23T11:50:00.000Z</td>\n",
       "      <td>stuNNed</td>\n",
       "      <td>crimsun</td>\n",
       "      <td>noneus: how can i get 1.5 is there a .deb some...</td>\n",
       "    </tr>\n",
       "    <tr>\n",
       "      <th>...</th>\n",
       "      <td>...</td>\n",
       "      <td>...</td>\n",
       "      <td>...</td>\n",
       "      <td>...</td>\n",
       "      <td>...</td>\n",
       "      <td>...</td>\n",
       "    </tr>\n",
       "    <tr>\n",
       "      <th>16587825</th>\n",
       "      <td>32</td>\n",
       "      <td>1783.tsv</td>\n",
       "      <td>2007-11-15T03:38:00.000Z</td>\n",
       "      <td>koyo001</td>\n",
       "      <td>NaN</td>\n",
       "      <td>thanks</td>\n",
       "    </tr>\n",
       "    <tr>\n",
       "      <th>16587826</th>\n",
       "      <td>32</td>\n",
       "      <td>1783.tsv</td>\n",
       "      <td>2007-11-15T03:39:00.000Z</td>\n",
       "      <td>koyo001</td>\n",
       "      <td>NaN</td>\n",
       "      <td>does anyone know something</td>\n",
       "    </tr>\n",
       "    <tr>\n",
       "      <th>16587827</th>\n",
       "      <td>32</td>\n",
       "      <td>1783.tsv</td>\n",
       "      <td>2007-11-15T03:39:00.000Z</td>\n",
       "      <td>neverblue</td>\n",
       "      <td>NaN</td>\n",
       "      <td>no, no one knows everything</td>\n",
       "    </tr>\n",
       "    <tr>\n",
       "      <th>16587828</th>\n",
       "      <td>32</td>\n",
       "      <td>1783.tsv</td>\n",
       "      <td>2007-11-15T03:40:00.000Z</td>\n",
       "      <td>koyo001</td>\n",
       "      <td>ikonia</td>\n",
       "      <td>the camera doesnt work</td>\n",
       "    </tr>\n",
       "    <tr>\n",
       "      <th>16587829</th>\n",
       "      <td>32</td>\n",
       "      <td>1783.tsv</td>\n",
       "      <td>2007-11-15T03:40:00.000Z</td>\n",
       "      <td>neverblue</td>\n",
       "      <td>koyo001</td>\n",
       "      <td>I believe you missed a post or two while you w...</td>\n",
       "    </tr>\n",
       "  </tbody>\n",
       "</table>\n",
       "<p>16587830 rows × 6 columns</p>\n",
       "</div>"
      ],
      "text/plain": [
       "          folder dialogueID                      date       from       to  \\\n",
       "0            301      1.tsv  2004-11-23T11:49:00.000Z    stuNNed      NaN   \n",
       "1            301      1.tsv  2004-11-23T11:49:00.000Z    crimsun  stuNNed   \n",
       "2            301      1.tsv  2004-11-23T11:49:00.000Z    stuNNed  crimsun   \n",
       "3            301      1.tsv  2004-11-23T11:49:00.000Z    crimsun  stuNNed   \n",
       "4            301      1.tsv  2004-11-23T11:50:00.000Z    stuNNed  crimsun   \n",
       "...          ...        ...                       ...        ...      ...   \n",
       "16587825      32   1783.tsv  2007-11-15T03:38:00.000Z    koyo001      NaN   \n",
       "16587826      32   1783.tsv  2007-11-15T03:39:00.000Z    koyo001      NaN   \n",
       "16587827      32   1783.tsv  2007-11-15T03:39:00.000Z  neverblue      NaN   \n",
       "16587828      32   1783.tsv  2007-11-15T03:40:00.000Z    koyo001   ikonia   \n",
       "16587829      32   1783.tsv  2007-11-15T03:40:00.000Z  neverblue  koyo001   \n",
       "\n",
       "                                                       text  \n",
       "0          any ideas why java plugin takes so long to load?  \n",
       "1                                                 java 1.4?  \n",
       "2                                                       yes  \n",
       "3                              java 1.5 loads _much_ faster  \n",
       "4         noneus: how can i get 1.5 is there a .deb some...  \n",
       "...                                                     ...  \n",
       "16587825                                             thanks  \n",
       "16587826                         does anyone know something  \n",
       "16587827                        no, no one knows everything  \n",
       "16587828                             the camera doesnt work  \n",
       "16587829  I believe you missed a post or two while you w...  \n",
       "\n",
       "[16587830 rows x 6 columns]"
      ]
     },
     "execution_count": 3,
     "metadata": {},
     "output_type": "execute_result"
    }
   ],
   "source": [
    "import pandas as pd\n",
    "\n",
    "df = pd.read_csv('../data/Ubuntu-dialogue-corpus/dialogueText_301.csv')\n",
    "df"
   ]
  },
  {
   "cell_type": "code",
   "execution_count": 4,
   "metadata": {},
   "outputs": [],
   "source": [
    "df_raw = df.head(10000).to_csv('sample/ubuntu_dialogue_corpus_301.csv')"
   ]
  }
 ],
 "metadata": {
  "kernelspec": {
   "display_name": "pytorch-cuda-12.1",
   "language": "python",
   "name": "python3"
  },
  "language_info": {
   "codemirror_mode": {
    "name": "ipython",
    "version": 3
   },
   "file_extension": ".py",
   "mimetype": "text/x-python",
   "name": "python",
   "nbconvert_exporter": "python",
   "pygments_lexer": "ipython3",
   "version": "3.12.5"
  }
 },
 "nbformat": 4,
 "nbformat_minor": 2
}
