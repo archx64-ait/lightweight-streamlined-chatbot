{
 "cells": [
  {
   "cell_type": "code",
   "execution_count": 1,
   "metadata": {},
   "outputs": [],
   "source": [
    "import pandas as pd\n",
    "\n",
    "df = pd.read_csv('sample/ubuntu_context_1M.csv')\n"
   ]
  },
  {
   "cell_type": "code",
   "execution_count": 2,
   "metadata": {},
   "outputs": [
    {
     "data": {
      "application/vnd.microsoft.datawrangler.viewer.v0+json": {
       "columns": [
        {
         "name": "index",
         "rawType": "int64",
         "type": "integer"
        },
        {
         "name": "Unnamed: 0",
         "rawType": "int64",
         "type": "integer"
        },
        {
         "name": "dialogueID",
         "rawType": "object",
         "type": "string"
        },
        {
         "name": "date",
         "rawType": "object",
         "type": "string"
        },
        {
         "name": "from",
         "rawType": "object",
         "type": "unknown"
        },
        {
         "name": "to",
         "rawType": "object",
         "type": "unknown"
        },
        {
         "name": "text",
         "rawType": "object",
         "type": "unknown"
        }
       ],
       "conversionMethod": "pd.DataFrame",
       "ref": "2adc716e-9212-4354-a3be-34cace8a665e",
       "rows": [
        [
         "0",
         "961",
         "148.tsv",
         "2009-03-06T11:17:00.000Z",
         "foul_owl",
         null,
         "possibly, but i have reinstalled the 180 drivers since, and direct rendering still doesn't work"
        ],
        [
         "1",
         "962",
         "148.tsv",
         "2009-03-06T11:18:00.000Z",
         "foul_owl",
         null,
         "not the drivers directly from nvidia, but the nvidia-glx-180 package"
        ],
        [
         "2",
         "963",
         "148.tsv",
         "2009-03-06T11:18:00.000Z",
         "foul_owl",
         null,
         "thanks for your help btw"
        ],
        [
         "3",
         "964",
         "148.tsv",
         "2009-03-06T11:19:00.000Z",
         "foul_owl",
         null,
         "is there any way to see WHY the kernel module doesn't load?"
        ],
        [
         "4",
         "965",
         "148.tsv",
         "2009-03-06T11:19:00.000Z",
         "foul_owl",
         null,
         "i am not using the hardware drivers manager, i am using just the command line"
        ],
        [
         "5",
         "966",
         "148.tsv",
         "2009-03-06T11:20:00.000Z",
         "foul_owl",
         null,
         "and i was using 180.23 or 26 can't remember"
        ],
        [
         "6",
         "967",
         "148.tsv",
         "2009-03-06T11:21:00.000Z",
         "foul_owl",
         null,
         "i have been having this problem since august 2008 (see post in forums, lol)"
        ],
        [
         "7",
         "968",
         "148.tsv",
         "2009-03-06T11:22:00.000Z",
         "foul_owl",
         null,
         "is x still running? yes, but i always reboot"
        ],
        [
         "8",
         "969",
         "148.tsv",
         "2009-03-06T11:24:00.000Z",
         "foul_owl",
         null,
         "interesting. are we talking about the free drivers too? I stop gdm when installing the drivers directly from nvidia, because it says i should, but i need to stop gdm when installing the free drivers too?"
        ],
        [
         "9",
         "970",
         "148.tsv",
         "2009-03-06T11:25:00.000Z",
         "foul_owl",
         null,
         "also, i might have tried building and install mesa 7.0.3 a few months ago, will the nvidia-glx-* package overwrite my mesa install? (i tried building mesa to fix my dri problem in the past)"
        ],
        [
         "10",
         "971",
         "148.tsv",
         "2009-03-06T11:26:00.000Z",
         "crdlb",
         "foul_owl",
         "why would you build mesa? nvidia does not use mesa"
        ],
        [
         "11",
         "972",
         "148.tsv",
         "2009-03-06T11:26:00.000Z",
         "crdlb",
         "foul_owl",
         "by running the nvidia.com installer, you've crippled hardware drivers"
        ],
        [
         "12",
         "973",
         "148.tsv",
         "2009-03-06T11:27:00.000Z",
         "crdlb",
         "foul_owl",
         "as I said, nvidia does not use mesa"
        ],
        [
         "13",
         "974",
         "148.tsv",
         "2009-03-06T11:28:00.000Z",
         "crdlb",
         "foul_owl",
         "I don't recommend it, but if you already have ..."
        ],
        [
         "14",
         "975",
         "148.tsv",
         "2009-03-06T11:29:00.000Z",
         "crdlb",
         "foul_owl",
         "not a chance"
        ],
        [
         "15",
         "976",
         "148.tsv",
         "2009-03-06T11:30:00.000Z",
         "foul_owl",
         "crdlb",
         "regarding hardware issue, right?"
        ],
        [
         "16",
         "977",
         "148.tsv",
         "2009-03-06T11:30:00.000Z",
         "crdlb",
         "foul_owl",
         "yes"
        ],
        [
         "17",
         "978",
         "148.tsv",
         "2009-03-06T11:31:00.000Z",
         "crdlb",
         "foul_owl",
         "so you have never used the nvidia installer on this install of ubuntu?"
        ],
        [
         "18",
         "979",
         "148.tsv",
         "2009-03-06T11:35:00.000Z",
         "foul_owl",
         "crdlb",
         "yes, i have used the nvidia installer, once. but i ran the uninstaller too."
        ],
        [
         "19",
         "980",
         "148.tsv",
         "2009-03-06T11:35:00.000Z",
         "crdlb",
         "foul_owl",
         "hopefully, that didn't break anything :/"
        ],
        [
         "20",
         "981",
         "148.tsv",
         "2009-03-06T11:35:00.000Z",
         "crdlb",
         "foul_owl",
         "is the nvidia kernel module loaded?"
        ],
        [
         "21",
         "982",
         "148.tsv",
         "2009-03-06T11:37:00.000Z",
         "crdlb",
         "foul_owl",
         "so it's loaded right now and the /var/log/Xorg.0.log doesn't show any nvidia errors?"
        ],
        [
         "22",
         "983",
         "148.tsv",
         "2009-03-06T11:37:00.000Z",
         "foul_owl",
         "crdlb",
         "yes, but no direct rendering."
        ],
        [
         "23",
         "984",
         "148.tsv",
         "2009-03-06T11:39:00.000Z",
         "crdlb",
         "foul_owl",
         "dpkg -S /usr/lib/libGL.so.1.2"
        ],
        [
         "24",
         "985",
         "148.tsv",
         "2009-03-06T11:40:00.000Z",
         "foul_owl",
         "crdlb",
         "brb need to reboot real quick, but will try that command"
        ],
        [
         "25",
         "986",
         "148.tsv",
         "2009-03-06T11:48:00.000Z",
         "crdlb",
         "foul_owl",
         "pastebin the output of glxinfo"
        ],
        [
         "26",
         "987",
         "148.tsv",
         "2009-03-06T11:48:00.000Z",
         "foul_owl",
         "crdlb",
         "will do!"
        ],
        [
         "27",
         "988",
         "148.tsv",
         "2009-03-06T11:50:00.000Z",
         "foul_owl",
         "crdlb",
         "http://rafb.net/p/Tq4RbS43.html"
        ],
        [
         "28",
         "989",
         "148.tsv",
         "2009-03-06T11:50:00.000Z",
         "crdlb",
         "foul_owl",
         "hrm, pastebin your /var/log/Xorg.0.log too"
        ],
        [
         "29",
         "990",
         "148.tsv",
         "2009-03-06T11:51:00.000Z",
         "crdlb",
         "foul_owl",
         "the server glx version says Mesa, which implies that the nvidia driver has not replaced the files it needs to replace"
        ],
        [
         "30",
         "991",
         "148.tsv",
         "2009-03-06T11:52:00.000Z",
         "foul_owl",
         "crdlb",
         "http://rafb.net/p/T3fRh040.html"
        ],
        [
         "31",
         "992",
         "148.tsv",
         "2009-03-06T11:56:00.000Z",
         "crdlb",
         "foul_owl",
         "ok, this is a bit magic, but it may work: sudo apt-get --purge remove nvidia-glx-180; sudo apt-get --reinstall install libgl1-mesa-glx; sudo apt-get install nvidia-glx-180"
        ],
        [
         "32",
         "993",
         "148.tsv",
         "2009-03-06T11:58:00.000Z",
         "foul_owl",
         "crdlb",
         "thanks! I will give that a try, will be back to report on success or failure"
        ],
        [
         "33",
         "994",
         "148.tsv",
         "2009-03-06T11:58:00.000Z",
         "crdlb",
         "foul_owl",
         "you shouldn't even need to restart X when it's done"
        ],
        [
         "34",
         "995",
         "148.tsv",
         "2009-03-06T12:13:00.000Z",
         "crdlb",
         "foul_owl",
         "does that file exist?"
        ],
        [
         "35",
         "996",
         "148.tsv",
         "2009-03-06T12:04:00.000Z",
         "foul_owl",
         "crdlb",
         "didn't work"
        ],
        [
         "36",
         "997",
         "148.tsv",
         "2009-03-06T12:04:00.000Z",
         "foul_owl",
         "crdlb",
         "perhaps setting LIBGL_DEBUG to verbose could help? I have never gotten that to work though"
        ],
        [
         "37",
         "998",
         "148.tsv",
         "2009-03-06T12:05:00.000Z",
         "crdlb",
         "foul_owl",
         "since nvidia doesn't use mesa, you don't get anything with that"
        ],
        [
         "38",
         "999",
         "148.tsv",
         "2009-03-06T12:05:00.000Z",
         "foul_owl",
         "crdlb",
         "ahh, i see"
        ],
        [
         "39",
         "1000",
         "148.tsv",
         "2009-03-06T12:06:00.000Z",
         "crdlb",
         "foul_owl",
         "does glxinfo have NVIDIA for the vendors now?"
        ],
        [
         "40",
         "1001",
         "148.tsv",
         "2009-03-06T12:07:00.000Z",
         "foul_owl",
         "crdlb",
         "no, nvidia is not mentioned"
        ],
        [
         "41",
         "1002",
         "148.tsv",
         "2009-03-06T12:07:00.000Z",
         "foul_owl",
         "crdlb",
         "perhaps mesa glx is being used, when nvidia glx should be?"
        ],
        [
         "42",
         "1003",
         "148.tsv",
         "2009-03-06T12:08:00.000Z",
         "crdlb",
         "foul_owl",
         "yes"
        ],
        [
         "43",
         "1004",
         "148.tsv",
         "2009-03-06T12:08:00.000Z",
         "foul_owl",
         "crdlb",
         "well now things are making sense. hmmm, how to fix this?"
        ],
        [
         "44",
         "1005",
         "148.tsv",
         "2009-03-06T12:08:00.000Z",
         "crdlb",
         "foul_owl",
         "that was supposed to work :/"
        ],
        [
         "45",
         "1006",
         "148.tsv",
         "2009-03-06T12:09:00.000Z",
         "crdlb",
         "foul_owl",
         "does it sill say Brian Paul?"
        ],
        [
         "46",
         "1007",
         "148.tsv",
         "2009-03-06T12:09:00.000Z",
         "foul_owl",
         "crdlb",
         "i built and installed mesa from source a long time ago"
        ],
        [
         "47",
         "1008",
         "148.tsv",
         "2009-03-06T12:09:00.000Z",
         "crdlb",
         "foul_owl",
         "yeahh, but this should have taken care of it; maybe you do need to restart X for some silly reason"
        ],
        [
         "48",
         "1009",
         "148.tsv",
         "2009-03-06T12:10:00.000Z",
         "crdlb",
         "foul_owl",
         "I guess the libgl _is_ used in the server too"
        ],
        [
         "49",
         "1010",
         "148.tsv",
         "2009-03-06T12:10:00.000Z",
         "crdlb",
         "foul_owl",
         "yes"
        ]
       ],
       "shape": {
        "columns": 6,
        "rows": 999907
       }
      },
      "text/html": [
       "<div>\n",
       "<style scoped>\n",
       "    .dataframe tbody tr th:only-of-type {\n",
       "        vertical-align: middle;\n",
       "    }\n",
       "\n",
       "    .dataframe tbody tr th {\n",
       "        vertical-align: top;\n",
       "    }\n",
       "\n",
       "    .dataframe thead th {\n",
       "        text-align: right;\n",
       "    }\n",
       "</style>\n",
       "<table border=\"1\" class=\"dataframe\">\n",
       "  <thead>\n",
       "    <tr style=\"text-align: right;\">\n",
       "      <th></th>\n",
       "      <th>Unnamed: 0</th>\n",
       "      <th>dialogueID</th>\n",
       "      <th>date</th>\n",
       "      <th>from</th>\n",
       "      <th>to</th>\n",
       "      <th>text</th>\n",
       "    </tr>\n",
       "  </thead>\n",
       "  <tbody>\n",
       "    <tr>\n",
       "      <th>0</th>\n",
       "      <td>961</td>\n",
       "      <td>148.tsv</td>\n",
       "      <td>2009-03-06T11:17:00.000Z</td>\n",
       "      <td>foul_owl</td>\n",
       "      <td>NaN</td>\n",
       "      <td>possibly, but i have reinstalled the 180 drive...</td>\n",
       "    </tr>\n",
       "    <tr>\n",
       "      <th>1</th>\n",
       "      <td>962</td>\n",
       "      <td>148.tsv</td>\n",
       "      <td>2009-03-06T11:18:00.000Z</td>\n",
       "      <td>foul_owl</td>\n",
       "      <td>NaN</td>\n",
       "      <td>not the drivers directly from nvidia, but the ...</td>\n",
       "    </tr>\n",
       "    <tr>\n",
       "      <th>2</th>\n",
       "      <td>963</td>\n",
       "      <td>148.tsv</td>\n",
       "      <td>2009-03-06T11:18:00.000Z</td>\n",
       "      <td>foul_owl</td>\n",
       "      <td>NaN</td>\n",
       "      <td>thanks for your help btw</td>\n",
       "    </tr>\n",
       "    <tr>\n",
       "      <th>3</th>\n",
       "      <td>964</td>\n",
       "      <td>148.tsv</td>\n",
       "      <td>2009-03-06T11:19:00.000Z</td>\n",
       "      <td>foul_owl</td>\n",
       "      <td>NaN</td>\n",
       "      <td>is there any way to see WHY the kernel module ...</td>\n",
       "    </tr>\n",
       "    <tr>\n",
       "      <th>4</th>\n",
       "      <td>965</td>\n",
       "      <td>148.tsv</td>\n",
       "      <td>2009-03-06T11:19:00.000Z</td>\n",
       "      <td>foul_owl</td>\n",
       "      <td>NaN</td>\n",
       "      <td>i am not using the hardware drivers manager, i...</td>\n",
       "    </tr>\n",
       "    <tr>\n",
       "      <th>...</th>\n",
       "      <td>...</td>\n",
       "      <td>...</td>\n",
       "      <td>...</td>\n",
       "      <td>...</td>\n",
       "      <td>...</td>\n",
       "      <td>...</td>\n",
       "    </tr>\n",
       "    <tr>\n",
       "      <th>999902</th>\n",
       "      <td>9212869</td>\n",
       "      <td>3676.tsv</td>\n",
       "      <td>2012-07-07T20:01:00.000Z</td>\n",
       "      <td>legolas</td>\n",
       "      <td>NaN</td>\n",
       "      <td>:D</td>\n",
       "    </tr>\n",
       "    <tr>\n",
       "      <th>999903</th>\n",
       "      <td>9212870</td>\n",
       "      <td>3676.tsv</td>\n",
       "      <td>2012-07-07T20:03:00.000Z</td>\n",
       "      <td>legolas</td>\n",
       "      <td>NaN</td>\n",
       "      <td>is there any irc for opensource softwares?</td>\n",
       "    </tr>\n",
       "    <tr>\n",
       "      <th>999904</th>\n",
       "      <td>9212871</td>\n",
       "      <td>3676.tsv</td>\n",
       "      <td>2012-07-07T20:04:00.000Z</td>\n",
       "      <td>MonkeyDust</td>\n",
       "      <td>legolas</td>\n",
       "      <td>try #ubuntu</td>\n",
       "    </tr>\n",
       "    <tr>\n",
       "      <th>999905</th>\n",
       "      <td>9212872</td>\n",
       "      <td>3676.tsv</td>\n",
       "      <td>2012-07-07T20:17:00.000Z</td>\n",
       "      <td>MonkeyDust</td>\n",
       "      <td>legolas</td>\n",
       "      <td>= arian</td>\n",
       "    </tr>\n",
       "    <tr>\n",
       "      <th>999906</th>\n",
       "      <td>9212873</td>\n",
       "      <td>3676.tsv</td>\n",
       "      <td>2012-07-07T20:18:00.000Z</td>\n",
       "      <td>MonkeyDust</td>\n",
       "      <td>legolas</td>\n",
       "      <td>observation and deduction, dear watson</td>\n",
       "    </tr>\n",
       "  </tbody>\n",
       "</table>\n",
       "<p>999907 rows × 6 columns</p>\n",
       "</div>"
      ],
      "text/plain": [
       "        Unnamed: 0 dialogueID                      date        from       to  \\\n",
       "0              961    148.tsv  2009-03-06T11:17:00.000Z    foul_owl      NaN   \n",
       "1              962    148.tsv  2009-03-06T11:18:00.000Z    foul_owl      NaN   \n",
       "2              963    148.tsv  2009-03-06T11:18:00.000Z    foul_owl      NaN   \n",
       "3              964    148.tsv  2009-03-06T11:19:00.000Z    foul_owl      NaN   \n",
       "4              965    148.tsv  2009-03-06T11:19:00.000Z    foul_owl      NaN   \n",
       "...            ...        ...                       ...         ...      ...   \n",
       "999902     9212869   3676.tsv  2012-07-07T20:01:00.000Z     legolas      NaN   \n",
       "999903     9212870   3676.tsv  2012-07-07T20:03:00.000Z     legolas      NaN   \n",
       "999904     9212871   3676.tsv  2012-07-07T20:04:00.000Z  MonkeyDust  legolas   \n",
       "999905     9212872   3676.tsv  2012-07-07T20:17:00.000Z  MonkeyDust  legolas   \n",
       "999906     9212873   3676.tsv  2012-07-07T20:18:00.000Z  MonkeyDust  legolas   \n",
       "\n",
       "                                                     text  \n",
       "0       possibly, but i have reinstalled the 180 drive...  \n",
       "1       not the drivers directly from nvidia, but the ...  \n",
       "2                                thanks for your help btw  \n",
       "3       is there any way to see WHY the kernel module ...  \n",
       "4       i am not using the hardware drivers manager, i...  \n",
       "...                                                   ...  \n",
       "999902                                                 :D  \n",
       "999903         is there any irc for opensource softwares?  \n",
       "999904                                        try #ubuntu  \n",
       "999905                                            = arian  \n",
       "999906             observation and deduction, dear watson  \n",
       "\n",
       "[999907 rows x 6 columns]"
      ]
     },
     "execution_count": 2,
     "metadata": {},
     "output_type": "execute_result"
    }
   ],
   "source": [
    "df"
   ]
  },
  {
   "cell_type": "markdown",
   "metadata": {},
   "source": [
    "## Preprocess the Data"
   ]
  },
  {
   "cell_type": "code",
   "execution_count": 3,
   "metadata": {},
   "outputs": [],
   "source": [
    "from collections import defaultdict\n",
    "\n",
    "# relevant = ['dialogueID','from', 'to', 'text']\n",
    "\n",
    "def build_prompt_response_pairs(df):\n",
    "    grouped = df.groupby('dialogueID')\n",
    "    conversations = []\n",
    "\n",
    "    for _, group in grouped:\n",
    "        sorted_group = group.sort_values('date')\n",
    "        turns = sorted_group['text'].tolist()\n",
    "\n",
    "        for i in range(len(turns) - 1):\n",
    "            prompt = turns[i]\n",
    "            response = turns[i+1]\n",
    "            conversations.append({\n",
    "                'prompt': prompt,\n",
    "                'response': response\n",
    "            })\n",
    "\n",
    "    return pd.DataFrame(conversations)"
   ]
  },
  {
   "cell_type": "code",
   "execution_count": 4,
   "metadata": {},
   "outputs": [
    {
     "data": {
      "application/vnd.microsoft.datawrangler.viewer.v0+json": {
       "columns": [
        {
         "name": "index",
         "rawType": "int64",
         "type": "integer"
        },
        {
         "name": "prompt",
         "rawType": "object",
         "type": "unknown"
        },
        {
         "name": "response",
         "rawType": "object",
         "type": "unknown"
        }
       ],
       "conversionMethod": "pd.DataFrame",
       "ref": "7ba9f5a1-7f13-4a55-9e61-99d702651099",
       "rows": [
        [
         "0",
         "hey, im pretty new to ubuntu, is there anyway i can program .net in ubuntu?",
         "mono"
        ],
        [
         "1",
         "mono",
         "mono is a .net framework, that is.  As for where to program, I'm not quite sure if there's a preferred IDE or what"
        ],
        [
         "2",
         "mono is a .net framework, that is.  As for where to program, I'm not quite sure if there's a preferred IDE or what",
         "i going to check it out...:)"
        ],
        [
         "3",
         "i going to check it out...:)",
         "Check out wine.  You'll have to research the various programs, winehq.org"
        ],
        [
         "4",
         "Check out wine.  You'll have to research the various programs, winehq.org",
         "is there some way to make faster open office, I love ubuntu but i find open office frustating"
        ],
        [
         "5",
         "is there some way to make faster open office, I love ubuntu but i find open office frustating",
         "you can also try GNU Office (Abiword and GNUmeric)"
        ],
        [
         "6",
         "you can also try GNU Office (Abiword and GNUmeric)",
         "for .doc files you can try antidoc"
        ],
        [
         "7",
         "hello",
         "could anyone please help me with php? i'm trying to install one application but each time i get '/usr/bin/php: bad interpreter: No such file or directory'"
        ],
        [
         "8",
         "could anyone please help me with php? i'm trying to install one application but each time i get '/usr/bin/php: bad interpreter: No such file or directory'",
         "I mean"
        ],
        [
         "9",
         "I mean",
         "Good, that should sort your problem"
        ],
        [
         "10",
         "Good, that should sort your problem",
         "Np"
        ],
        [
         "11",
         "Np",
         "that just removes the meta-package... it won't remove anything real."
        ],
        [
         "12",
         "that just removes the meta-package... it won't remove anything real.",
         "unop: boo, how about kde-core ?"
        ],
        [
         "13",
         "unop: boo, how about kde-core ?",
         "that will probably get more/most/maybe all of it ;)"
        ],
        [
         "14",
         "help, no matter how I set permissions, I cannot get mp3s onto usb player to show up in other than pc manager",
         "actually, the communist party has its own 'official' linux distro, red flag linux"
        ],
        [
         "15",
         "actually, the communist party has its own 'official' linux distro, red flag linux",
         "you serious?"
        ],
        [
         "16",
         "you serious?",
         "is it possible to install hardy from a usb key?"
        ],
        [
         "17",
         "is it possible to install hardy from a usb key?",
         "yes"
        ],
        [
         "18",
         "yes",
         "i put the iso on a stick and used syslinux to boot it, but now it complains it can't find the cd drive"
        ],
        [
         "19",
         "i put the iso on a stick and used syslinux to boot it, but now it complains it can't find the cd drive",
         "did you follow the instructions in !install?"
        ],
        [
         "20",
         "did you follow the instructions in !install?",
         "no, is that on the iso?"
        ],
        [
         "21",
         "what is the command to run a .run executable ?",
         "ETQW-demo-server.3.x86.run: 1: Syntax error: '(' unexpected"
        ],
        [
         "22",
         "ETQW-demo-server.3.x86.run: 1: Syntax error: '(' unexpected",
         "or wait"
        ],
        [
         "23",
         "or wait",
         "sh file.run or just ./file.run - the latter works if the file is executable, make it executable with chmod +x file.run"
        ],
        [
         "24",
         "sh file.run or just ./file.run - the latter works if the file is executable, make it executable with chmod +x file.run",
         "yeah, that looks to be a problem with the executable rather than a problem running it"
        ],
        [
         "25",
         "yeah, that looks to be a problem with the executable rather than a problem running it",
         "I'm trying to understand what files I need to backup in case of hard drive failure.  Obviously I should backup my /home/ folder.  It also seems that I should backup my /etc/, /var/, and /usr/local.   Is there anything else I should consider?"
        ],
        [
         "26",
         "I'm trying to understand what files I need to backup in case of hard drive failure.  Obviously I should backup my /home/ folder.  It also seems that I should backup my /etc/, /var/, and /usr/local.   Is there anything else I should consider?",
         "home is really the most important, the others you mention could be useful, but unless you're backing up everything, there's obviously still going to be reinstallation to be done, and it could potentially be a hassle"
        ],
        [
         "27",
         "home is really the most important, the others you mention could be useful, but unless you're backing up everything, there's obviously still going to be reinstallation to be done, and it could potentially be a hassle",
         "hmm OK thank you."
        ],
        [
         "28",
         "Is there a list of all DEB program packages which are installed on my Ubuntu 8.04.1 computer?",
         "dpkg -l"
        ],
        [
         "29",
         "dpkg -l",
         "Thank you for your help."
        ],
        [
         "30",
         "Thank you for your help.",
         "I'm getting this Error out of no where : /usr/bin/X11/xauth:  error in locking authority file /root/.Xauthority. Any help?"
        ],
        [
         "31",
         "I'm getting this Error out of no where : /usr/bin/X11/xauth:  error in locking authority file /root/.Xauthority. Any help?",
         "I'm getting this Error out of no where : /usr/bin/X11/xauth:  error in locking authority file /root/.Xauthority. Any help?"
        ],
        [
         "32",
         "I'm getting this Error out of no where : /usr/bin/X11/xauth:  error in locking authority file /root/.Xauthority. Any help?",
         "I'm getting this Error out of no where : /usr/bin/X11/xauth:  error in locking authority file /root/.Xauthority. Any help?"
        ],
        [
         "33",
         "I'm getting this Error out of no where : /usr/bin/X11/xauth:  error in locking authority file /root/.Xauthority. Any help?",
         "I'm getting this Error out of no where : /usr/bin/X11/xauth:  error in locking authority file /root/.Xauthority. Any help?"
        ],
        [
         "34",
         "I'm getting this Error out of no where : /usr/bin/X11/xauth:  error in locking authority file /root/.Xauthority. Any help?",
         "why are you running as root?"
        ],
        [
         "35",
         "any help? I don't have my desktop for a whole day",
         "does that happen for other users in your system ?"
        ],
        [
         "36",
         "does that happen for other users in your system ?",
         "Try ctrl-alt-f1  (this bring your text console)  Login with your username and password and then do:   'sudo adduser newusername'. Then press alt-f7 to get back to graphics and kill the session with ctrl-alt-backspace. When prompted, login as the new user you added."
        ],
        [
         "37",
         "Try ctrl-alt-f1  (this bring your text console)  Login with your username and password and then do:   'sudo adduser newusername'. Then press alt-f7 to get back to graphics and kill the session with ctrl-alt-backspace. When prompted, login as the new user you added.",
         "I am about to buy a 5-button mouse"
        ],
        [
         "38",
         "I am about to buy a 5-button mouse",
         "What is the likelyhood that all five buttons will work out of the box?"
        ],
        [
         "39",
         "What is the likelyhood that all five buttons will work out of the box?",
         "I am running ubuntu-minimal with openbox"
        ],
        [
         "40",
         "I am running ubuntu-minimal with openbox",
         "the cd that comes with the mouse contains windows drivers"
        ],
        [
         "41",
         "the cd that comes with the mouse contains windows drivers",
         "89.542% chance of success"
        ],
        [
         "42",
         "but the error i pasted is from a kernel driver source iwas trying to compiple",
         "/home/todd/Desktop/r5u870-0.10.0/usbcam.h:36:29: error: media/video-buf.h: No such file or directory"
        ],
        [
         "43",
         "/home/todd/Desktop/r5u870-0.10.0/usbcam.h:36:29: error: media/video-buf.h: No such file or directory",
         "indeed there are two clipboards. the X clipboard and the application clipboard."
        ],
        [
         "44",
         "indeed there are two clipboards. the X clipboard and the application clipboard.",
         "How can I change CPU fan speed?"
        ],
        [
         "45",
         "How can I change CPU fan speed?",
         "I am on ubuntu jaunty"
        ],
        [
         "46",
         "I am on ubuntu jaunty",
         "It should be possible. It was possible on windows."
        ],
        [
         "47",
         "It should be possible. It was possible on windows.",
         "ok"
        ],
        [
         "48",
         "ok",
         "http://wiki.archlinux.org/index.php/Fan_speed_control  <-- applicable to ubuntu as well"
        ],
        [
         "49",
         "ah well running setxkbmap fixed my keyboard? weird though, and I have to make a launcher since terminal didnt work either",
         "laptop kb, or desktop kb?"
        ]
       ],
       "shape": {
        "columns": 2,
        "rows": 962609
       }
      },
      "text/html": [
       "<div>\n",
       "<style scoped>\n",
       "    .dataframe tbody tr th:only-of-type {\n",
       "        vertical-align: middle;\n",
       "    }\n",
       "\n",
       "    .dataframe tbody tr th {\n",
       "        vertical-align: top;\n",
       "    }\n",
       "\n",
       "    .dataframe thead th {\n",
       "        text-align: right;\n",
       "    }\n",
       "</style>\n",
       "<table border=\"1\" class=\"dataframe\">\n",
       "  <thead>\n",
       "    <tr style=\"text-align: right;\">\n",
       "      <th></th>\n",
       "      <th>prompt</th>\n",
       "      <th>response</th>\n",
       "    </tr>\n",
       "  </thead>\n",
       "  <tbody>\n",
       "    <tr>\n",
       "      <th>0</th>\n",
       "      <td>hey, im pretty new to ubuntu, is there anyway ...</td>\n",
       "      <td>mono</td>\n",
       "    </tr>\n",
       "    <tr>\n",
       "      <th>1</th>\n",
       "      <td>mono</td>\n",
       "      <td>mono is a .net framework, that is.  As for whe...</td>\n",
       "    </tr>\n",
       "    <tr>\n",
       "      <th>2</th>\n",
       "      <td>mono is a .net framework, that is.  As for whe...</td>\n",
       "      <td>i going to check it out...:)</td>\n",
       "    </tr>\n",
       "    <tr>\n",
       "      <th>3</th>\n",
       "      <td>i going to check it out...:)</td>\n",
       "      <td>Check out wine.  You'll have to research the v...</td>\n",
       "    </tr>\n",
       "    <tr>\n",
       "      <th>4</th>\n",
       "      <td>Check out wine.  You'll have to research the v...</td>\n",
       "      <td>is there some way to make faster open office, ...</td>\n",
       "    </tr>\n",
       "    <tr>\n",
       "      <th>...</th>\n",
       "      <td>...</td>\n",
       "      <td>...</td>\n",
       "    </tr>\n",
       "    <tr>\n",
       "      <th>962604</th>\n",
       "      <td>isn't it good practice not to use sudo in a sc...</td>\n",
       "      <td>and what's with the spam today?</td>\n",
       "    </tr>\n",
       "    <tr>\n",
       "      <th>962605</th>\n",
       "      <td>and what's with the spam today?</td>\n",
       "      <td>depends on the script i imagine. :)</td>\n",
       "    </tr>\n",
       "    <tr>\n",
       "      <th>962606</th>\n",
       "      <td>depends on the script i imagine. :)</td>\n",
       "      <td>hack elliotbeken.dyndns.org</td>\n",
       "    </tr>\n",
       "    <tr>\n",
       "      <th>962607</th>\n",
       "      <td>hack elliotbeken.dyndns.org</td>\n",
       "      <td>not here please</td>\n",
       "    </tr>\n",
       "    <tr>\n",
       "      <th>962608</th>\n",
       "      <td>not here please</td>\n",
       "      <td>please STOP</td>\n",
       "    </tr>\n",
       "  </tbody>\n",
       "</table>\n",
       "<p>962609 rows × 2 columns</p>\n",
       "</div>"
      ],
      "text/plain": [
       "                                                   prompt  \\\n",
       "0       hey, im pretty new to ubuntu, is there anyway ...   \n",
       "1                                                    mono   \n",
       "2       mono is a .net framework, that is.  As for whe...   \n",
       "3                            i going to check it out...:)   \n",
       "4       Check out wine.  You'll have to research the v...   \n",
       "...                                                   ...   \n",
       "962604  isn't it good practice not to use sudo in a sc...   \n",
       "962605                    and what's with the spam today?   \n",
       "962606                depends on the script i imagine. :)   \n",
       "962607                        hack elliotbeken.dyndns.org   \n",
       "962608                                    not here please   \n",
       "\n",
       "                                                 response  \n",
       "0                                                    mono  \n",
       "1       mono is a .net framework, that is.  As for whe...  \n",
       "2                            i going to check it out...:)  \n",
       "3       Check out wine.  You'll have to research the v...  \n",
       "4       is there some way to make faster open office, ...  \n",
       "...                                                   ...  \n",
       "962604                    and what's with the spam today?  \n",
       "962605                depends on the script i imagine. :)  \n",
       "962606                        hack elliotbeken.dyndns.org  \n",
       "962607                                    not here please  \n",
       "962608                                        please STOP  \n",
       "\n",
       "[962609 rows x 2 columns]"
      ]
     },
     "execution_count": 4,
     "metadata": {},
     "output_type": "execute_result"
    }
   ],
   "source": [
    "processed_df = build_prompt_response_pairs(df)\n",
    "processed_df"
   ]
  },
  {
   "cell_type": "code",
   "execution_count": 5,
   "metadata": {},
   "outputs": [
    {
     "data": {
      "text/plain": [
       "'cuda'"
      ]
     },
     "execution_count": 5,
     "metadata": {},
     "output_type": "execute_result"
    }
   ],
   "source": [
    "import torch\n",
    "\n",
    "device = 'cuda' if torch.cuda.is_available() else 'cpu'\n",
    "device"
   ]
  },
  {
   "cell_type": "code",
   "execution_count": 6,
   "metadata": {},
   "outputs": [
    {
     "ename": "",
     "evalue": "",
     "output_type": "error",
     "traceback": [
      "\u001b[1;31mThe Kernel crashed while executing code in the current cell or a previous cell. \n",
      "\u001b[1;31mPlease review the code in the cell(s) to identify a possible cause of the failure. \n",
      "\u001b[1;31mClick <a href='https://aka.ms/vscodeJupyterKernelCrash'>here</a> for more info. \n",
      "\u001b[1;31mView Jupyter <a href='command:jupyter.viewOutput'>log</a> for further details."
     ]
    }
   ],
   "source": [
    "import os\n",
    "from huggingface_hub import login\n",
    "\n",
    "login(token=os.getenv('HUGGINGFACE'))"
   ]
  },
  {
   "cell_type": "markdown",
   "metadata": {},
   "source": [
    "## Tokenizing"
   ]
  },
  {
   "cell_type": "code",
   "execution_count": null,
   "metadata": {},
   "outputs": [
    {
     "data": {
      "application/vnd.jupyter.widget-view+json": {
       "model_id": "c3b915de4e3a492aa2048472bc44599a",
       "version_major": 2,
       "version_minor": 0
      },
      "text/plain": [
       "Loading checkpoint shards:   0%|          | 0/3 [00:00<?, ?it/s]"
      ]
     },
     "metadata": {},
     "output_type": "display_data"
    }
   ],
   "source": [
    "from datasets import Dataset\n",
    "from transformers import AutoTokenizer, AutoModelForCausalLM\n",
    "\n",
    "\n",
    "dataset = Dataset.from_pandas(processed_df)\n",
    "\n",
    "\n",
    "model_name = 'mistralai/Mistral-7B-v0.3'\n",
    "tokenizer = AutoTokenizer.from_pretrained(model_name)\n",
    "model = AutoModelForCausalLM.from_pretrained(model_name, torch_dtype='auto', device_map='auto')"
   ]
  },
  {
   "cell_type": "code",
   "execution_count": 8,
   "metadata": {},
   "outputs": [],
   "source": [
    "def tokenize(example):\n",
    "    tokenizer.pad_token = tokenizer.eos_token\n",
    "    input_text = f\"### Prompt:\\n{example['prompt']}\\n### Response:\\n{example['response']}\"\n",
    "    return tokenizer(input_text, truncation=True, padding=\"max_length\", max_length=512)"
   ]
  },
  {
   "cell_type": "code",
   "execution_count": null,
   "metadata": {},
   "outputs": [],
   "source": [
    "tokenized_dataset = dataset.map(tokenize)"
   ]
  },
  {
   "cell_type": "code",
   "execution_count": 10,
   "metadata": {},
   "outputs": [],
   "source": [
    "# tokenized_dataset.save_to_disk('sample/tokenized_ubuntu_1M')"
   ]
  },
  {
   "cell_type": "code",
   "execution_count": null,
   "metadata": {},
   "outputs": [],
   "source": [
    "from transformers import TrainingArguments, Trainer\n",
    "\n",
    "args = TrainingArguments(\n",
    "    \n",
    "    output_dir='models/',\n",
    "    per_device_train_batch_size=4,\n",
    "    per_device_eval_batch_size=4,\n",
    "    num_train_epochs=3,\n",
    "    logging_dir='logs/',\n",
    "    fp16=True,\n",
    "    save_strategy='epoch',\n",
    "    torch_compile=True,  # Optional for speed\n",
    "    gradient_checkpointing=True,  # Needed for large models\n",
    "    optim=\"paged_adamw_8bit\"  # If using bitsandbytes\n",
    ")\n",
    "\n",
    "trainer = Trainer(\n",
    "    model=model,\n",
    "    args=args,\n",
    "    train_dataset=tokenized_dataset\n",
    ")\n",
    "\n",
    "trainer.train()"
   ]
  }
 ],
 "metadata": {
  "kernelspec": {
   "display_name": "pytorch-cuda-12.1",
   "language": "python",
   "name": "python3"
  },
  "language_info": {
   "codemirror_mode": {
    "name": "ipython",
    "version": 3
   },
   "file_extension": ".py",
   "mimetype": "text/x-python",
   "name": "python",
   "nbconvert_exporter": "python",
   "pygments_lexer": "ipython3",
   "version": "3.12.5"
  }
 },
 "nbformat": 4,
 "nbformat_minor": 2
}
