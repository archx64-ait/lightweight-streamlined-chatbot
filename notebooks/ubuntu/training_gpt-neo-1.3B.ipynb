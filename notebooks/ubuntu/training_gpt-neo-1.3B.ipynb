{
 "cells": [
  {
   "cell_type": "code",
   "execution_count": 1,
   "metadata": {},
   "outputs": [],
   "source": [
    "import os\n",
    "# os.environ[\"CUDA_VISIBLE_DEVICES\"] = \"3\""
   ]
  },
  {
   "cell_type": "code",
   "execution_count": 2,
   "metadata": {},
   "outputs": [],
   "source": [
    "import pandas as pd\n",
    "\n",
    "df = pd.read_csv('sample/ubuntu_context_1000.csv')\n"
   ]
  },
  {
   "cell_type": "code",
   "execution_count": 3,
   "metadata": {
    "scrolled": true
   },
   "outputs": [
    {
     "data": {
      "text/html": [
       "<div>\n",
       "<style scoped>\n",
       "    .dataframe tbody tr th:only-of-type {\n",
       "        vertical-align: middle;\n",
       "    }\n",
       "\n",
       "    .dataframe tbody tr th {\n",
       "        vertical-align: top;\n",
       "    }\n",
       "\n",
       "    .dataframe thead th {\n",
       "        text-align: right;\n",
       "    }\n",
       "</style>\n",
       "<table border=\"1\" class=\"dataframe\">\n",
       "  <thead>\n",
       "    <tr style=\"text-align: right;\">\n",
       "      <th></th>\n",
       "      <th>Unnamed: 0</th>\n",
       "      <th>dialogueID</th>\n",
       "      <th>date</th>\n",
       "      <th>from</th>\n",
       "      <th>to</th>\n",
       "      <th>text</th>\n",
       "    </tr>\n",
       "  </thead>\n",
       "  <tbody>\n",
       "    <tr>\n",
       "      <th>0</th>\n",
       "      <td>100015</td>\n",
       "      <td>12077.tsv</td>\n",
       "      <td>2005-01-01T13:08:00.000Z</td>\n",
       "      <td>anir</td>\n",
       "      <td>NaN</td>\n",
       "      <td>hope we will get something better linux in the...</td>\n",
       "    </tr>\n",
       "    <tr>\n",
       "      <th>1</th>\n",
       "      <td>100016</td>\n",
       "      <td>12077.tsv</td>\n",
       "      <td>2005-01-01T13:09:00.000Z</td>\n",
       "      <td>anir</td>\n",
       "      <td>NaN</td>\n",
       "      <td>now Window is coming with LongHorn... its great..</td>\n",
       "    </tr>\n",
       "    <tr>\n",
       "      <th>2</th>\n",
       "      <td>100017</td>\n",
       "      <td>12077.tsv</td>\n",
       "      <td>2005-01-01T13:10:00.000Z</td>\n",
       "      <td>anir</td>\n",
       "      <td>NaN</td>\n",
       "      <td>i have just tried transformation package in XP...</td>\n",
       "    </tr>\n",
       "    <tr>\n",
       "      <th>3</th>\n",
       "      <td>100018</td>\n",
       "      <td>12077.tsv</td>\n",
       "      <td>2005-01-01T13:10:00.000Z</td>\n",
       "      <td>anir</td>\n",
       "      <td>NaN</td>\n",
       "      <td>now the ball is in your court LINUX..</td>\n",
       "    </tr>\n",
       "    <tr>\n",
       "      <th>4</th>\n",
       "      <td>100019</td>\n",
       "      <td>12077.tsv</td>\n",
       "      <td>2005-01-01T13:11:00.000Z</td>\n",
       "      <td>anir</td>\n",
       "      <td>NaN</td>\n",
       "      <td>what happened guys.. say something</td>\n",
       "    </tr>\n",
       "    <tr>\n",
       "      <th>...</th>\n",
       "      <td>...</td>\n",
       "      <td>...</td>\n",
       "      <td>...</td>\n",
       "      <td>...</td>\n",
       "      <td>...</td>\n",
       "      <td>...</td>\n",
       "    </tr>\n",
       "    <tr>\n",
       "      <th>982</th>\n",
       "      <td>8944250</td>\n",
       "      <td>12317.tsv</td>\n",
       "      <td>2008-12-17T02:58:00.000Z</td>\n",
       "      <td>Aberation</td>\n",
       "      <td>djbushdio</td>\n",
       "      <td>nothing happens when I directly open cdrom0</td>\n",
       "    </tr>\n",
       "    <tr>\n",
       "      <th>983</th>\n",
       "      <td>8944251</td>\n",
       "      <td>12317.tsv</td>\n",
       "      <td>2008-12-17T02:59:00.000Z</td>\n",
       "      <td>Aberation</td>\n",
       "      <td>djbushdio</td>\n",
       "      <td>WAIT! I got something when opening cdrom...but...</td>\n",
       "    </tr>\n",
       "    <tr>\n",
       "      <th>984</th>\n",
       "      <td>8944252</td>\n",
       "      <td>12317.tsv</td>\n",
       "      <td>2008-12-17T03:01:00.000Z</td>\n",
       "      <td>Aberation</td>\n",
       "      <td>djbushdio</td>\n",
       "      <td>logos are fine, but the menu has many colored ...</td>\n",
       "    </tr>\n",
       "    <tr>\n",
       "      <th>985</th>\n",
       "      <td>8944253</td>\n",
       "      <td>12317.tsv</td>\n",
       "      <td>2008-12-17T03:02:00.000Z</td>\n",
       "      <td>Aberation</td>\n",
       "      <td>djbushdio</td>\n",
       "      <td>same thing when I try to read the movie...</td>\n",
       "    </tr>\n",
       "    <tr>\n",
       "      <th>986</th>\n",
       "      <td>8944254</td>\n",
       "      <td>12317.tsv</td>\n",
       "      <td>2008-12-17T03:04:00.000Z</td>\n",
       "      <td>Aberation</td>\n",
       "      <td>djbushdio</td>\n",
       "      <td>weird mplayer works</td>\n",
       "    </tr>\n",
       "  </tbody>\n",
       "</table>\n",
       "<p>987 rows × 6 columns</p>\n",
       "</div>"
      ],
      "text/plain": [
       "     Unnamed: 0 dialogueID                      date       from         to  \\\n",
       "0        100015  12077.tsv  2005-01-01T13:08:00.000Z       anir        NaN   \n",
       "1        100016  12077.tsv  2005-01-01T13:09:00.000Z       anir        NaN   \n",
       "2        100017  12077.tsv  2005-01-01T13:10:00.000Z       anir        NaN   \n",
       "3        100018  12077.tsv  2005-01-01T13:10:00.000Z       anir        NaN   \n",
       "4        100019  12077.tsv  2005-01-01T13:11:00.000Z       anir        NaN   \n",
       "..          ...        ...                       ...        ...        ...   \n",
       "982     8944250  12317.tsv  2008-12-17T02:58:00.000Z  Aberation  djbushdio   \n",
       "983     8944251  12317.tsv  2008-12-17T02:59:00.000Z  Aberation  djbushdio   \n",
       "984     8944252  12317.tsv  2008-12-17T03:01:00.000Z  Aberation  djbushdio   \n",
       "985     8944253  12317.tsv  2008-12-17T03:02:00.000Z  Aberation  djbushdio   \n",
       "986     8944254  12317.tsv  2008-12-17T03:04:00.000Z  Aberation  djbushdio   \n",
       "\n",
       "                                                  text  \n",
       "0    hope we will get something better linux in the...  \n",
       "1    now Window is coming with LongHorn... its great..  \n",
       "2    i have just tried transformation package in XP...  \n",
       "3                now the ball is in your court LINUX..  \n",
       "4                   what happened guys.. say something  \n",
       "..                                                 ...  \n",
       "982        nothing happens when I directly open cdrom0  \n",
       "983  WAIT! I got something when opening cdrom...but...  \n",
       "984  logos are fine, but the menu has many colored ...  \n",
       "985         same thing when I try to read the movie...  \n",
       "986                                weird mplayer works  \n",
       "\n",
       "[987 rows x 6 columns]"
      ]
     },
     "execution_count": 3,
     "metadata": {},
     "output_type": "execute_result"
    }
   ],
   "source": [
    "df"
   ]
  },
  {
   "cell_type": "markdown",
   "metadata": {},
   "source": [
    "## Preprocess the Data"
   ]
  },
  {
   "cell_type": "code",
   "execution_count": 4,
   "metadata": {},
   "outputs": [],
   "source": [
    "def build_prompt_response_pairs(df):\n",
    "    grouped = df.groupby(\"dialogueID\")\n",
    "    conversations = []\n",
    "    for _, group in grouped:\n",
    "        turns = group.sort_values(\"date\")[\"text\"].dropna().tolist()\n",
    "        for i in range(len(turns) - 1):\n",
    "            conversations.append({\n",
    "                \"text\": f\"### Prompt:\\n{turns[i]}\\n### Response:\\n{turns[i + 1]}\"\n",
    "            })\n",
    "    return pd.DataFrame(conversations)"
   ]
  },
  {
   "cell_type": "code",
   "execution_count": 5,
   "metadata": {},
   "outputs": [
    {
     "data": {
      "text/html": [
       "<div>\n",
       "<style scoped>\n",
       "    .dataframe tbody tr th:only-of-type {\n",
       "        vertical-align: middle;\n",
       "    }\n",
       "\n",
       "    .dataframe tbody tr th {\n",
       "        vertical-align: top;\n",
       "    }\n",
       "\n",
       "    .dataframe thead th {\n",
       "        text-align: right;\n",
       "    }\n",
       "</style>\n",
       "<table border=\"1\" class=\"dataframe\">\n",
       "  <thead>\n",
       "    <tr style=\"text-align: right;\">\n",
       "      <th></th>\n",
       "      <th>text</th>\n",
       "    </tr>\n",
       "  </thead>\n",
       "  <tbody>\n",
       "    <tr>\n",
       "      <th>0</th>\n",
       "      <td>### Prompt:\\nAnyone here that got experience w...</td>\n",
       "    </tr>\n",
       "    <tr>\n",
       "      <th>1</th>\n",
       "      <td>### Prompt:\\n- I have payed with the ati drive...</td>\n",
       "    </tr>\n",
       "    <tr>\n",
       "      <th>2</th>\n",
       "      <td>### Prompt:\\n- my card is a radeon 9550, for r...</td>\n",
       "    </tr>\n",
       "    <tr>\n",
       "      <th>3</th>\n",
       "      <td>### Prompt:\\n: what kind of clues??\\n### Respo...</td>\n",
       "    </tr>\n",
       "    <tr>\n",
       "      <th>4</th>\n",
       "      <td>### Prompt:\\n- first off  fglrx the open sourc...</td>\n",
       "    </tr>\n",
       "    <tr>\n",
       "      <th>...</th>\n",
       "      <td>...</td>\n",
       "    </tr>\n",
       "    <tr>\n",
       "      <th>958</th>\n",
       "      <td>### Prompt:\\nnot implementing a database :/\\n#...</td>\n",
       "    </tr>\n",
       "    <tr>\n",
       "      <th>959</th>\n",
       "      <td>### Prompt:\\nHello...\\n### Response:\\nA small ...</td>\n",
       "    </tr>\n",
       "    <tr>\n",
       "      <th>960</th>\n",
       "      <td>### Prompt:\\nA small question: What would caus...</td>\n",
       "    </tr>\n",
       "    <tr>\n",
       "      <th>961</th>\n",
       "      <td>### Prompt:\\nFunny thing is, Win7 and XP insta...</td>\n",
       "    </tr>\n",
       "    <tr>\n",
       "      <th>962</th>\n",
       "      <td>### Prompt:\\nThought that myself, xfact, until...</td>\n",
       "    </tr>\n",
       "  </tbody>\n",
       "</table>\n",
       "<p>963 rows × 1 columns</p>\n",
       "</div>"
      ],
      "text/plain": [
       "                                                  text\n",
       "0    ### Prompt:\\nAnyone here that got experience w...\n",
       "1    ### Prompt:\\n- I have payed with the ati drive...\n",
       "2    ### Prompt:\\n- my card is a radeon 9550, for r...\n",
       "3    ### Prompt:\\n: what kind of clues??\\n### Respo...\n",
       "4    ### Prompt:\\n- first off  fglrx the open sourc...\n",
       "..                                                 ...\n",
       "958  ### Prompt:\\nnot implementing a database :/\\n#...\n",
       "959  ### Prompt:\\nHello...\\n### Response:\\nA small ...\n",
       "960  ### Prompt:\\nA small question: What would caus...\n",
       "961  ### Prompt:\\nFunny thing is, Win7 and XP insta...\n",
       "962  ### Prompt:\\nThought that myself, xfact, until...\n",
       "\n",
       "[963 rows x 1 columns]"
      ]
     },
     "execution_count": 5,
     "metadata": {},
     "output_type": "execute_result"
    }
   ],
   "source": [
    "processed_df = build_prompt_response_pairs(df)\n",
    "processed_df"
   ]
  },
  {
   "cell_type": "code",
   "execution_count": 6,
   "metadata": {},
   "outputs": [
    {
     "data": {
      "text/plain": [
       "Dataset({\n",
       "    features: ['text'],\n",
       "    num_rows: 963\n",
       "})"
      ]
     },
     "execution_count": 6,
     "metadata": {},
     "output_type": "execute_result"
    }
   ],
   "source": [
    "from datasets import Dataset\n",
    "dataset = Dataset.from_pandas(processed_df)\n",
    "dataset"
   ]
  },
  {
   "cell_type": "code",
   "execution_count": 7,
   "metadata": {},
   "outputs": [],
   "source": [
    "SEED = 69\n",
    "dataset = dataset.train_test_split(test_size=0.3, seed=SEED)    \n",
    "val_test_split = dataset['test'].train_test_split(test_size=0.5, seed=SEED)\n",
    "dataset['validation'] = val_test_split['train']\n",
    "dataset['test'] = val_test_split['test']"
   ]
  },
  {
   "cell_type": "code",
   "execution_count": 8,
   "metadata": {},
   "outputs": [
    {
     "name": "stdout",
     "output_type": "stream",
     "text": [
      "cuda:torch.cuda.current_device(): NVIDIA GeForce RTX 2080 Ti\n"
     ]
    }
   ],
   "source": [
    "import torch\n",
    "device = 'cuda' if torch.cuda.is_available() else 'cpu'\n",
    "print(f'{device}:torch.cuda.current_device(): {torch.cuda.get_device_name()}')"
   ]
  },
  {
   "cell_type": "code",
   "execution_count": 9,
   "metadata": {},
   "outputs": [],
   "source": [
    "from transformers import AutoTokenizer\n",
    "\n",
    "MODEL_NAME = 'EleutherAI/gpt-neo-1.3B'\n",
    "MAX_LENGTH = 128\n",
    "\n",
    "tokenizer = AutoTokenizer.from_pretrained(MODEL_NAME)\n",
    "tokenizer.pad_token = tokenizer.eos_token\n",
    "\n",
    "def tokenize(example):\n",
    "    tokens = tokenizer(\n",
    "        example[\"text\"],\n",
    "        truncation=True,\n",
    "        padding=\"max_length\",\n",
    "        max_length=MAX_LENGTH\n",
    "    )\n",
    "    tokens[\"labels\"] = tokens[\"input_ids\"].copy()\n",
    "    return tokens"
   ]
  },
  {
   "cell_type": "markdown",
   "metadata": {},
   "source": [
    "#### Set all data splits to torch format"
   ]
  },
  {
   "cell_type": "code",
   "execution_count": 10,
   "metadata": {},
   "outputs": [
    {
     "data": {
      "application/vnd.jupyter.widget-view+json": {
       "model_id": "cd7554cef35d4f3e91eb76ca84954f29",
       "version_major": 2,
       "version_minor": 0
      },
      "text/plain": [
       "Map:   0%|          | 0/674 [00:00<?, ? examples/s]"
      ]
     },
     "metadata": {},
     "output_type": "display_data"
    },
    {
     "data": {
      "application/vnd.jupyter.widget-view+json": {
       "model_id": "35382d50582c43f1a9c8792c30d47dc4",
       "version_major": 2,
       "version_minor": 0
      },
      "text/plain": [
       "Map:   0%|          | 0/145 [00:00<?, ? examples/s]"
      ]
     },
     "metadata": {},
     "output_type": "display_data"
    },
    {
     "data": {
      "application/vnd.jupyter.widget-view+json": {
       "model_id": "c3e9a8bc9475409e9a6cdc069c83f618",
       "version_major": 2,
       "version_minor": 0
      },
      "text/plain": [
       "Map:   0%|          | 0/144 [00:00<?, ? examples/s]"
      ]
     },
     "metadata": {},
     "output_type": "display_data"
    }
   ],
   "source": [
    "tokenized_dataset = dataset.map(tokenize, batched=True)\n",
    "\n",
    "for split in ['train', 'validation', 'test']:\n",
    "    tokenized_dataset[split].set_format(type=\"torch\", columns=[\"input_ids\", \"attention_mask\", \"labels\"])"
   ]
  },
  {
   "cell_type": "markdown",
   "metadata": {},
   "source": [
    "## Load Model + LoRA"
   ]
  },
  {
   "cell_type": "code",
   "execution_count": 11,
   "metadata": {},
   "outputs": [],
   "source": [
    "from transformers import BitsAndBytesConfig, AutoModelForCausalLM\n",
    "\n",
    "bnb_config = BitsAndBytesConfig(\n",
    "    load_in_4bit=True,\n",
    "    bnb_4bit_compute_dtype=torch.float16,\n",
    "    bnb_4bit_use_double_quant=True,\n",
    "    bnb_4bit_quant_type=\"nf4\"\n",
    ")\n",
    "\n",
    "model = AutoModelForCausalLM.from_pretrained(\n",
    "    MODEL_NAME,\n",
    "    quantization_config=bnb_config,\n",
    "    device_map=\"auto\",\n",
    "    # device_map=f\"cuda:{torch.cuda.current_device()}\",\n",
    "    torch_dtype=torch.float16\n",
    ")\n",
    "\n",
    "from peft import prepare_model_for_kbit_training, get_peft_model, LoraConfig\n",
    "\n",
    "# model.gradient_checkpointing_enable()\n",
    "model = prepare_model_for_kbit_training(model)\n",
    "\n",
    "# config for mistral and neo-gpt\n",
    "lora_config = LoraConfig(\n",
    "    r=8,\n",
    "    lora_alpha=32,\n",
    "    target_modules=[\"q_proj\", \"v_proj\"],\n",
    "    lora_dropout=0.05,\n",
    "    bias=\"none\",\n",
    "    task_type=\"CAUSAL_LM\"\n",
    ")\n",
    "\n",
    "model = get_peft_model(model, lora_config)"
   ]
  },
  {
   "cell_type": "code",
   "execution_count": 12,
   "metadata": {},
   "outputs": [
    {
     "name": "stdout",
     "output_type": "stream",
     "text": [
      "True\n"
     ]
    }
   ],
   "source": [
    "print(model.is_gradient_checkpointing)"
   ]
  },
  {
   "cell_type": "code",
   "execution_count": 13,
   "metadata": {},
   "outputs": [
    {
     "name": "stdout",
     "output_type": "stream",
     "text": [
      "False\n"
     ]
    }
   ],
   "source": [
    "model.gradient_checkpointing_disable() \n",
    "print(model.is_gradient_checkpointing) "
   ]
  },
  {
   "cell_type": "markdown",
   "metadata": {},
   "source": [
    "### Training args and Trainer"
   ]
  },
  {
   "cell_type": "code",
   "execution_count": 14,
   "metadata": {},
   "outputs": [
    {
     "name": "stderr",
     "output_type": "stream",
     "text": [
      "/home/jupyter-st124974/.local/lib/python3.12/site-packages/transformers/training_args.py:1594: FutureWarning: `evaluation_strategy` is deprecated and will be removed in version 4.46 of 🤗 Transformers. Use `eval_strategy` instead\n",
      "  warnings.warn(\n",
      "No label_names provided for model class `PeftModelForCausalLM`. Since `PeftModel` hides base models input arguments, if label_names is not given, label_names can't be set automatically within `Trainer`. Note that empty label_names list will be used instead.\n"
     ]
    }
   ],
   "source": [
    "from transformers import TrainingArguments, Trainer\n",
    "\n",
    "training_args = TrainingArguments(\n",
    "    output_dir=\"./models/gpt-neo\",\n",
    "    per_device_train_batch_size=4,\n",
    "    per_device_eval_batch_size=4,\n",
    "    num_train_epochs=3,\n",
    "    fp16=False,\n",
    "    logging_dir=\"./logs\",\n",
    "    logging_steps=100,\n",
    "    logging_strategy='steps',\n",
    "    save_strategy=\"epoch\",\n",
    "    gradient_accumulation_steps=1,\n",
    "    evaluation_strategy=\"steps\",\n",
    "    eval_steps=100,\n",
    "    report_to=None\n",
    ")\n",
    "\n",
    "trainer = Trainer(\n",
    "    model=model,\n",
    "    args=training_args,\n",
    "    train_dataset=tokenized_dataset[\"train\"],\n",
    "    eval_dataset=tokenized_dataset[\"validation\"]\n",
    ")"
   ]
  },
  {
   "cell_type": "code",
   "execution_count": 15,
   "metadata": {},
   "outputs": [
    {
     "name": "stderr",
     "output_type": "stream",
     "text": [
      "\u001b[34m\u001b[1mwandb\u001b[0m: \u001b[33mWARNING\u001b[0m The `run_name` is currently set to the same value as `TrainingArguments.output_dir`. If this was not intended, please specify a different run name by setting the `TrainingArguments.run_name` parameter.\n",
      "Failed to detect the name of this notebook, you can set it manually with the WANDB_NOTEBOOK_NAME environment variable to enable code saving.\n",
      "\u001b[34m\u001b[1mwandb\u001b[0m: Using wandb-core as the SDK backend.  Please refer to https://wandb.me/wandb-core for more information.\n",
      "\u001b[34m\u001b[1mwandb\u001b[0m: Currently logged in as: \u001b[33mst124974\u001b[0m (\u001b[33mbinit-ait\u001b[0m) to \u001b[32mhttps://api.wandb.ai\u001b[0m. Use \u001b[1m`wandb login --relogin`\u001b[0m to force relogin\n"
     ]
    },
    {
     "data": {
      "text/html": [
       "Tracking run with wandb version 0.19.7"
      ],
      "text/plain": [
       "<IPython.core.display.HTML object>"
      ]
     },
     "metadata": {},
     "output_type": "display_data"
    },
    {
     "data": {
      "text/html": [
       "Run data is saved locally in <code>/home/jupyter-st124974/wandb/run-20250404_105018-x9a6zfwu</code>"
      ],
      "text/plain": [
       "<IPython.core.display.HTML object>"
      ]
     },
     "metadata": {},
     "output_type": "display_data"
    },
    {
     "data": {
      "text/html": [
       "Syncing run <strong><a href='https://wandb.ai/binit-ait/huggingface/runs/x9a6zfwu' target=\"_blank\">./models/gpt-neo</a></strong> to <a href='https://wandb.ai/binit-ait/huggingface' target=\"_blank\">Weights & Biases</a> (<a href='https://wandb.me/developer-guide' target=\"_blank\">docs</a>)<br>"
      ],
      "text/plain": [
       "<IPython.core.display.HTML object>"
      ]
     },
     "metadata": {},
     "output_type": "display_data"
    },
    {
     "data": {
      "text/html": [
       " View project at <a href='https://wandb.ai/binit-ait/huggingface' target=\"_blank\">https://wandb.ai/binit-ait/huggingface</a>"
      ],
      "text/plain": [
       "<IPython.core.display.HTML object>"
      ]
     },
     "metadata": {},
     "output_type": "display_data"
    },
    {
     "data": {
      "text/html": [
       " View run at <a href='https://wandb.ai/binit-ait/huggingface/runs/x9a6zfwu' target=\"_blank\">https://wandb.ai/binit-ait/huggingface/runs/x9a6zfwu</a>"
      ],
      "text/plain": [
       "<IPython.core.display.HTML object>"
      ]
     },
     "metadata": {},
     "output_type": "display_data"
    },
    {
     "data": {
      "text/html": [
       "\n",
       "    <div>\n",
       "      \n",
       "      <progress value='507' max='507' style='width:300px; height:20px; vertical-align: middle;'></progress>\n",
       "      [507/507 03:42, Epoch 3/3]\n",
       "    </div>\n",
       "    <table border=\"1\" class=\"dataframe\">\n",
       "  <thead>\n",
       " <tr style=\"text-align: left;\">\n",
       "      <th>Step</th>\n",
       "      <th>Training Loss</th>\n",
       "      <th>Validation Loss</th>\n",
       "    </tr>\n",
       "  </thead>\n",
       "  <tbody>\n",
       "    <tr>\n",
       "      <td>100</td>\n",
       "      <td>2.142100</td>\n",
       "      <td>0.923598</td>\n",
       "    </tr>\n",
       "    <tr>\n",
       "      <td>200</td>\n",
       "      <td>0.881700</td>\n",
       "      <td>0.830296</td>\n",
       "    </tr>\n",
       "    <tr>\n",
       "      <td>300</td>\n",
       "      <td>0.856300</td>\n",
       "      <td>0.816970</td>\n",
       "    </tr>\n",
       "    <tr>\n",
       "      <td>400</td>\n",
       "      <td>0.817100</td>\n",
       "      <td>0.810600</td>\n",
       "    </tr>\n",
       "    <tr>\n",
       "      <td>500</td>\n",
       "      <td>0.821400</td>\n",
       "      <td>0.808871</td>\n",
       "    </tr>\n",
       "  </tbody>\n",
       "</table><p>"
      ],
      "text/plain": [
       "<IPython.core.display.HTML object>"
      ]
     },
     "metadata": {},
     "output_type": "display_data"
    },
    {
     "data": {
      "text/plain": [
       "TrainOutput(global_step=507, training_loss=1.1005783758219883, metrics={'train_runtime': 225.2219, 'train_samples_per_second': 8.978, 'train_steps_per_second': 2.251, 'total_flos': 1879047690780672.0, 'train_loss': 1.1005783758219883, 'epoch': 3.0})"
      ]
     },
     "execution_count": 15,
     "metadata": {},
     "output_type": "execute_result"
    }
   ],
   "source": [
    "trainer.train()"
   ]
  },
  {
   "cell_type": "code",
   "execution_count": 16,
   "metadata": {},
   "outputs": [
    {
     "data": {
      "text/plain": [
       "[{'loss': 2.1421,\n",
       "  'grad_norm': 0.883268415927887,\n",
       "  'learning_rate': 4.0138067061143986e-05,\n",
       "  'epoch': 0.591715976331361,\n",
       "  'step': 100},\n",
       " {'eval_loss': 0.9235981702804565,\n",
       "  'eval_runtime': 6.2715,\n",
       "  'eval_samples_per_second': 22.961,\n",
       "  'eval_steps_per_second': 5.74,\n",
       "  'epoch': 0.591715976331361,\n",
       "  'step': 100},\n",
       " {'loss': 0.8817,\n",
       "  'grad_norm': 0.6994218826293945,\n",
       "  'learning_rate': 3.027613412228797e-05,\n",
       "  'epoch': 1.183431952662722,\n",
       "  'step': 200},\n",
       " {'eval_loss': 0.8302962779998779,\n",
       "  'eval_runtime': 6.3061,\n",
       "  'eval_samples_per_second': 22.835,\n",
       "  'eval_steps_per_second': 5.709,\n",
       "  'epoch': 1.183431952662722,\n",
       "  'step': 200},\n",
       " {'loss': 0.8563,\n",
       "  'grad_norm': 0.5275363326072693,\n",
       "  'learning_rate': 2.0414201183431952e-05,\n",
       "  'epoch': 1.7751479289940828,\n",
       "  'step': 300},\n",
       " {'eval_loss': 0.8169703483581543,\n",
       "  'eval_runtime': 6.3802,\n",
       "  'eval_samples_per_second': 22.57,\n",
       "  'eval_steps_per_second': 5.642,\n",
       "  'epoch': 1.7751479289940828,\n",
       "  'step': 300},\n",
       " {'loss': 0.8171,\n",
       "  'grad_norm': 0.5999659299850464,\n",
       "  'learning_rate': 1.0552268244575937e-05,\n",
       "  'epoch': 2.366863905325444,\n",
       "  'step': 400},\n",
       " {'eval_loss': 0.8105998039245605,\n",
       "  'eval_runtime': 6.3746,\n",
       "  'eval_samples_per_second': 22.59,\n",
       "  'eval_steps_per_second': 5.647,\n",
       "  'epoch': 2.366863905325444,\n",
       "  'step': 400},\n",
       " {'loss': 0.8214,\n",
       "  'grad_norm': 0.7710105776786804,\n",
       "  'learning_rate': 6.903353057199211e-07,\n",
       "  'epoch': 2.9585798816568047,\n",
       "  'step': 500},\n",
       " {'eval_loss': 0.8088708519935608,\n",
       "  'eval_runtime': 6.3911,\n",
       "  'eval_samples_per_second': 22.531,\n",
       "  'eval_steps_per_second': 5.633,\n",
       "  'epoch': 2.9585798816568047,\n",
       "  'step': 500},\n",
       " {'train_runtime': 225.2219,\n",
       "  'train_samples_per_second': 8.978,\n",
       "  'train_steps_per_second': 2.251,\n",
       "  'total_flos': 1879047690780672.0,\n",
       "  'train_loss': 1.1005783758219883,\n",
       "  'epoch': 3.0,\n",
       "  'step': 507}]"
      ]
     },
     "execution_count": 16,
     "metadata": {},
     "output_type": "execute_result"
    }
   ],
   "source": [
    "trainer.state.log_history"
   ]
  },
  {
   "cell_type": "code",
   "execution_count": 18,
   "metadata": {},
   "outputs": [
    {
     "data": {
      "text/html": [
       "<div>\n",
       "<style scoped>\n",
       "    .dataframe tbody tr th:only-of-type {\n",
       "        vertical-align: middle;\n",
       "    }\n",
       "\n",
       "    .dataframe tbody tr th {\n",
       "        vertical-align: top;\n",
       "    }\n",
       "\n",
       "    .dataframe thead th {\n",
       "        text-align: right;\n",
       "    }\n",
       "</style>\n",
       "<table border=\"1\" class=\"dataframe\">\n",
       "  <thead>\n",
       "    <tr style=\"text-align: right;\">\n",
       "      <th></th>\n",
       "      <th>loss</th>\n",
       "      <th>grad_norm</th>\n",
       "      <th>learning_rate</th>\n",
       "      <th>epoch</th>\n",
       "      <th>step</th>\n",
       "      <th>eval_loss</th>\n",
       "      <th>eval_runtime</th>\n",
       "      <th>eval_samples_per_second</th>\n",
       "      <th>eval_steps_per_second</th>\n",
       "      <th>train_runtime</th>\n",
       "      <th>train_samples_per_second</th>\n",
       "      <th>train_steps_per_second</th>\n",
       "      <th>total_flos</th>\n",
       "      <th>train_loss</th>\n",
       "    </tr>\n",
       "  </thead>\n",
       "  <tbody>\n",
       "    <tr>\n",
       "      <th>0</th>\n",
       "      <td>2.1421</td>\n",
       "      <td>0.883268</td>\n",
       "      <td>4.013807e-05</td>\n",
       "      <td>0.591716</td>\n",
       "      <td>100</td>\n",
       "      <td>NaN</td>\n",
       "      <td>NaN</td>\n",
       "      <td>NaN</td>\n",
       "      <td>NaN</td>\n",
       "      <td>NaN</td>\n",
       "      <td>NaN</td>\n",
       "      <td>NaN</td>\n",
       "      <td>NaN</td>\n",
       "      <td>NaN</td>\n",
       "    </tr>\n",
       "    <tr>\n",
       "      <th>1</th>\n",
       "      <td>NaN</td>\n",
       "      <td>NaN</td>\n",
       "      <td>NaN</td>\n",
       "      <td>0.591716</td>\n",
       "      <td>100</td>\n",
       "      <td>0.923598</td>\n",
       "      <td>6.2715</td>\n",
       "      <td>22.961</td>\n",
       "      <td>5.740</td>\n",
       "      <td>NaN</td>\n",
       "      <td>NaN</td>\n",
       "      <td>NaN</td>\n",
       "      <td>NaN</td>\n",
       "      <td>NaN</td>\n",
       "    </tr>\n",
       "    <tr>\n",
       "      <th>2</th>\n",
       "      <td>0.8817</td>\n",
       "      <td>0.699422</td>\n",
       "      <td>3.027613e-05</td>\n",
       "      <td>1.183432</td>\n",
       "      <td>200</td>\n",
       "      <td>NaN</td>\n",
       "      <td>NaN</td>\n",
       "      <td>NaN</td>\n",
       "      <td>NaN</td>\n",
       "      <td>NaN</td>\n",
       "      <td>NaN</td>\n",
       "      <td>NaN</td>\n",
       "      <td>NaN</td>\n",
       "      <td>NaN</td>\n",
       "    </tr>\n",
       "    <tr>\n",
       "      <th>3</th>\n",
       "      <td>NaN</td>\n",
       "      <td>NaN</td>\n",
       "      <td>NaN</td>\n",
       "      <td>1.183432</td>\n",
       "      <td>200</td>\n",
       "      <td>0.830296</td>\n",
       "      <td>6.3061</td>\n",
       "      <td>22.835</td>\n",
       "      <td>5.709</td>\n",
       "      <td>NaN</td>\n",
       "      <td>NaN</td>\n",
       "      <td>NaN</td>\n",
       "      <td>NaN</td>\n",
       "      <td>NaN</td>\n",
       "    </tr>\n",
       "    <tr>\n",
       "      <th>4</th>\n",
       "      <td>0.8563</td>\n",
       "      <td>0.527536</td>\n",
       "      <td>2.041420e-05</td>\n",
       "      <td>1.775148</td>\n",
       "      <td>300</td>\n",
       "      <td>NaN</td>\n",
       "      <td>NaN</td>\n",
       "      <td>NaN</td>\n",
       "      <td>NaN</td>\n",
       "      <td>NaN</td>\n",
       "      <td>NaN</td>\n",
       "      <td>NaN</td>\n",
       "      <td>NaN</td>\n",
       "      <td>NaN</td>\n",
       "    </tr>\n",
       "    <tr>\n",
       "      <th>5</th>\n",
       "      <td>NaN</td>\n",
       "      <td>NaN</td>\n",
       "      <td>NaN</td>\n",
       "      <td>1.775148</td>\n",
       "      <td>300</td>\n",
       "      <td>0.816970</td>\n",
       "      <td>6.3802</td>\n",
       "      <td>22.570</td>\n",
       "      <td>5.642</td>\n",
       "      <td>NaN</td>\n",
       "      <td>NaN</td>\n",
       "      <td>NaN</td>\n",
       "      <td>NaN</td>\n",
       "      <td>NaN</td>\n",
       "    </tr>\n",
       "    <tr>\n",
       "      <th>6</th>\n",
       "      <td>0.8171</td>\n",
       "      <td>0.599966</td>\n",
       "      <td>1.055227e-05</td>\n",
       "      <td>2.366864</td>\n",
       "      <td>400</td>\n",
       "      <td>NaN</td>\n",
       "      <td>NaN</td>\n",
       "      <td>NaN</td>\n",
       "      <td>NaN</td>\n",
       "      <td>NaN</td>\n",
       "      <td>NaN</td>\n",
       "      <td>NaN</td>\n",
       "      <td>NaN</td>\n",
       "      <td>NaN</td>\n",
       "    </tr>\n",
       "    <tr>\n",
       "      <th>7</th>\n",
       "      <td>NaN</td>\n",
       "      <td>NaN</td>\n",
       "      <td>NaN</td>\n",
       "      <td>2.366864</td>\n",
       "      <td>400</td>\n",
       "      <td>0.810600</td>\n",
       "      <td>6.3746</td>\n",
       "      <td>22.590</td>\n",
       "      <td>5.647</td>\n",
       "      <td>NaN</td>\n",
       "      <td>NaN</td>\n",
       "      <td>NaN</td>\n",
       "      <td>NaN</td>\n",
       "      <td>NaN</td>\n",
       "    </tr>\n",
       "    <tr>\n",
       "      <th>8</th>\n",
       "      <td>0.8214</td>\n",
       "      <td>0.771011</td>\n",
       "      <td>6.903353e-07</td>\n",
       "      <td>2.958580</td>\n",
       "      <td>500</td>\n",
       "      <td>NaN</td>\n",
       "      <td>NaN</td>\n",
       "      <td>NaN</td>\n",
       "      <td>NaN</td>\n",
       "      <td>NaN</td>\n",
       "      <td>NaN</td>\n",
       "      <td>NaN</td>\n",
       "      <td>NaN</td>\n",
       "      <td>NaN</td>\n",
       "    </tr>\n",
       "    <tr>\n",
       "      <th>9</th>\n",
       "      <td>NaN</td>\n",
       "      <td>NaN</td>\n",
       "      <td>NaN</td>\n",
       "      <td>2.958580</td>\n",
       "      <td>500</td>\n",
       "      <td>0.808871</td>\n",
       "      <td>6.3911</td>\n",
       "      <td>22.531</td>\n",
       "      <td>5.633</td>\n",
       "      <td>NaN</td>\n",
       "      <td>NaN</td>\n",
       "      <td>NaN</td>\n",
       "      <td>NaN</td>\n",
       "      <td>NaN</td>\n",
       "    </tr>\n",
       "    <tr>\n",
       "      <th>10</th>\n",
       "      <td>NaN</td>\n",
       "      <td>NaN</td>\n",
       "      <td>NaN</td>\n",
       "      <td>3.000000</td>\n",
       "      <td>507</td>\n",
       "      <td>NaN</td>\n",
       "      <td>NaN</td>\n",
       "      <td>NaN</td>\n",
       "      <td>NaN</td>\n",
       "      <td>225.2219</td>\n",
       "      <td>8.978</td>\n",
       "      <td>2.251</td>\n",
       "      <td>1.879048e+15</td>\n",
       "      <td>1.100578</td>\n",
       "    </tr>\n",
       "  </tbody>\n",
       "</table>\n",
       "</div>"
      ],
      "text/plain": [
       "      loss  grad_norm  learning_rate     epoch  step  eval_loss  eval_runtime  \\\n",
       "0   2.1421   0.883268   4.013807e-05  0.591716   100        NaN           NaN   \n",
       "1      NaN        NaN            NaN  0.591716   100   0.923598        6.2715   \n",
       "2   0.8817   0.699422   3.027613e-05  1.183432   200        NaN           NaN   \n",
       "3      NaN        NaN            NaN  1.183432   200   0.830296        6.3061   \n",
       "4   0.8563   0.527536   2.041420e-05  1.775148   300        NaN           NaN   \n",
       "5      NaN        NaN            NaN  1.775148   300   0.816970        6.3802   \n",
       "6   0.8171   0.599966   1.055227e-05  2.366864   400        NaN           NaN   \n",
       "7      NaN        NaN            NaN  2.366864   400   0.810600        6.3746   \n",
       "8   0.8214   0.771011   6.903353e-07  2.958580   500        NaN           NaN   \n",
       "9      NaN        NaN            NaN  2.958580   500   0.808871        6.3911   \n",
       "10     NaN        NaN            NaN  3.000000   507        NaN           NaN   \n",
       "\n",
       "    eval_samples_per_second  eval_steps_per_second  train_runtime  \\\n",
       "0                       NaN                    NaN            NaN   \n",
       "1                    22.961                  5.740            NaN   \n",
       "2                       NaN                    NaN            NaN   \n",
       "3                    22.835                  5.709            NaN   \n",
       "4                       NaN                    NaN            NaN   \n",
       "5                    22.570                  5.642            NaN   \n",
       "6                       NaN                    NaN            NaN   \n",
       "7                    22.590                  5.647            NaN   \n",
       "8                       NaN                    NaN            NaN   \n",
       "9                    22.531                  5.633            NaN   \n",
       "10                      NaN                    NaN       225.2219   \n",
       "\n",
       "    train_samples_per_second  train_steps_per_second    total_flos  train_loss  \n",
       "0                        NaN                     NaN           NaN         NaN  \n",
       "1                        NaN                     NaN           NaN         NaN  \n",
       "2                        NaN                     NaN           NaN         NaN  \n",
       "3                        NaN                     NaN           NaN         NaN  \n",
       "4                        NaN                     NaN           NaN         NaN  \n",
       "5                        NaN                     NaN           NaN         NaN  \n",
       "6                        NaN                     NaN           NaN         NaN  \n",
       "7                        NaN                     NaN           NaN         NaN  \n",
       "8                        NaN                     NaN           NaN         NaN  \n",
       "9                        NaN                     NaN           NaN         NaN  \n",
       "10                     8.978                   2.251  1.879048e+15    1.100578  "
      ]
     },
     "execution_count": 18,
     "metadata": {},
     "output_type": "execute_result"
    }
   ],
   "source": [
    "from matplotlib import pyplot as plt\n",
    "import seaborn as sns\n",
    "\n",
    "log_df = pd.DataFrame(trainer.state.log_history)\n",
    "log_df"
   ]
  },
  {
   "cell_type": "code",
   "execution_count": 19,
   "metadata": {},
   "outputs": [
    {
     "data": {
      "text/html": [
       "<div>\n",
       "<style scoped>\n",
       "    .dataframe tbody tr th:only-of-type {\n",
       "        vertical-align: middle;\n",
       "    }\n",
       "\n",
       "    .dataframe tbody tr th {\n",
       "        vertical-align: top;\n",
       "    }\n",
       "\n",
       "    .dataframe thead th {\n",
       "        text-align: right;\n",
       "    }\n",
       "</style>\n",
       "<table border=\"1\" class=\"dataframe\">\n",
       "  <thead>\n",
       "    <tr style=\"text-align: right;\">\n",
       "      <th></th>\n",
       "      <th>step</th>\n",
       "      <th>loss</th>\n",
       "      <th>type</th>\n",
       "    </tr>\n",
       "  </thead>\n",
       "  <tbody>\n",
       "    <tr>\n",
       "      <th>0</th>\n",
       "      <td>100</td>\n",
       "      <td>2.1421</td>\n",
       "      <td>train</td>\n",
       "    </tr>\n",
       "    <tr>\n",
       "      <th>2</th>\n",
       "      <td>200</td>\n",
       "      <td>0.8817</td>\n",
       "      <td>train</td>\n",
       "    </tr>\n",
       "    <tr>\n",
       "      <th>4</th>\n",
       "      <td>300</td>\n",
       "      <td>0.8563</td>\n",
       "      <td>train</td>\n",
       "    </tr>\n",
       "    <tr>\n",
       "      <th>6</th>\n",
       "      <td>400</td>\n",
       "      <td>0.8171</td>\n",
       "      <td>train</td>\n",
       "    </tr>\n",
       "    <tr>\n",
       "      <th>8</th>\n",
       "      <td>500</td>\n",
       "      <td>0.8214</td>\n",
       "      <td>train</td>\n",
       "    </tr>\n",
       "  </tbody>\n",
       "</table>\n",
       "</div>"
      ],
      "text/plain": [
       "   step    loss   type\n",
       "0   100  2.1421  train\n",
       "2   200  0.8817  train\n",
       "4   300  0.8563  train\n",
       "6   400  0.8171  train\n",
       "8   500  0.8214  train"
      ]
     },
     "execution_count": 19,
     "metadata": {},
     "output_type": "execute_result"
    }
   ],
   "source": [
    "loss_df = log_df[[\"step\", \"loss\"]].dropna().copy()\n",
    "loss_df[\"type\"] = \"train\"\n",
    "loss_df"
   ]
  },
  {
   "cell_type": "code",
   "execution_count": 20,
   "metadata": {},
   "outputs": [
    {
     "data": {
      "text/html": [
       "<div>\n",
       "<style scoped>\n",
       "    .dataframe tbody tr th:only-of-type {\n",
       "        vertical-align: middle;\n",
       "    }\n",
       "\n",
       "    .dataframe tbody tr th {\n",
       "        vertical-align: top;\n",
       "    }\n",
       "\n",
       "    .dataframe thead th {\n",
       "        text-align: right;\n",
       "    }\n",
       "</style>\n",
       "<table border=\"1\" class=\"dataframe\">\n",
       "  <thead>\n",
       "    <tr style=\"text-align: right;\">\n",
       "      <th></th>\n",
       "      <th>step</th>\n",
       "      <th>loss</th>\n",
       "      <th>type</th>\n",
       "    </tr>\n",
       "  </thead>\n",
       "  <tbody>\n",
       "    <tr>\n",
       "      <th>1</th>\n",
       "      <td>100</td>\n",
       "      <td>0.923598</td>\n",
       "      <td>eval</td>\n",
       "    </tr>\n",
       "    <tr>\n",
       "      <th>3</th>\n",
       "      <td>200</td>\n",
       "      <td>0.830296</td>\n",
       "      <td>eval</td>\n",
       "    </tr>\n",
       "    <tr>\n",
       "      <th>5</th>\n",
       "      <td>300</td>\n",
       "      <td>0.816970</td>\n",
       "      <td>eval</td>\n",
       "    </tr>\n",
       "    <tr>\n",
       "      <th>7</th>\n",
       "      <td>400</td>\n",
       "      <td>0.810600</td>\n",
       "      <td>eval</td>\n",
       "    </tr>\n",
       "    <tr>\n",
       "      <th>9</th>\n",
       "      <td>500</td>\n",
       "      <td>0.808871</td>\n",
       "      <td>eval</td>\n",
       "    </tr>\n",
       "  </tbody>\n",
       "</table>\n",
       "</div>"
      ],
      "text/plain": [
       "   step      loss  type\n",
       "1   100  0.923598  eval\n",
       "3   200  0.830296  eval\n",
       "5   300  0.816970  eval\n",
       "7   400  0.810600  eval\n",
       "9   500  0.808871  eval"
      ]
     },
     "execution_count": 20,
     "metadata": {},
     "output_type": "execute_result"
    }
   ],
   "source": [
    "eval_loss_df = log_df[[\"step\", \"eval_loss\"]].dropna().copy()\n",
    "eval_loss_df = eval_loss_df.rename(columns={\"eval_loss\": \"loss\"})\n",
    "eval_loss_df[\"type\"] = \"eval\"\n",
    "eval_loss_df"
   ]
  },
  {
   "cell_type": "code",
   "execution_count": 21,
   "metadata": {},
   "outputs": [
    {
     "data": {
      "text/html": [
       "<div>\n",
       "<style scoped>\n",
       "    .dataframe tbody tr th:only-of-type {\n",
       "        vertical-align: middle;\n",
       "    }\n",
       "\n",
       "    .dataframe tbody tr th {\n",
       "        vertical-align: top;\n",
       "    }\n",
       "\n",
       "    .dataframe thead th {\n",
       "        text-align: right;\n",
       "    }\n",
       "</style>\n",
       "<table border=\"1\" class=\"dataframe\">\n",
       "  <thead>\n",
       "    <tr style=\"text-align: right;\">\n",
       "      <th></th>\n",
       "      <th>step</th>\n",
       "      <th>loss</th>\n",
       "      <th>type</th>\n",
       "    </tr>\n",
       "  </thead>\n",
       "  <tbody>\n",
       "    <tr>\n",
       "      <th>0</th>\n",
       "      <td>100</td>\n",
       "      <td>2.142100</td>\n",
       "      <td>train</td>\n",
       "    </tr>\n",
       "    <tr>\n",
       "      <th>2</th>\n",
       "      <td>200</td>\n",
       "      <td>0.881700</td>\n",
       "      <td>train</td>\n",
       "    </tr>\n",
       "    <tr>\n",
       "      <th>4</th>\n",
       "      <td>300</td>\n",
       "      <td>0.856300</td>\n",
       "      <td>train</td>\n",
       "    </tr>\n",
       "    <tr>\n",
       "      <th>6</th>\n",
       "      <td>400</td>\n",
       "      <td>0.817100</td>\n",
       "      <td>train</td>\n",
       "    </tr>\n",
       "    <tr>\n",
       "      <th>8</th>\n",
       "      <td>500</td>\n",
       "      <td>0.821400</td>\n",
       "      <td>train</td>\n",
       "    </tr>\n",
       "    <tr>\n",
       "      <th>1</th>\n",
       "      <td>100</td>\n",
       "      <td>0.923598</td>\n",
       "      <td>eval</td>\n",
       "    </tr>\n",
       "    <tr>\n",
       "      <th>3</th>\n",
       "      <td>200</td>\n",
       "      <td>0.830296</td>\n",
       "      <td>eval</td>\n",
       "    </tr>\n",
       "    <tr>\n",
       "      <th>5</th>\n",
       "      <td>300</td>\n",
       "      <td>0.816970</td>\n",
       "      <td>eval</td>\n",
       "    </tr>\n",
       "    <tr>\n",
       "      <th>7</th>\n",
       "      <td>400</td>\n",
       "      <td>0.810600</td>\n",
       "      <td>eval</td>\n",
       "    </tr>\n",
       "    <tr>\n",
       "      <th>9</th>\n",
       "      <td>500</td>\n",
       "      <td>0.808871</td>\n",
       "      <td>eval</td>\n",
       "    </tr>\n",
       "  </tbody>\n",
       "</table>\n",
       "</div>"
      ],
      "text/plain": [
       "   step      loss   type\n",
       "0   100  2.142100  train\n",
       "2   200  0.881700  train\n",
       "4   300  0.856300  train\n",
       "6   400  0.817100  train\n",
       "8   500  0.821400  train\n",
       "1   100  0.923598   eval\n",
       "3   200  0.830296   eval\n",
       "5   300  0.816970   eval\n",
       "7   400  0.810600   eval\n",
       "9   500  0.808871   eval"
      ]
     },
     "execution_count": 21,
     "metadata": {},
     "output_type": "execute_result"
    }
   ],
   "source": [
    "plot_df = pd.concat([loss_df, eval_loss_df])\n",
    "plot_df"
   ]
  },
  {
   "cell_type": "code",
   "execution_count": 23,
   "metadata": {},
   "outputs": [
    {
     "data": {
      "image/png": "[encoded data removed]",
      "text/plain": [
       "<Figure size 1000x500 with 1 Axes>"
      ]
     },
     "metadata": {},
     "output_type": "display_data"
    }
   ],
   "source": [
    "sns.set(style=\"whitegrid\")\n",
    "plt.figure(figsize=(10, 5))\n",
    "sns.lineplot(data=plot_df, x=\"step\", y=\"loss\", hue=\"type\", marker=\"o\")\n",
    "plt.title(\"Training vs Validation Loss\")\n",
    "plt.xlabel(\"Training Step\")\n",
    "plt.ylabel(\"Loss\")\n",
    "plt.tight_layout()\n",
    "plt.show()"
   ]
  },
  {
   "cell_type": "code",
   "execution_count": 24,
   "metadata": {},
   "outputs": [
    {
     "data": {
      "text/plain": [
       "('models/gpt-neo-lora-checkpoint-final/tokenizer_config.json',\n",
       " 'models/gpt-neo-lora-checkpoint-final/special_tokens_map.json',\n",
       " 'models/gpt-neo-lora-checkpoint-final/vocab.json',\n",
       " 'models/gpt-neo-lora-checkpoint-final/merges.txt',\n",
       " 'models/gpt-neo-lora-checkpoint-final/added_tokens.json',\n",
       " 'models/gpt-neo-lora-checkpoint-final/tokenizer.json')"
      ]
     },
     "execution_count": 24,
     "metadata": {},
     "output_type": "execute_result"
    }
   ],
   "source": [
    "model.save_pretrained(\"models/gpt-neo-lora-checkpoint-final\")\n",
    "tokenizer.save_pretrained(\"models/gpt-neo-lora-checkpoint-final\")"
   ]
  }
 ],
 "metadata": {
  "kernelspec": {
   "display_name": "Python 3 (ipykernel)",
   "language": "python",
   "name": "python3"
  },
  "language_info": {
   "codemirror_mode": {
    "name": "ipython",
    "version": 3
   },
   "file_extension": ".py",
   "mimetype": "text/x-python",
   "name": "python",
   "nbconvert_exporter": "python",
   "pygments_lexer": "ipython3",
   "version": "3.12.6"
  }
 },
 "nbformat": 4,
 "nbformat_minor": 4
}
